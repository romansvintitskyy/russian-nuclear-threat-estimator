{
 "cells": [
  {
   "attachments": {},
   "cell_type": "markdown",
   "metadata": {},
   "source": [
    "# Training SVM models on the Russian Nuclear Threat News Coverage"
   ]
  },
  {
   "attachments": {},
   "cell_type": "markdown",
   "metadata": {},
   "source": [
    "## Importing necessary libraries and depencies"
   ]
  },
  {
   "cell_type": "code",
   "execution_count": 22,
   "metadata": {},
   "outputs": [],
   "source": [
    "import numpy as np\n",
    "import pandas as pd\n",
    "import matplotlib.pyplot as plt\n",
    "\n",
    "from sklearn.model_selection import train_test_split\n",
    "from sklearn.feature_extraction.text import CountVectorizer\n",
    "from sklearn.feature_extraction.text import TfidfTransformer\n",
    "from sklearn.feature_extraction.text import TfidfVectorizer\n",
    "from sklearn.calibration import LinearSVC\n",
    "from sklearn import metrics\n",
    "from sklearn.utils import resample\n",
    "\n"
   ]
  },
  {
   "attachments": {},
   "cell_type": "markdown",
   "metadata": {},
   "source": [
    "## Sources used:\n",
    "\n",
    "- https://towardsdatascience.com/multi-class-text-classification-with-scikit-learn-12f1e60e0a9f\n",
    "- https://www.analyticsvidhya.com/blog/2021/06/5-techniques-to-handle-imbalanced-data-for-a-classification-problem/"
   ]
  },
  {
   "attachments": {},
   "cell_type": "markdown",
   "metadata": {},
   "source": [
    "## Training on dataset-full.csv"
   ]
  },
  {
   "cell_type": "code",
   "execution_count": 23,
   "metadata": {},
   "outputs": [
    {
     "data": {
      "text/html": [
       "<div>\n",
       "<style scoped>\n",
       "    .dataframe tbody tr th:only-of-type {\n",
       "        vertical-align: middle;\n",
       "    }\n",
       "\n",
       "    .dataframe tbody tr th {\n",
       "        vertical-align: top;\n",
       "    }\n",
       "\n",
       "    .dataframe thead th {\n",
       "        text-align: right;\n",
       "    }\n",
       "</style>\n",
       "<table border=\"1\" class=\"dataframe\">\n",
       "  <thead>\n",
       "    <tr style=\"text-align: right;\">\n",
       "      <th></th>\n",
       "      <th>date</th>\n",
       "      <th>text</th>\n",
       "      <th>side</th>\n",
       "      <th>label</th>\n",
       "    </tr>\n",
       "  </thead>\n",
       "  <tbody>\n",
       "    <tr>\n",
       "      <th>0</th>\n",
       "      <td>2022-01-27</td>\n",
       "      <td>Medvedev sees no need to review Russia’s nucle...</td>\n",
       "      <td>r</td>\n",
       "      <td>W</td>\n",
       "    </tr>\n",
       "    <tr>\n",
       "      <th>1</th>\n",
       "      <td>2022-01-27</td>\n",
       "      <td>/TASS/.</td>\n",
       "      <td>r</td>\n",
       "      <td>W</td>\n",
       "    </tr>\n",
       "    <tr>\n",
       "      <th>2</th>\n",
       "      <td>2022-01-27</td>\n",
       "      <td>There is no need to review Russia’s nuclear do...</td>\n",
       "      <td>r</td>\n",
       "      <td>W</td>\n",
       "    </tr>\n",
       "    <tr>\n",
       "      <th>3</th>\n",
       "      <td>2022-01-27</td>\n",
       "      <td>\"As for reviewing the nuclear doctrine, I don’...</td>\n",
       "      <td>r</td>\n",
       "      <td>W</td>\n",
       "    </tr>\n",
       "    <tr>\n",
       "      <th>4</th>\n",
       "      <td>2022-01-27</td>\n",
       "      <td>Medvedev explained that all the necessary aspe...</td>\n",
       "      <td>r</td>\n",
       "      <td>W</td>\n",
       "    </tr>\n",
       "  </tbody>\n",
       "</table>\n",
       "</div>"
      ],
      "text/plain": [
       "         date                                               text side label\n",
       "0  2022-01-27  Medvedev sees no need to review Russia’s nucle...    r     W\n",
       "1  2022-01-27                                            /TASS/.    r     W\n",
       "2  2022-01-27  There is no need to review Russia’s nuclear do...    r     W\n",
       "3  2022-01-27  \"As for reviewing the nuclear doctrine, I don’...    r     W\n",
       "4  2022-01-27  Medvedev explained that all the necessary aspe...    r     W"
      ]
     },
     "execution_count": 23,
     "metadata": {},
     "output_type": "execute_result"
    }
   ],
   "source": [
    "df = pd.read_csv('datasets/dataset-full.csv' , lineterminator='\\n')\n",
    "df.head()"
   ]
  },
  {
   "cell_type": "code",
   "execution_count": 67,
   "metadata": {},
   "outputs": [
    {
     "data": {
      "image/png": "[encoded data removed]",
      "text/plain": [
       "<Figure size 800x600 with 1 Axes>"
      ]
     },
     "metadata": {},
     "output_type": "display_data"
    }
   ],
   "source": [
    "fig = plt.figure(figsize=(8,6))\n",
    "df.groupby('label')['text'].count().plot.bar(ylim=0)\n",
    "plt.title(\"Dataset without balancing\")\n",
    "plt.show()"
   ]
  },
  {
   "cell_type": "code",
   "execution_count": 31,
   "metadata": {},
   "outputs": [],
   "source": [
    "#create two different dataframe of majority and minority class \n",
    "df_majority = df[(df['label']=='W')] \n",
    "df_minority = df[(df['label']=='E')] \n",
    "# upsample minority class\n",
    "df_minority_upsampled = resample(df_minority, \n",
    "                                 replace=True,    # sample with replacement\n",
    "                                 n_samples= df_majority.shape[0], # to match majority class\n",
    "                                 random_state=0)  # reproducible results\n",
    "# Combine majority class with upsampled minority class\n",
    "df_upsampled = pd.concat([df_minority_upsampled, df_majority])\n",
    "\n",
    "# downsample majority class\n",
    "df_bal = resample(df[(df['label']=='D')], \n",
    "                                 replace=True,    # sample with replacement\n",
    "                                 n_samples= df_upsampled[df_upsampled['label']=='E'].shape[0], # to match majority class\n",
    "                                 random_state=0)  # reproducible results\n",
    "# Combine majority class with upsampled minority class\n",
    "df_balanced = pd.concat([df_bal, df_upsampled])\n"
   ]
  },
  {
   "cell_type": "code",
   "execution_count": 66,
   "metadata": {},
   "outputs": [
    {
     "data": {
      "image/png": "[encoded data removed]",
      "text/plain": [
       "<Figure size 800x600 with 1 Axes>"
      ]
     },
     "metadata": {},
     "output_type": "display_data"
    }
   ],
   "source": [
    "fig = plt.figure(figsize=(8,6))\n",
    "df_balanced.groupby('label')['text'].count().plot.bar(ylim=0)\n",
    "plt.title(\"Balanced Dataset\")\n",
    "plt.show()"
   ]
  },
  {
   "cell_type": "code",
   "execution_count": 68,
   "metadata": {},
   "outputs": [
    {
     "data": {
      "image/png": "[encoded data removed]",
      "text/plain": [
       "<Figure size 800x600 with 1 Axes>"
      ]
     },
     "metadata": {},
     "output_type": "display_data"
    }
   ],
   "source": [
    "fig = plt.figure(figsize=(8,6))\n",
    "df.groupby('side')['text'].count().plot.bar(ylim=0)\n",
    "plt.title(\"Dataset without balancing\")\n",
    "plt.show()"
   ]
  },
  {
   "cell_type": "code",
   "execution_count": 83,
   "metadata": {},
   "outputs": [
    {
     "data": {
      "image/png": "[encoded data removed]",
      "text/plain": [
       "<Figure size 800x600 with 1 Axes>"
      ]
     },
     "metadata": {},
     "output_type": "display_data"
    }
   ],
   "source": [
    "fig = plt.figure(figsize=(8,6))\n",
    "df_balanced.groupby('side')['text'].count().plot.bar(ylim=0)\n",
    "plt.title(\"Dataset without balancing\")\n",
    "plt.show()"
   ]
  },
  {
   "cell_type": "code",
   "execution_count": 41,
   "metadata": {},
   "outputs": [
    {
     "data": {
      "text/plain": [
       "(7152, 4)"
      ]
     },
     "execution_count": 41,
     "metadata": {},
     "output_type": "execute_result"
    }
   ],
   "source": [
    "df_balanced.shape"
   ]
  },
  {
   "attachments": {},
   "cell_type": "markdown",
   "metadata": {},
   "source": [
    "### Training an SVM model on 'label' (imbalanced dataset)"
   ]
  },
  {
   "cell_type": "code",
   "execution_count": 49,
   "metadata": {},
   "outputs": [
    {
     "name": "stdout",
     "output_type": "stream",
     "text": [
      "              precision    recall  f1-score   support\n",
      "\n",
      "           W       0.63      0.68      0.65       636\n",
      "           E       0.49      0.38      0.43       263\n",
      "           D       0.55      0.56      0.56       463\n",
      "\n",
      "    accuracy                           0.58      1362\n",
      "   macro avg       0.56      0.54      0.55      1362\n",
      "weighted avg       0.58      0.58      0.58      1362\n",
      "\n"
     ]
    }
   ],
   "source": [
    "# Training to predict labels on imbalanced dataset\n",
    "\n",
    "tfidf = TfidfVectorizer(sublinear_tf=True, min_df=5, norm='l2', encoding='latin-1', ngram_range=(1, 2), stop_words='english')\n",
    "features = tfidf.fit_transform(df['text']).toarray()\n",
    "labels = df['label']\n",
    "side = df['side']\n",
    "features.shape\n",
    "\n",
    "\n",
    "model = LinearSVC()\n",
    "X_train, X_test, y_train, y_test, indices_train, indices_test = train_test_split(features, labels, df.index, test_size=0.2, random_state=0)\n",
    "model.fit(X_train, y_train)\n",
    "y_pred = model.predict(X_test)\n",
    "\n",
    "print(metrics.classification_report(y_test, y_pred, \n",
    "                                    target_names=labels.unique()))\n"
   ]
  },
  {
   "attachments": {},
   "cell_type": "markdown",
   "metadata": {},
   "source": [
    "### Training an SVM model on 'label'  (balanced dataset)"
   ]
  },
  {
   "cell_type": "code",
   "execution_count": 71,
   "metadata": {},
   "outputs": [
    {
     "name": "stdout",
     "output_type": "stream",
     "text": [
      "              precision    recall  f1-score   support\n",
      "\n",
      "           D       0.68      0.71      0.69       467\n",
      "           E       0.76      0.81      0.78       497\n",
      "           W       0.70      0.61      0.65       467\n",
      "\n",
      "    accuracy                           0.71      1431\n",
      "   macro avg       0.71      0.71      0.71      1431\n",
      "weighted avg       0.71      0.71      0.71      1431\n",
      "\n"
     ]
    }
   ],
   "source": [
    "# Training to predict labels on the balanced dataset\n",
    "\n",
    "# TF-IDF for label\n",
    "\n",
    "tfidf_bal = TfidfVectorizer(sublinear_tf=True, min_df=5, norm='l2', encoding='latin-1', ngram_range=(1, 2), stop_words='english')\n",
    "features_bal = tfidf_bal.fit_transform(df_balanced['text']).toarray()\n",
    "labels_bal = df_balanced['label']\n",
    "side_bal = df_balanced['side']\n",
    "features_bal.shape\n",
    "\n",
    "model = LinearSVC()\n",
    "X_train, X_test, y_train, y_test, indices_train, indices_test = train_test_split(features_bal, labels_bal, df_balanced.index, test_size=0.2, random_state=0)\n",
    "model.fit(X_train, y_train)\n",
    "y_pred = model.predict(X_test)\n",
    "\n",
    "print(metrics.classification_report(y_test, y_pred, \n",
    "                                    target_names=labels_bal.unique()))\n",
    "\n"
   ]
  },
  {
   "attachments": {},
   "cell_type": "markdown",
   "metadata": {},
   "source": [
    "### Training an SVM model on 'side' (imbalanced dataset)"
   ]
  },
  {
   "cell_type": "code",
   "execution_count": 8,
   "metadata": {},
   "outputs": [
    {
     "name": "stdout",
     "output_type": "stream",
     "text": [
      "              precision    recall  f1-score   support\n",
      "\n",
      "           r       0.79      0.78      0.78       665\n",
      "           w       0.79      0.80      0.80       697\n",
      "\n",
      "    accuracy                           0.79      1362\n",
      "   macro avg       0.79      0.79      0.79      1362\n",
      "weighted avg       0.79      0.79      0.79      1362\n",
      "\n"
     ]
    }
   ],
   "source": [
    "# Training to predict sides on imbalanced dataset\n",
    "\n",
    "model = LinearSVC()\n",
    "X_train, X_test, y_train, y_test, indices_train, indices_test = train_test_split(features, side, df.index, test_size=0.2, random_state=0)\n",
    "model.fit(X_train, y_train)\n",
    "y_pred = model.predict(X_test)\n",
    "\n",
    "print(metrics.classification_report(y_test, y_pred, \n",
    "                                    target_names=side.unique()))\n"
   ]
  },
  {
   "attachments": {},
   "cell_type": "markdown",
   "metadata": {},
   "source": [
    "### Training an SVM model on 'side' (balanced dataset)"
   ]
  },
  {
   "cell_type": "code",
   "execution_count": 72,
   "metadata": {},
   "outputs": [
    {
     "name": "stdout",
     "output_type": "stream",
     "text": [
      "              precision    recall  f1-score   support\n",
      "\n",
      "           r       0.87      0.89      0.88       746\n",
      "           w       0.88      0.86      0.87       685\n",
      "\n",
      "    accuracy                           0.87      1431\n",
      "   macro avg       0.88      0.87      0.87      1431\n",
      "weighted avg       0.87      0.87      0.87      1431\n",
      "\n"
     ]
    }
   ],
   "source": [
    "# Training to predict sides on balanced dataset\n",
    "\n",
    "model = LinearSVC()\n",
    "X_train, X_test, y_train, y_test, indices_train, indices_test = train_test_split(features_bal, side_bal, df_balanced.index, test_size=0.2, random_state=0)\n",
    "model.fit(X_train, y_train)\n",
    "y_pred = model.predict(X_test)\n",
    "\n",
    "print(metrics.classification_report(y_test, y_pred, \n",
    "                                    target_names=side_bal.unique()))\n",
    "\n"
   ]
  },
  {
   "attachments": {},
   "cell_type": "markdown",
   "metadata": {},
   "source": [
    "## Training on dataset-medium.csv"
   ]
  },
  {
   "cell_type": "code",
   "execution_count": 50,
   "metadata": {},
   "outputs": [
    {
     "data": {
      "text/html": [
       "<div>\n",
       "<style scoped>\n",
       "    .dataframe tbody tr th:only-of-type {\n",
       "        vertical-align: middle;\n",
       "    }\n",
       "\n",
       "    .dataframe tbody tr th {\n",
       "        vertical-align: top;\n",
       "    }\n",
       "\n",
       "    .dataframe thead th {\n",
       "        text-align: right;\n",
       "    }\n",
       "</style>\n",
       "<table border=\"1\" class=\"dataframe\">\n",
       "  <thead>\n",
       "    <tr style=\"text-align: right;\">\n",
       "      <th></th>\n",
       "      <th>date</th>\n",
       "      <th>text</th>\n",
       "      <th>side</th>\n",
       "      <th>label</th>\n",
       "    </tr>\n",
       "  </thead>\n",
       "  <tbody>\n",
       "    <tr>\n",
       "      <th>0</th>\n",
       "      <td>2022-01-27 00:00:00</td>\n",
       "      <td>A month before the invasion, the Russian leade...</td>\n",
       "      <td>r</td>\n",
       "      <td>W</td>\n",
       "    </tr>\n",
       "    <tr>\n",
       "      <th>1</th>\n",
       "      <td>2022-01-27 00:00:00</td>\n",
       "      <td>Dmitry\\r Medvedev, the Deputy Chairman of the ...</td>\n",
       "      <td>r</td>\n",
       "      <td>W</td>\n",
       "    </tr>\n",
       "    <tr>\n",
       "      <th>2</th>\n",
       "      <td>2022-01-27 00:00:00</td>\n",
       "      <td>Moscow had “the right” to use strategic nuclea...</td>\n",
       "      <td>r</td>\n",
       "      <td>W</td>\n",
       "    </tr>\n",
       "    <tr>\n",
       "      <th>3</th>\n",
       "      <td>2022-01-27 00:00:00</td>\n",
       "      <td>This was “a\\r comprehensive formula” that made...</td>\n",
       "      <td>r</td>\n",
       "      <td>W</td>\n",
       "    </tr>\n",
       "    <tr>\n",
       "      <th>4</th>\n",
       "      <td>2022-02-07 00:00:00</td>\n",
       "      <td>Ten days later, Putin continued developing the...</td>\n",
       "      <td>r</td>\n",
       "      <td>E</td>\n",
       "    </tr>\n",
       "  </tbody>\n",
       "</table>\n",
       "</div>"
      ],
      "text/plain": [
       "                  date                                               text   \n",
       "0  2022-01-27 00:00:00  A month before the invasion, the Russian leade...  \\\n",
       "1  2022-01-27 00:00:00  Dmitry\\r Medvedev, the Deputy Chairman of the ...   \n",
       "2  2022-01-27 00:00:00  Moscow had “the right” to use strategic nuclea...   \n",
       "3  2022-01-27 00:00:00  This was “a\\r comprehensive formula” that made...   \n",
       "4  2022-02-07 00:00:00  Ten days later, Putin continued developing the...   \n",
       "\n",
       "  side label  \n",
       "0    r     W  \n",
       "1    r     W  \n",
       "2    r     W  \n",
       "3    r     W  \n",
       "4    r     E  "
      ]
     },
     "execution_count": 50,
     "metadata": {},
     "output_type": "execute_result"
    }
   ],
   "source": [
    "df_med = pd.read_csv('datasets/dataset-medium.csv' , lineterminator='\\n')\n",
    "df_med.head()"
   ]
  },
  {
   "cell_type": "code",
   "execution_count": 73,
   "metadata": {},
   "outputs": [
    {
     "data": {
      "image/png": "[encoded data removed]",
      "text/plain": [
       "<Figure size 800x600 with 1 Axes>"
      ]
     },
     "metadata": {},
     "output_type": "display_data"
    }
   ],
   "source": [
    "fig = plt.figure(figsize=(8,6))\n",
    "df_med.groupby('label')['text'].count().plot.bar(ylim=0)\n",
    "plt.title(\"Dataset without balancing\")\n",
    "plt.show()"
   ]
  },
  {
   "cell_type": "code",
   "execution_count": 74,
   "metadata": {},
   "outputs": [],
   "source": [
    "#create two different dataframe of majority and minority class \n",
    "df_majority_med = df_med[(df_med['label']=='W')] \n",
    "df_minority_med = df_med[(df_med['label']=='E')] \n",
    "# upsample minority class\n",
    "df_minority_upsampled_med = resample(df_minority_med, \n",
    "                                 replace=True,    # sample with replacement\n",
    "                                 n_samples= df_majority_med.shape[0], # to match majority class\n",
    "                                 random_state=0)  # reproducible results\n",
    "# Combine majority class with upsampled minority class\n",
    "df_upsampled_med = pd.concat([df_minority_upsampled_med, df_majority_med])\n",
    "\n",
    "# downsample majority class\n",
    "df_bal_med = resample(df_med[(df_med['label']=='D')], \n",
    "                                 replace=True,    # sample with replacement\n",
    "                                 n_samples= df_upsampled_med[df_upsampled_med['label']=='E'].shape[0], # to match majority class\n",
    "                                 random_state=0)  # reproducible results\n",
    "# Combine majority class with upsampled minority class\n",
    "df_balanced_med = pd.concat([df_bal_med, df_upsampled_med])\n",
    "\n"
   ]
  },
  {
   "cell_type": "code",
   "execution_count": 75,
   "metadata": {},
   "outputs": [
    {
     "data": {
      "image/png": "[encoded data removed]",
      "text/plain": [
       "<Figure size 800x600 with 1 Axes>"
      ]
     },
     "metadata": {},
     "output_type": "display_data"
    }
   ],
   "source": [
    "fig = plt.figure(figsize=(8,6))\n",
    "df_balanced_med.groupby('label')['text'].count().plot.bar(ylim=0)\n",
    "plt.title(\"Balanced Dataset\")\n",
    "plt.show()"
   ]
  },
  {
   "cell_type": "code",
   "execution_count": 81,
   "metadata": {},
   "outputs": [
    {
     "data": {
      "image/png": "[encoded data removed]",
      "text/plain": [
       "<Figure size 800x600 with 1 Axes>"
      ]
     },
     "metadata": {},
     "output_type": "display_data"
    }
   ],
   "source": [
    "fig = plt.figure(figsize=(8,6))\n",
    "df_med.groupby('side')['text'].count().plot.bar(ylim=0)\n",
    "plt.title(\"Dataset without balancing\")\n",
    "plt.show()"
   ]
  },
  {
   "cell_type": "code",
   "execution_count": 82,
   "metadata": {},
   "outputs": [
    {
     "data": {
      "image/png": "[encoded data removed]",
      "text/plain": [
       "<Figure size 800x600 with 1 Axes>"
      ]
     },
     "metadata": {},
     "output_type": "display_data"
    }
   ],
   "source": [
    "fig = plt.figure(figsize=(8,6))\n",
    "df_balanced_med.groupby('side')['text'].count().plot.bar(ylim=0)\n",
    "plt.title(\"Dataset without balancing\")\n",
    "plt.show()"
   ]
  },
  {
   "attachments": {},
   "cell_type": "markdown",
   "metadata": {},
   "source": [
    "### Training an SVM model on 'label' (imbalanced dataset)"
   ]
  },
  {
   "cell_type": "code",
   "execution_count": 77,
   "metadata": {},
   "outputs": [
    {
     "data": {
      "text/plain": [
       "(579, 327)"
      ]
     },
     "execution_count": 77,
     "metadata": {},
     "output_type": "execute_result"
    }
   ],
   "source": [
    "# TF-IDF for imbalanced dataset\n",
    "\n",
    "tfidf_med = TfidfVectorizer(sublinear_tf=True, min_df=5, norm='l2', encoding='latin-1', ngram_range=(1, 2), stop_words='english')\n",
    "features_med = tfidf.fit_transform(df_med['text']).toarray()\n",
    "labels_med = df_med['label']\n",
    "side_med = df_med['side']\n",
    "features_med.shape\n"
   ]
  },
  {
   "cell_type": "code",
   "execution_count": 78,
   "metadata": {},
   "outputs": [
    {
     "name": "stdout",
     "output_type": "stream",
     "text": [
      "              precision    recall  f1-score   support\n",
      "\n",
      "           W       0.58      0.70      0.63        66\n",
      "           E       0.17      0.10      0.12        10\n",
      "           D       0.39      0.30      0.34        40\n",
      "\n",
      "    accuracy                           0.51       116\n",
      "   macro avg       0.38      0.37      0.37       116\n",
      "weighted avg       0.48      0.51      0.49       116\n",
      "\n"
     ]
    }
   ],
   "source": [
    "# Training to predict labels on imbalanced dataset\n",
    "\n",
    "model = LinearSVC()\n",
    "X_train, X_test, y_train, y_test, indices_train, indices_test = train_test_split(features_med, labels_med, df_med.index, test_size=0.2, random_state=0)\n",
    "model.fit(X_train, y_train)\n",
    "y_pred = model.predict(X_test)\n",
    "\n",
    "print(metrics.classification_report(y_test, y_pred, \n",
    "                                    target_names=labels.unique()))\n"
   ]
  },
  {
   "attachments": {},
   "cell_type": "markdown",
   "metadata": {},
   "source": [
    "### Training to train an SVM model on 'side' (imbalanced dataset)"
   ]
  },
  {
   "cell_type": "code",
   "execution_count": 79,
   "metadata": {},
   "outputs": [
    {
     "name": "stdout",
     "output_type": "stream",
     "text": [
      "              precision    recall  f1-score   support\n",
      "\n",
      "           r       0.76      0.81      0.79        64\n",
      "           w       0.75      0.69      0.72        52\n",
      "\n",
      "    accuracy                           0.76       116\n",
      "   macro avg       0.76      0.75      0.75       116\n",
      "weighted avg       0.76      0.76      0.76       116\n",
      "\n"
     ]
    }
   ],
   "source": [
    "# Training to predict sides on imbalanced dataset\n",
    "\n",
    "model = LinearSVC()\n",
    "X_train, X_test, y_train, y_test, indices_train, indices_test = train_test_split(features_med, side_med, df_med.index, test_size=0.2, random_state=0)\n",
    "model.fit(X_train, y_train)\n",
    "y_pred = model.predict(X_test)\n",
    "\n",
    "print(metrics.classification_report(y_test, y_pred, \n",
    "                                    target_names=side.unique()))\n"
   ]
  },
  {
   "attachments": {},
   "cell_type": "markdown",
   "metadata": {},
   "source": [
    "### Training an SVM model on 'label' (balanced dataset)"
   ]
  },
  {
   "cell_type": "code",
   "execution_count": 84,
   "metadata": {},
   "outputs": [
    {
     "name": "stdout",
     "output_type": "stream",
     "text": [
      "              precision    recall  f1-score   support\n",
      "\n",
      "           D       0.69      0.60      0.64        42\n",
      "           E       0.80      0.95      0.87        39\n",
      "           W       0.66      0.65      0.65        48\n",
      "\n",
      "    accuracy                           0.72       129\n",
      "   macro avg       0.72      0.73      0.72       129\n",
      "weighted avg       0.71      0.72      0.71       129\n",
      "\n"
     ]
    }
   ],
   "source": [
    "# Training to predict labels on balanced dataset\n",
    "# TF-IDF for imbalanced dataset\n",
    "\n",
    "tfidf_med_bal = TfidfVectorizer(sublinear_tf=True, min_df=5, norm='l2', encoding='latin-1', ngram_range=(1, 2), stop_words='english')\n",
    "features_med_bal = tfidf.fit_transform(df_balanced_med['text']).toarray()\n",
    "labels_med_bal = df_balanced_med['label']\n",
    "side_med_bal = df_balanced_med['side']\n",
    "features_med_bal.shape\n",
    "\n",
    "\n",
    "\n",
    "model = LinearSVC()\n",
    "X_train, X_test, y_train, y_test, indices_train, indices_test = train_test_split(features_med_bal, labels_med_bal, df_balanced_med.index, test_size=0.2, random_state=0)\n",
    "model.fit(X_train, y_train)\n",
    "y_pred = model.predict(X_test)\n",
    "\n",
    "print(metrics.classification_report(y_test, y_pred, \n",
    "                                    target_names=labels_med_bal.unique()))\n"
   ]
  },
  {
   "attachments": {},
   "cell_type": "markdown",
   "metadata": {},
   "source": [
    "### Training an SVM model on 'side' (balanced dataset)"
   ]
  },
  {
   "cell_type": "code",
   "execution_count": 85,
   "metadata": {},
   "outputs": [
    {
     "name": "stdout",
     "output_type": "stream",
     "text": [
      "              precision    recall  f1-score   support\n",
      "\n",
      "           r       0.80      0.88      0.83        72\n",
      "           w       0.82      0.72      0.77        57\n",
      "\n",
      "    accuracy                           0.81       129\n",
      "   macro avg       0.81      0.80      0.80       129\n",
      "weighted avg       0.81      0.81      0.80       129\n",
      "\n"
     ]
    }
   ],
   "source": [
    "model = LinearSVC()\n",
    "X_train, X_test, y_train, y_test, indices_train, indices_test = train_test_split(features_med_bal, side_med_bal, df_balanced_med.index, test_size=0.2, random_state=0)\n",
    "model.fit(X_train, y_train)\n",
    "y_pred = model.predict(X_test)\n",
    "\n",
    "print(metrics.classification_report(y_test, y_pred, \n",
    "                                    target_names=side_med_bal.unique()))\n"
   ]
  },
  {
   "attachments": {},
   "cell_type": "markdown",
   "metadata": {},
   "source": [
    "## Training on dataset-short.csv"
   ]
  },
  {
   "cell_type": "code",
   "execution_count": 91,
   "metadata": {},
   "outputs": [
    {
     "data": {
      "text/html": [
       "<div>\n",
       "<style scoped>\n",
       "    .dataframe tbody tr th:only-of-type {\n",
       "        vertical-align: middle;\n",
       "    }\n",
       "\n",
       "    .dataframe tbody tr th {\n",
       "        vertical-align: top;\n",
       "    }\n",
       "\n",
       "    .dataframe thead th {\n",
       "        text-align: right;\n",
       "    }\n",
       "</style>\n",
       "<table border=\"1\" class=\"dataframe\">\n",
       "  <thead>\n",
       "    <tr style=\"text-align: right;\">\n",
       "      <th></th>\n",
       "      <th>date</th>\n",
       "      <th>text</th>\n",
       "      <th>side</th>\n",
       "      <th>label</th>\n",
       "    </tr>\n",
       "  </thead>\n",
       "  <tbody>\n",
       "    <tr>\n",
       "      <th>0</th>\n",
       "      <td>2022-01-27 00:00:00</td>\n",
       "      <td>Medvedev: Russia has “the right” to use nuclea...</td>\n",
       "      <td>r</td>\n",
       "      <td>W</td>\n",
       "    </tr>\n",
       "    <tr>\n",
       "      <th>1</th>\n",
       "      <td>2022-02-07 00:00:00</td>\n",
       "      <td>Putin: If Ukraine attempts to take back Crimea...</td>\n",
       "      <td>r</td>\n",
       "      <td>E</td>\n",
       "    </tr>\n",
       "    <tr>\n",
       "      <th>2</th>\n",
       "      <td>2022-02-19 00:00:00</td>\n",
       "      <td>Yearly nuclear exercise, normally held in autumn.</td>\n",
       "      <td>r</td>\n",
       "      <td>W</td>\n",
       "    </tr>\n",
       "    <tr>\n",
       "      <th>3</th>\n",
       "      <td>2022-02-22 00:00:00</td>\n",
       "      <td>Putin: Ukraine is seeking to acquire tactical ...</td>\n",
       "      <td>r</td>\n",
       "      <td>W</td>\n",
       "    </tr>\n",
       "    <tr>\n",
       "      <th>4</th>\n",
       "      <td>2022-02-24 00:00:00</td>\n",
       "      <td>Putin: Whoever tries to hinder Russia will fac...</td>\n",
       "      <td>r</td>\n",
       "      <td>E</td>\n",
       "    </tr>\n",
       "  </tbody>\n",
       "</table>\n",
       "</div>"
      ],
      "text/plain": [
       "                  date                                               text   \n",
       "0  2022-01-27 00:00:00  Medvedev: Russia has “the right” to use nuclea...  \\\n",
       "1  2022-02-07 00:00:00  Putin: If Ukraine attempts to take back Crimea...   \n",
       "2  2022-02-19 00:00:00  Yearly nuclear exercise, normally held in autumn.   \n",
       "3  2022-02-22 00:00:00  Putin: Ukraine is seeking to acquire tactical ...   \n",
       "4  2022-02-24 00:00:00  Putin: Whoever tries to hinder Russia will fac...   \n",
       "\n",
       "  side label  \n",
       "0    r     W  \n",
       "1    r     E  \n",
       "2    r     W  \n",
       "3    r     W  \n",
       "4    r     E  "
      ]
     },
     "execution_count": 91,
     "metadata": {},
     "output_type": "execute_result"
    }
   ],
   "source": [
    "df_s = pd.read_csv('datasets/dataset-short.csv' , lineterminator='\\n')\n",
    "df_s.head()"
   ]
  },
  {
   "cell_type": "code",
   "execution_count": 92,
   "metadata": {},
   "outputs": [
    {
     "data": {
      "image/png": "[encoded data removed]",
      "text/plain": [
       "<Figure size 800x600 with 1 Axes>"
      ]
     },
     "metadata": {},
     "output_type": "display_data"
    }
   ],
   "source": [
    "fig = plt.figure(figsize=(8,6))\n",
    "df_s.groupby('label')['text'].count().plot.bar(ylim=0)\n",
    "plt.show()"
   ]
  },
  {
   "cell_type": "code",
   "execution_count": 98,
   "metadata": {},
   "outputs": [
    {
     "data": {
      "image/png": "[encoded data removed]",
      "text/plain": [
       "<Figure size 800x600 with 1 Axes>"
      ]
     },
     "metadata": {},
     "output_type": "display_data"
    }
   ],
   "source": [
    "#create two different dataframe of majority and minority class \n",
    "df_majority_s = df_s[(df_s['label']=='W')] \n",
    "df_minority_s = df_s[(df_s['label']=='E')] \n",
    "# upsample minority class\n",
    "df_minority_upsampled_s = resample(df_minority_s, \n",
    "                                 replace=True,    # sample with replacement\n",
    "                                 n_samples= df_majority_s.shape[0], # to match majority class\n",
    "                                 random_state=0)  # reproducible results\n",
    "# Combine majority class with upsampled minority class\n",
    "df_upsampled_s = pd.concat([df_minority_upsampled_s, df_majority_s])\n",
    "\n",
    "# upsample minority class\n",
    "df_bal_s = resample(df_s[(df_s['label']=='D')], \n",
    "                                 replace=True,    # sample with replacement\n",
    "                                 n_samples= df_upsampled_s[df_upsampled_s['label']=='E'].shape[0], # to match majority class\n",
    "                                 random_state=0)  # reproducible results\n",
    "# Combine majority class with upsampled minority class\n",
    "df_balanced_s = pd.concat([df_bal_s, df_upsampled_s])\n",
    "\n",
    "fig = plt.figure(figsize=(8,6))\n",
    "df_balanced_s.groupby('label')['text'].count().plot.bar(ylim=0)\n",
    "plt.title(\"Balanced Dataset\")\n",
    "plt.show()\n"
   ]
  },
  {
   "cell_type": "code",
   "execution_count": 99,
   "metadata": {},
   "outputs": [
    {
     "data": {
      "image/png": "[encoded data removed]",
      "text/plain": [
       "<Figure size 800x600 with 1 Axes>"
      ]
     },
     "metadata": {},
     "output_type": "display_data"
    }
   ],
   "source": [
    "fig = plt.figure(figsize=(8,6))\n",
    "df_s.groupby('side')['text'].count().plot.bar(ylim=0)\n",
    "plt.show()"
   ]
  },
  {
   "cell_type": "code",
   "execution_count": 100,
   "metadata": {},
   "outputs": [
    {
     "data": {
      "image/png": "[encoded data removed]",
      "text/plain": [
       "<Figure size 800x600 with 1 Axes>"
      ]
     },
     "metadata": {},
     "output_type": "display_data"
    }
   ],
   "source": [
    "fig = plt.figure(figsize=(8,6))\n",
    "df_balanced_s.groupby('side')['text'].count().plot.bar(ylim=0)\n",
    "plt.show()"
   ]
  },
  {
   "attachments": {},
   "cell_type": "markdown",
   "metadata": {},
   "source": [
    "### Training an SVM on 'side' (imbalanced dataset)"
   ]
  },
  {
   "cell_type": "code",
   "execution_count": 102,
   "metadata": {},
   "outputs": [
    {
     "name": "stdout",
     "output_type": "stream",
     "text": [
      "              precision    recall  f1-score   support\n",
      "\n",
      "           W       0.50      0.60      0.55        10\n",
      "           E       0.00      0.00      0.00         2\n",
      "           D       0.50      0.50      0.50        10\n",
      "\n",
      "    accuracy                           0.50        22\n",
      "   macro avg       0.33      0.37      0.35        22\n",
      "weighted avg       0.45      0.50      0.48        22\n",
      "\n"
     ]
    },
    {
     "name": "stderr",
     "output_type": "stream",
     "text": [
      "/Users/roman_sv/.pyenv/versions/3.11.1/lib/python3.11/site-packages/sklearn/metrics/_classification.py:1344: UndefinedMetricWarning: Precision and F-score are ill-defined and being set to 0.0 in labels with no predicted samples. Use `zero_division` parameter to control this behavior.\n",
      "  _warn_prf(average, modifier, msg_start, len(result))\n",
      "/Users/roman_sv/.pyenv/versions/3.11.1/lib/python3.11/site-packages/sklearn/metrics/_classification.py:1344: UndefinedMetricWarning: Precision and F-score are ill-defined and being set to 0.0 in labels with no predicted samples. Use `zero_division` parameter to control this behavior.\n",
      "  _warn_prf(average, modifier, msg_start, len(result))\n",
      "/Users/roman_sv/.pyenv/versions/3.11.1/lib/python3.11/site-packages/sklearn/metrics/_classification.py:1344: UndefinedMetricWarning: Precision and F-score are ill-defined and being set to 0.0 in labels with no predicted samples. Use `zero_division` parameter to control this behavior.\n",
      "  _warn_prf(average, modifier, msg_start, len(result))\n"
     ]
    }
   ],
   "source": [
    "# TF-IDF for label\n",
    "\n",
    "tfidf_s = TfidfVectorizer(sublinear_tf=True, min_df=5, norm='l2', encoding='latin-1', ngram_range=(1, 2), stop_words='english')\n",
    "features_s = tfidf_s.fit_transform(df_s['text']).toarray()\n",
    "labels_s = df_s['label']\n",
    "side_s = df_s['side']\n",
    "features_s.shape\n",
    "\n",
    "# Training to predict labels\n",
    "\n",
    "model = LinearSVC()\n",
    "X_train, X_test, y_train, y_test, indices_train, indices_test = train_test_split(features_s, labels_s, df_s.index, test_size=0.2, random_state=0)\n",
    "model.fit(X_train, y_train)\n",
    "y_pred = model.predict(X_test)\n",
    "\n",
    "print(metrics.classification_report(y_test, y_pred, \n",
    "                                    target_names=labels_s.unique()))\n",
    "\n"
   ]
  },
  {
   "attachments": {},
   "cell_type": "markdown",
   "metadata": {},
   "source": [
    "### Training an SVM on 'side' (imbalanced dataset)"
   ]
  },
  {
   "cell_type": "code",
   "execution_count": 104,
   "metadata": {},
   "outputs": [
    {
     "name": "stdout",
     "output_type": "stream",
     "text": [
      "              precision    recall  f1-score   support\n",
      "\n",
      "           r       0.73      0.73      0.73        15\n",
      "           w       0.43      0.43      0.43         7\n",
      "\n",
      "    accuracy                           0.64        22\n",
      "   macro avg       0.58      0.58      0.58        22\n",
      "weighted avg       0.64      0.64      0.64        22\n",
      "\n"
     ]
    }
   ],
   "source": [
    "# Training to predict labels\n",
    "\n",
    "model = LinearSVC()\n",
    "X_train, X_test, y_train, y_test, indices_train, indices_test = train_test_split(features_s, side_s, df_s.index, test_size=0.2, random_state=0)\n",
    "model.fit(X_train, y_train)\n",
    "y_pred = model.predict(X_test)\n",
    "\n",
    "print(metrics.classification_report(y_test, y_pred, \n",
    "                                    target_names=side_s.unique()))\n"
   ]
  },
  {
   "attachments": {},
   "cell_type": "markdown",
   "metadata": {},
   "source": [
    "### Training an SVM on 'label' (balanced dataset)"
   ]
  },
  {
   "cell_type": "code",
   "execution_count": 105,
   "metadata": {},
   "outputs": [
    {
     "name": "stdout",
     "output_type": "stream",
     "text": [
      "              precision    recall  f1-score   support\n",
      "\n",
      "           D       0.57      0.73      0.64        11\n",
      "           E       0.90      0.69      0.78        13\n",
      "           W       0.33      0.33      0.33         6\n",
      "\n",
      "    accuracy                           0.63        30\n",
      "   macro avg       0.60      0.58      0.59        30\n",
      "weighted avg       0.67      0.63      0.64        30\n",
      "\n"
     ]
    }
   ],
   "source": [
    "# TF-IDF for label\n",
    "\n",
    "tfidf_s_bal = TfidfVectorizer(sublinear_tf=True, min_df=5, norm='l2', encoding='latin-1', ngram_range=(1, 2), stop_words='english')\n",
    "features_s_bal = tfidf_s.fit_transform(df_balanced_s['text']).toarray()\n",
    "labels_s_bal = df_balanced_s['label']\n",
    "side_s_bal = df_balanced_s['side']\n",
    "features_s_bal.shape\n",
    "\n",
    "# Training to predict labels\n",
    "\n",
    "model = LinearSVC()\n",
    "X_train, X_test, y_train, y_test, indices_train, indices_test = train_test_split(features_s_bal, labels_s_bal, df_balanced_s.index, test_size=0.2, random_state=0)\n",
    "model.fit(X_train, y_train)\n",
    "y_pred = model.predict(X_test)\n",
    "\n",
    "print(metrics.classification_report(y_test, y_pred, \n",
    "                                    target_names=labels_s_bal.unique()))\n",
    "\n"
   ]
  },
  {
   "attachments": {},
   "cell_type": "markdown",
   "metadata": {},
   "source": [
    "### Training an SVM on 'side' (balanced dataset)"
   ]
  },
  {
   "cell_type": "code",
   "execution_count": 107,
   "metadata": {},
   "outputs": [
    {
     "name": "stdout",
     "output_type": "stream",
     "text": [
      "              precision    recall  f1-score   support\n",
      "\n",
      "           r       0.94      0.88      0.91        17\n",
      "           w       0.86      0.92      0.89        13\n",
      "\n",
      "    accuracy                           0.90        30\n",
      "   macro avg       0.90      0.90      0.90        30\n",
      "weighted avg       0.90      0.90      0.90        30\n",
      "\n"
     ]
    }
   ],
   "source": [
    "model = LinearSVC()\n",
    "X_train, X_test, y_train, y_test, indices_train, indices_test = train_test_split(features_s_bal, side_s_bal, df_balanced_s.index, test_size=0.2, random_state=0)\n",
    "model.fit(X_train, y_train)\n",
    "y_pred = model.predict(X_test)\n",
    "\n",
    "print(metrics.classification_report(y_test, y_pred, \n",
    "                                    target_names=side_s_bal.unique()))\n"
   ]
  }
 ],
 "metadata": {
  "kernelspec": {
   "display_name": "Python 3",
   "language": "python",
   "name": "python3"
  },
  "language_info": {
   "codemirror_mode": {
    "name": "ipython",
    "version": 3
   },
   "file_extension": ".py",
   "mimetype": "text/x-python",
   "name": "python",
   "nbconvert_exporter": "python",
   "pygments_lexer": "ipython3",
   "version": "3.11.1"
  },
  "orig_nbformat": 4
 },
 "nbformat": 4,
 "nbformat_minor": 2
}
