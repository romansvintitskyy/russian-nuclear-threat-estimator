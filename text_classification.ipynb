{
  "cells": [
    {
      "cell_type": "markdown",
      "metadata": {
        "id": "view-in-github",
        "colab_type": "text"
      },
      "source": [
        "<a href=\"https://colab.research.google.com/github/romansvintitskyy/russian-nuclear-threat-estimator/blob/main/text_classification.ipynb\" target=\"_parent\"><img src=\"https://colab.research.google.com/assets/colab-badge.svg\" alt=\"Open In Colab\"/></a>"
      ]
    },
    {
      "cell_type": "markdown",
      "metadata": {
        "id": "Ic4_occAAiAT"
      },
      "source": [
        "##### Copyright 2019 The TensorFlow Authors."
      ]
    },
    {
      "cell_type": "code",
      "execution_count": null,
      "metadata": {
        "cellView": "form",
        "id": "ioaprt5q5US7"
      },
      "outputs": [],
      "source": [
        "#@title Licensed under the Apache License, Version 2.0 (the \"License\");\n",
        "# you may not use this file except in compliance with the License.\n",
        "# You may obtain a copy of the License at\n",
        "#\n",
        "# https://www.apache.org/licenses/LICENSE-2.0\n",
        "#\n",
        "# Unless required by applicable law or agreed to in writing, software\n",
        "# distributed under the License is distributed on an \"AS IS\" BASIS,\n",
        "# WITHOUT WARRANTIES OR CONDITIONS OF ANY KIND, either express or implied.\n",
        "# See the License for the specific language governing permissions and\n",
        "# limitations under the License."
      ]
    },
    {
      "cell_type": "code",
      "execution_count": null,
      "metadata": {
        "cellView": "form",
        "id": "yCl0eTNH5RS3"
      },
      "outputs": [],
      "source": [
        "#@title MIT License\n",
        "#\n",
        "# Copyright (c) 2017 François Chollet\n",
        "#\n",
        "# Permission is hereby granted, free of charge, to any person obtaining a\n",
        "# copy of this software and associated documentation files (the \"Software\"),\n",
        "# to deal in the Software without restriction, including without limitation\n",
        "# the rights to use, copy, modify, merge, publish, distribute, sublicense,\n",
        "# and/or sell copies of the Software, and to permit persons to whom the\n",
        "# Software is furnished to do so, subject to the following conditions:\n",
        "#\n",
        "# The above copyright notice and this permission notice shall be included in\n",
        "# all copies or substantial portions of the Software.\n",
        "#\n",
        "# THE SOFTWARE IS PROVIDED \"AS IS\", WITHOUT WARRANTY OF ANY KIND, EXPRESS OR\n",
        "# IMPLIED, INCLUDING BUT NOT LIMITED TO THE WARRANTIES OF MERCHANTABILITY,\n",
        "# FITNESS FOR A PARTICULAR PURPOSE AND NONINFRINGEMENT. IN NO EVENT SHALL\n",
        "# THE AUTHORS OR COPYRIGHT HOLDERS BE LIABLE FOR ANY CLAIM, DAMAGES OR OTHER\n",
        "# LIABILITY, WHETHER IN AN ACTION OF CONTRACT, TORT OR OTHERWISE, ARISING\n",
        "# FROM, OUT OF OR IN CONNECTION WITH THE SOFTWARE OR THE USE OR OTHER\n",
        "# DEALINGS IN THE SOFTWARE."
      ]
    },
    {
      "cell_type": "markdown",
      "metadata": {
        "id": "ItXfxkxvosLH"
      },
      "source": [
        "# Basic text classification"
      ]
    },
    {
      "cell_type": "markdown",
      "metadata": {
        "id": "hKY4XMc9o8iB"
      },
      "source": [
        "<table class=\"tfo-notebook-buttons\" align=\"left\">\n",
        "  <td>\n",
        "    <a target=\"_blank\" href=\"https://www.tensorflow.org/tutorials/keras/text_classification\"><img src=\"https://www.tensorflow.org/images/tf_logo_32px.png\" />View on TensorFlow.org</a>\n",
        "  </td>\n",
        "  <td>\n",
        "    <a target=\"_blank\" href=\"https://colab.research.google.com/github/tensorflow/docs/blob/master/site/en/tutorials/keras/text_classification.ipynb\"><img src=\"https://www.tensorflow.org/images/colab_logo_32px.png\" />Run in Google Colab</a>\n",
        "  </td>\n",
        "  <td>\n",
        "    <a target=\"_blank\" href=\"https://github.com/tensorflow/docs/blob/master/site/en/tutorials/keras/text_classification.ipynb\"><img src=\"https://www.tensorflow.org/images/GitHub-Mark-32px.png\" />View source on GitHub</a>\n",
        "  </td>\n",
        "  <td>\n",
        "    <a href=\"https://storage.googleapis.com/tensorflow_docs/docs/site/en/tutorials/keras/text_classification.ipynb\"><img src=\"https://www.tensorflow.org/images/download_logo_32px.png\" />Download notebook</a>\n",
        "  </td>\n",
        "</table>"
      ]
    },
    {
      "cell_type": "markdown",
      "metadata": {
        "id": "Eg62Pmz3o83v"
      },
      "source": [
        "This tutorial demonstrates text classification starting from plain text files stored on disk. You'll train a binary classifier to perform sentiment analysis on an IMDB dataset. At the end of the notebook, there is an exercise for you to try, in which you'll train a multi-class classifier to predict the tag for a programming question on Stack Overflow.\n"
      ]
    },
    {
      "cell_type": "code",
      "execution_count": null,
      "metadata": {
        "id": "8RZOuS9LWQvv"
      },
      "outputs": [],
      "source": [
        "import matplotlib.pyplot as plt\n",
        "import os\n",
        "import re\n",
        "import shutil\n",
        "import string\n",
        "import tensorflow as tf\n",
        "\n",
        "from tensorflow.keras import layers\n",
        "from tensorflow.keras import losses\n"
      ]
    },
    {
      "cell_type": "code",
      "execution_count": null,
      "metadata": {
        "id": "6-tTFS04dChr",
        "outputId": "7e511fc0-6bb5-48a4-e8b5-58759c6eff9a",
        "colab": {
          "base_uri": "https://localhost:8080/"
        }
      },
      "outputs": [
        {
          "output_type": "stream",
          "name": "stdout",
          "text": [
            "2.12.0\n"
          ]
        }
      ],
      "source": [
        "print(tf.__version__)"
      ]
    },
    {
      "cell_type": "markdown",
      "metadata": {
        "id": "NBTI1bi8qdFV"
      },
      "source": [
        "## Sentiment analysis\n",
        "\n",
        "This notebook trains a sentiment analysis model to classify movie reviews as *positive* or *negative*, based on the text of the review. This is an example of *binary*—or two-class—classification, an important and widely applicable kind of machine learning problem.\n",
        "\n",
        "You'll use the [Large Movie Review Dataset](https://ai.stanford.edu/~amaas/data/sentiment/) that contains the text of 50,000 movie reviews from the [Internet Movie Database](https://www.imdb.com/). These are split into 25,000 reviews for training and 25,000 reviews for testing. The training and testing sets are *balanced*, meaning they contain an equal number of positive and negative reviews.\n"
      ]
    },
    {
      "cell_type": "markdown",
      "metadata": {
        "id": "iAsKG535pHep"
      },
      "source": [
        "### Download and explore the IMDB dataset\n",
        "\n",
        "Let's download and extract the dataset, then explore the directory structure."
      ]
    },
    {
      "cell_type": "code",
      "execution_count": null,
      "metadata": {
        "id": "k7ZYnuajVlFN",
        "outputId": "e0341d71-3e13-43b0-9781-23eb299077d2",
        "colab": {
          "base_uri": "https://localhost:8080/",
          "height": 432
        }
      },
      "outputs": [
        {
          "output_type": "error",
          "ename": "OSError",
          "evalue": "ignored",
          "traceback": [
            "\u001b[0;31m---------------------------------------------------------------------------\u001b[0m",
            "\u001b[0;31mKeyboardInterrupt\u001b[0m                         Traceback (most recent call last)",
            "\u001b[0;32m/usr/local/lib/python3.10/dist-packages/keras/utils/data_utils.py\u001b[0m in \u001b[0;36m_extract_archive\u001b[0;34m(file_path, path, archive_format)\u001b[0m\n\u001b[1;32m    178\u001b[0m                         \u001b[0;31m# Tar archive, perhaps unsafe. Filter paths.\u001b[0m\u001b[0;34m\u001b[0m\u001b[0;34m\u001b[0m\u001b[0m\n\u001b[0;32m--> 179\u001b[0;31m                         archive.extractall(\n\u001b[0m\u001b[1;32m    180\u001b[0m                             \u001b[0mpath\u001b[0m\u001b[0;34m,\u001b[0m \u001b[0mmembers\u001b[0m\u001b[0;34m=\u001b[0m\u001b[0m_filter_safe_paths\u001b[0m\u001b[0;34m(\u001b[0m\u001b[0marchive\u001b[0m\u001b[0;34m)\u001b[0m\u001b[0;34m\u001b[0m\u001b[0;34m\u001b[0m\u001b[0m\n",
            "\u001b[0;32m/usr/lib/python3.10/tarfile.py\u001b[0m in \u001b[0;36mextractall\u001b[0;34m(self, path, members, numeric_owner)\u001b[0m\n\u001b[1;32m   2058\u001b[0m             \u001b[0;31m# Do not set_attrs directories, as we will do that further down\u001b[0m\u001b[0;34m\u001b[0m\u001b[0;34m\u001b[0m\u001b[0m\n\u001b[0;32m-> 2059\u001b[0;31m             self.extract(tarinfo, path, set_attrs=not tarinfo.isdir(),\n\u001b[0m\u001b[1;32m   2060\u001b[0m                          numeric_owner=numeric_owner)\n",
            "\u001b[0;32m/usr/lib/python3.10/tarfile.py\u001b[0m in \u001b[0;36mextract\u001b[0;34m(self, member, path, set_attrs, numeric_owner)\u001b[0m\n\u001b[1;32m   2099\u001b[0m         \u001b[0;32mtry\u001b[0m\u001b[0;34m:\u001b[0m\u001b[0;34m\u001b[0m\u001b[0;34m\u001b[0m\u001b[0m\n\u001b[0;32m-> 2100\u001b[0;31m             self._extract_member(tarinfo, os.path.join(path, tarinfo.name),\n\u001b[0m\u001b[1;32m   2101\u001b[0m                                  \u001b[0mset_attrs\u001b[0m\u001b[0;34m=\u001b[0m\u001b[0mset_attrs\u001b[0m\u001b[0;34m,\u001b[0m\u001b[0;34m\u001b[0m\u001b[0;34m\u001b[0m\u001b[0m\n",
            "\u001b[0;32m/usr/lib/python3.10/tarfile.py\u001b[0m in \u001b[0;36m_extract_member\u001b[0;34m(self, tarinfo, targetpath, set_attrs, numeric_owner)\u001b[0m\n\u001b[1;32m   2161\u001b[0m         \u001b[0mupperdirs\u001b[0m \u001b[0;34m=\u001b[0m \u001b[0mos\u001b[0m\u001b[0;34m.\u001b[0m\u001b[0mpath\u001b[0m\u001b[0;34m.\u001b[0m\u001b[0mdirname\u001b[0m\u001b[0;34m(\u001b[0m\u001b[0mtargetpath\u001b[0m\u001b[0;34m)\u001b[0m\u001b[0;34m\u001b[0m\u001b[0;34m\u001b[0m\u001b[0m\n\u001b[0;32m-> 2162\u001b[0;31m         \u001b[0;32mif\u001b[0m \u001b[0mupperdirs\u001b[0m \u001b[0;32mand\u001b[0m \u001b[0;32mnot\u001b[0m \u001b[0mos\u001b[0m\u001b[0;34m.\u001b[0m\u001b[0mpath\u001b[0m\u001b[0;34m.\u001b[0m\u001b[0mexists\u001b[0m\u001b[0;34m(\u001b[0m\u001b[0mupperdirs\u001b[0m\u001b[0;34m)\u001b[0m\u001b[0;34m:\u001b[0m\u001b[0;34m\u001b[0m\u001b[0;34m\u001b[0m\u001b[0m\n\u001b[0m\u001b[1;32m   2163\u001b[0m             \u001b[0;31m# Create directories that are not part of the archive with\u001b[0m\u001b[0;34m\u001b[0m\u001b[0;34m\u001b[0m\u001b[0m\n",
            "\u001b[0;32m/usr/lib/python3.10/genericpath.py\u001b[0m in \u001b[0;36mexists\u001b[0;34m(path)\u001b[0m\n\u001b[1;32m     18\u001b[0m     \u001b[0;32mtry\u001b[0m\u001b[0;34m:\u001b[0m\u001b[0;34m\u001b[0m\u001b[0;34m\u001b[0m\u001b[0m\n\u001b[0;32m---> 19\u001b[0;31m         \u001b[0mos\u001b[0m\u001b[0;34m.\u001b[0m\u001b[0mstat\u001b[0m\u001b[0;34m(\u001b[0m\u001b[0mpath\u001b[0m\u001b[0;34m)\u001b[0m\u001b[0;34m\u001b[0m\u001b[0;34m\u001b[0m\u001b[0m\n\u001b[0m\u001b[1;32m     20\u001b[0m     \u001b[0;32mexcept\u001b[0m \u001b[0;34m(\u001b[0m\u001b[0mOSError\u001b[0m\u001b[0;34m,\u001b[0m \u001b[0mValueError\u001b[0m\u001b[0;34m)\u001b[0m\u001b[0;34m:\u001b[0m\u001b[0;34m\u001b[0m\u001b[0;34m\u001b[0m\u001b[0m\n",
            "\u001b[0;31mKeyboardInterrupt\u001b[0m: ",
            "\nDuring handling of the above exception, another exception occurred:\n",
            "\u001b[0;31mOSError\u001b[0m                                   Traceback (most recent call last)",
            "\u001b[0;32m<ipython-input-5-54ee7a38fb2b>\u001b[0m in \u001b[0;36m<cell line: 3>\u001b[0;34m()\u001b[0m\n\u001b[1;32m      1\u001b[0m \u001b[0murl\u001b[0m \u001b[0;34m=\u001b[0m \u001b[0;34m\"https://ai.stanford.edu/~amaas/data/sentiment/aclImdb_v1.tar.gz\"\u001b[0m\u001b[0;34m\u001b[0m\u001b[0;34m\u001b[0m\u001b[0m\n\u001b[1;32m      2\u001b[0m \u001b[0;34m\u001b[0m\u001b[0m\n\u001b[0;32m----> 3\u001b[0;31m dataset = tf.keras.utils.get_file(\"aclImdb_v1\", url,\n\u001b[0m\u001b[1;32m      4\u001b[0m                                     \u001b[0muntar\u001b[0m\u001b[0;34m=\u001b[0m\u001b[0;32mTrue\u001b[0m\u001b[0;34m,\u001b[0m \u001b[0mcache_dir\u001b[0m\u001b[0;34m=\u001b[0m\u001b[0;34m'.'\u001b[0m\u001b[0;34m,\u001b[0m\u001b[0;34m\u001b[0m\u001b[0;34m\u001b[0m\u001b[0m\n\u001b[1;32m      5\u001b[0m                                     cache_subdir='')\n",
            "\u001b[0;32m/usr/local/lib/python3.10/dist-packages/keras/utils/data_utils.py\u001b[0m in \u001b[0;36mget_file\u001b[0;34m(fname, origin, untar, md5_hash, file_hash, cache_subdir, hash_algorithm, extract, archive_format, cache_dir)\u001b[0m\n\u001b[1;32m    368\u001b[0m     \u001b[0;32mif\u001b[0m \u001b[0muntar\u001b[0m\u001b[0;34m:\u001b[0m\u001b[0;34m\u001b[0m\u001b[0;34m\u001b[0m\u001b[0m\n\u001b[1;32m    369\u001b[0m         \u001b[0;32mif\u001b[0m \u001b[0;32mnot\u001b[0m \u001b[0mos\u001b[0m\u001b[0;34m.\u001b[0m\u001b[0mpath\u001b[0m\u001b[0;34m.\u001b[0m\u001b[0mexists\u001b[0m\u001b[0;34m(\u001b[0m\u001b[0muntar_fpath\u001b[0m\u001b[0;34m)\u001b[0m\u001b[0;34m:\u001b[0m\u001b[0;34m\u001b[0m\u001b[0;34m\u001b[0m\u001b[0m\n\u001b[0;32m--> 370\u001b[0;31m             \u001b[0m_extract_archive\u001b[0m\u001b[0;34m(\u001b[0m\u001b[0mfpath\u001b[0m\u001b[0;34m,\u001b[0m \u001b[0mdatadir\u001b[0m\u001b[0;34m,\u001b[0m \u001b[0marchive_format\u001b[0m\u001b[0;34m=\u001b[0m\u001b[0;34m\"tar\"\u001b[0m\u001b[0;34m)\u001b[0m\u001b[0;34m\u001b[0m\u001b[0;34m\u001b[0m\u001b[0m\n\u001b[0m\u001b[1;32m    371\u001b[0m         \u001b[0;32mreturn\u001b[0m \u001b[0muntar_fpath\u001b[0m\u001b[0;34m\u001b[0m\u001b[0;34m\u001b[0m\u001b[0m\n\u001b[1;32m    372\u001b[0m \u001b[0;34m\u001b[0m\u001b[0m\n",
            "\u001b[0;32m/usr/local/lib/python3.10/dist-packages/keras/utils/data_utils.py\u001b[0m in \u001b[0;36m_extract_archive\u001b[0;34m(file_path, path, archive_format)\u001b[0m\n\u001b[1;32m    185\u001b[0m                             \u001b[0mos\u001b[0m\u001b[0;34m.\u001b[0m\u001b[0mremove\u001b[0m\u001b[0;34m(\u001b[0m\u001b[0mpath\u001b[0m\u001b[0;34m)\u001b[0m\u001b[0;34m\u001b[0m\u001b[0;34m\u001b[0m\u001b[0m\n\u001b[1;32m    186\u001b[0m                         \u001b[0;32melse\u001b[0m\u001b[0;34m:\u001b[0m\u001b[0;34m\u001b[0m\u001b[0;34m\u001b[0m\u001b[0m\n\u001b[0;32m--> 187\u001b[0;31m                             \u001b[0mshutil\u001b[0m\u001b[0;34m.\u001b[0m\u001b[0mrmtree\u001b[0m\u001b[0;34m(\u001b[0m\u001b[0mpath\u001b[0m\u001b[0;34m)\u001b[0m\u001b[0;34m\u001b[0m\u001b[0;34m\u001b[0m\u001b[0m\n\u001b[0m\u001b[1;32m    188\u001b[0m                     \u001b[0;32mraise\u001b[0m\u001b[0;34m\u001b[0m\u001b[0;34m\u001b[0m\u001b[0m\n\u001b[1;32m    189\u001b[0m             \u001b[0;32mreturn\u001b[0m \u001b[0;32mTrue\u001b[0m\u001b[0;34m\u001b[0m\u001b[0;34m\u001b[0m\u001b[0m\n",
            "\u001b[0;32m/usr/lib/python3.10/shutil.py\u001b[0m in \u001b[0;36mrmtree\u001b[0;34m(path, ignore_errors, onerror)\u001b[0m\n\u001b[1;32m    723\u001b[0m         \u001b[0;32mtry\u001b[0m\u001b[0;34m:\u001b[0m\u001b[0;34m\u001b[0m\u001b[0;34m\u001b[0m\u001b[0m\n\u001b[1;32m    724\u001b[0m             \u001b[0;32mif\u001b[0m \u001b[0mos\u001b[0m\u001b[0;34m.\u001b[0m\u001b[0mpath\u001b[0m\u001b[0;34m.\u001b[0m\u001b[0msamestat\u001b[0m\u001b[0;34m(\u001b[0m\u001b[0morig_st\u001b[0m\u001b[0;34m,\u001b[0m \u001b[0mos\u001b[0m\u001b[0;34m.\u001b[0m\u001b[0mfstat\u001b[0m\u001b[0;34m(\u001b[0m\u001b[0mfd\u001b[0m\u001b[0;34m)\u001b[0m\u001b[0;34m)\u001b[0m\u001b[0;34m:\u001b[0m\u001b[0;34m\u001b[0m\u001b[0;34m\u001b[0m\u001b[0m\n\u001b[0;32m--> 725\u001b[0;31m                 \u001b[0m_rmtree_safe_fd\u001b[0m\u001b[0;34m(\u001b[0m\u001b[0mfd\u001b[0m\u001b[0;34m,\u001b[0m \u001b[0mpath\u001b[0m\u001b[0;34m,\u001b[0m \u001b[0monerror\u001b[0m\u001b[0;34m)\u001b[0m\u001b[0;34m\u001b[0m\u001b[0;34m\u001b[0m\u001b[0m\n\u001b[0m\u001b[1;32m    726\u001b[0m                 \u001b[0;32mtry\u001b[0m\u001b[0;34m:\u001b[0m\u001b[0;34m\u001b[0m\u001b[0;34m\u001b[0m\u001b[0m\n\u001b[1;32m    727\u001b[0m                     \u001b[0mos\u001b[0m\u001b[0;34m.\u001b[0m\u001b[0mclose\u001b[0m\u001b[0;34m(\u001b[0m\u001b[0mfd\u001b[0m\u001b[0;34m)\u001b[0m\u001b[0;34m\u001b[0m\u001b[0;34m\u001b[0m\u001b[0m\n",
            "\u001b[0;32m/usr/lib/python3.10/shutil.py\u001b[0m in \u001b[0;36m_rmtree_safe_fd\u001b[0;34m(topfd, path, onerror)\u001b[0m\n\u001b[1;32m    656\u001b[0m                 \u001b[0;32mtry\u001b[0m\u001b[0;34m:\u001b[0m\u001b[0;34m\u001b[0m\u001b[0;34m\u001b[0m\u001b[0m\n\u001b[1;32m    657\u001b[0m                     \u001b[0;32mif\u001b[0m \u001b[0mos\u001b[0m\u001b[0;34m.\u001b[0m\u001b[0mpath\u001b[0m\u001b[0;34m.\u001b[0m\u001b[0msamestat\u001b[0m\u001b[0;34m(\u001b[0m\u001b[0morig_st\u001b[0m\u001b[0;34m,\u001b[0m \u001b[0mos\u001b[0m\u001b[0;34m.\u001b[0m\u001b[0mfstat\u001b[0m\u001b[0;34m(\u001b[0m\u001b[0mdirfd\u001b[0m\u001b[0;34m)\u001b[0m\u001b[0;34m)\u001b[0m\u001b[0;34m:\u001b[0m\u001b[0;34m\u001b[0m\u001b[0;34m\u001b[0m\u001b[0m\n\u001b[0;32m--> 658\u001b[0;31m                         \u001b[0m_rmtree_safe_fd\u001b[0m\u001b[0;34m(\u001b[0m\u001b[0mdirfd\u001b[0m\u001b[0;34m,\u001b[0m \u001b[0mfullname\u001b[0m\u001b[0;34m,\u001b[0m \u001b[0monerror\u001b[0m\u001b[0;34m)\u001b[0m\u001b[0;34m\u001b[0m\u001b[0;34m\u001b[0m\u001b[0m\n\u001b[0m\u001b[1;32m    659\u001b[0m                         \u001b[0;32mtry\u001b[0m\u001b[0;34m:\u001b[0m\u001b[0;34m\u001b[0m\u001b[0;34m\u001b[0m\u001b[0m\n\u001b[1;32m    660\u001b[0m                             \u001b[0mos\u001b[0m\u001b[0;34m.\u001b[0m\u001b[0mclose\u001b[0m\u001b[0;34m(\u001b[0m\u001b[0mdirfd\u001b[0m\u001b[0;34m)\u001b[0m\u001b[0;34m\u001b[0m\u001b[0;34m\u001b[0m\u001b[0m\n",
            "\u001b[0;32m/usr/lib/python3.10/shutil.py\u001b[0m in \u001b[0;36m_rmtree_safe_fd\u001b[0;34m(topfd, path, onerror)\u001b[0m\n\u001b[1;32m    662\u001b[0m                             \u001b[0mos\u001b[0m\u001b[0;34m.\u001b[0m\u001b[0mrmdir\u001b[0m\u001b[0;34m(\u001b[0m\u001b[0mentry\u001b[0m\u001b[0;34m.\u001b[0m\u001b[0mname\u001b[0m\u001b[0;34m,\u001b[0m \u001b[0mdir_fd\u001b[0m\u001b[0;34m=\u001b[0m\u001b[0mtopfd\u001b[0m\u001b[0;34m)\u001b[0m\u001b[0;34m\u001b[0m\u001b[0;34m\u001b[0m\u001b[0m\n\u001b[1;32m    663\u001b[0m                         \u001b[0;32mexcept\u001b[0m \u001b[0mOSError\u001b[0m\u001b[0;34m:\u001b[0m\u001b[0;34m\u001b[0m\u001b[0;34m\u001b[0m\u001b[0m\n\u001b[0;32m--> 664\u001b[0;31m                             \u001b[0monerror\u001b[0m\u001b[0;34m(\u001b[0m\u001b[0mos\u001b[0m\u001b[0;34m.\u001b[0m\u001b[0mrmdir\u001b[0m\u001b[0;34m,\u001b[0m \u001b[0mfullname\u001b[0m\u001b[0;34m,\u001b[0m \u001b[0msys\u001b[0m\u001b[0;34m.\u001b[0m\u001b[0mexc_info\u001b[0m\u001b[0;34m(\u001b[0m\u001b[0;34m)\u001b[0m\u001b[0;34m)\u001b[0m\u001b[0;34m\u001b[0m\u001b[0;34m\u001b[0m\u001b[0m\n\u001b[0m\u001b[1;32m    665\u001b[0m                     \u001b[0;32melse\u001b[0m\u001b[0;34m:\u001b[0m\u001b[0;34m\u001b[0m\u001b[0;34m\u001b[0m\u001b[0m\n\u001b[1;32m    666\u001b[0m                         \u001b[0;32mtry\u001b[0m\u001b[0;34m:\u001b[0m\u001b[0;34m\u001b[0m\u001b[0;34m\u001b[0m\u001b[0m\n",
            "\u001b[0;32m/usr/lib/python3.10/shutil.py\u001b[0m in \u001b[0;36m_rmtree_safe_fd\u001b[0;34m(topfd, path, onerror)\u001b[0m\n\u001b[1;32m    660\u001b[0m                             \u001b[0mos\u001b[0m\u001b[0;34m.\u001b[0m\u001b[0mclose\u001b[0m\u001b[0;34m(\u001b[0m\u001b[0mdirfd\u001b[0m\u001b[0;34m)\u001b[0m\u001b[0;34m\u001b[0m\u001b[0;34m\u001b[0m\u001b[0m\n\u001b[1;32m    661\u001b[0m                             \u001b[0mdirfd_closed\u001b[0m \u001b[0;34m=\u001b[0m \u001b[0;32mTrue\u001b[0m\u001b[0;34m\u001b[0m\u001b[0;34m\u001b[0m\u001b[0m\n\u001b[0;32m--> 662\u001b[0;31m                             \u001b[0mos\u001b[0m\u001b[0;34m.\u001b[0m\u001b[0mrmdir\u001b[0m\u001b[0;34m(\u001b[0m\u001b[0mentry\u001b[0m\u001b[0;34m.\u001b[0m\u001b[0mname\u001b[0m\u001b[0;34m,\u001b[0m \u001b[0mdir_fd\u001b[0m\u001b[0;34m=\u001b[0m\u001b[0mtopfd\u001b[0m\u001b[0;34m)\u001b[0m\u001b[0;34m\u001b[0m\u001b[0;34m\u001b[0m\u001b[0m\n\u001b[0m\u001b[1;32m    663\u001b[0m                         \u001b[0;32mexcept\u001b[0m \u001b[0mOSError\u001b[0m\u001b[0;34m:\u001b[0m\u001b[0;34m\u001b[0m\u001b[0;34m\u001b[0m\u001b[0m\n\u001b[1;32m    664\u001b[0m                             \u001b[0monerror\u001b[0m\u001b[0;34m(\u001b[0m\u001b[0mos\u001b[0m\u001b[0;34m.\u001b[0m\u001b[0mrmdir\u001b[0m\u001b[0;34m,\u001b[0m \u001b[0mfullname\u001b[0m\u001b[0;34m,\u001b[0m \u001b[0msys\u001b[0m\u001b[0;34m.\u001b[0m\u001b[0mexc_info\u001b[0m\u001b[0;34m(\u001b[0m\u001b[0;34m)\u001b[0m\u001b[0;34m)\u001b[0m\u001b[0;34m\u001b[0m\u001b[0;34m\u001b[0m\u001b[0m\n",
            "\u001b[0;31mOSError\u001b[0m: [Errno 125] Operation canceled: '.file-revisions-by-id'"
          ]
        }
      ],
      "source": [
        "url = \"https://ai.stanford.edu/~amaas/data/sentiment/aclImdb_v1.tar.gz\"\n",
        "\n",
        "dataset = tf.keras.utils.get_file(\"aclImdb_v1\", url,\n",
        "                                    untar=True, cache_dir='.',\n",
        "                                    cache_subdir='')\n",
        "\n",
        "dataset_dir = os.path.join(os.path.dirname(dataset), 'aclImdb')"
      ]
    },
    {
      "cell_type": "code",
      "execution_count": null,
      "metadata": {
        "id": "355CfOvsV1pl",
        "outputId": "e61c4447-0052-4b4b-f003-e0abaf2e8f6e",
        "colab": {
          "base_uri": "https://localhost:8080/"
        }
      },
      "outputs": [
        {
          "output_type": "execute_result",
          "data": {
            "text/plain": [
              "['README', 'test', 'imdbEr.txt', 'train', 'imdb.vocab']"
            ]
          },
          "metadata": {},
          "execution_count": 4
        }
      ],
      "source": [
        "os.listdir(dataset_dir)"
      ]
    },
    {
      "cell_type": "code",
      "execution_count": null,
      "metadata": {
        "id": "7ASND15oXpF1",
        "outputId": "c2f7b3fa-ba1d-4026-c1af-060e27926041",
        "colab": {
          "base_uri": "https://localhost:8080/"
        }
      },
      "outputs": [
        {
          "output_type": "execute_result",
          "data": {
            "text/plain": [
              "['urls_pos.txt',\n",
              " 'pos',\n",
              " 'urls_neg.txt',\n",
              " 'unsupBow.feat',\n",
              " 'urls_unsup.txt',\n",
              " 'labeledBow.feat',\n",
              " 'unsup',\n",
              " 'neg']"
            ]
          },
          "metadata": {},
          "execution_count": 5
        }
      ],
      "source": [
        "train_dir = os.path.join(dataset_dir, 'train')\n",
        "os.listdir(train_dir)"
      ]
    },
    {
      "cell_type": "markdown",
      "metadata": {
        "id": "ysMNMI1CWDFD"
      },
      "source": [
        "The `aclImdb/train/pos` and `aclImdb/train/neg` directories contain many text files, each of which is a single movie review. Let's take a look at one of them."
      ]
    },
    {
      "cell_type": "code",
      "execution_count": null,
      "metadata": {
        "id": "R7g8hFvzWLIZ",
        "outputId": "25333f5d-3255-400f-9642-226ad9cc0897",
        "colab": {
          "base_uri": "https://localhost:8080/"
        }
      },
      "outputs": [
        {
          "output_type": "stream",
          "name": "stdout",
          "text": [
            "Rachel Griffiths writes and directs this award winning short film. A heartwarming story about coping with grief and cherishing the memory of those we've loved and lost. Although, only 15 minutes long, Griffiths manages to capture so much emotion and truth onto film in the short space of time. Bud Tingwell gives a touching performance as Will, a widower struggling to cope with his wife's death. Will is confronted by the harsh reality of loneliness and helplessness as he proceeds to take care of Ruth's pet cow, Tulip. The film displays the grief and responsibility one feels for those they have loved and lost. Good cinematography, great direction, and superbly acted. It will bring tears to all those who have lost a loved one, and survived.\n"
          ]
        }
      ],
      "source": [
        "sample_file = os.path.join(train_dir, 'pos/1181_9.txt')\n",
        "with open(sample_file) as f:\n",
        "  print(f.read())"
      ]
    },
    {
      "cell_type": "markdown",
      "metadata": {
        "id": "Mk20TEm6ZRFP"
      },
      "source": [
        "### Load the dataset\n",
        "\n",
        "Next, you will load the data off disk and prepare it into a format suitable for training. To do so, you will use the helpful [text_dataset_from_directory](https://www.tensorflow.org/api_docs/python/tf/keras/preprocessing/text_dataset_from_directory) utility, which expects a directory structure as follows.\n",
        "\n",
        "```\n",
        "main_directory/\n",
        "...class_a/\n",
        "......a_text_1.txt\n",
        "......a_text_2.txt\n",
        "...class_b/\n",
        "......b_text_1.txt\n",
        "......b_text_2.txt\n",
        "```"
      ]
    },
    {
      "cell_type": "markdown",
      "metadata": {
        "id": "nQauv38Lnok3"
      },
      "source": [
        "To prepare a dataset for binary classification, you will need two folders on disk, corresponding to `class_a` and `class_b`. These will be the positive and negative movie reviews, which can be found in  `aclImdb/train/pos` and `aclImdb/train/neg`. As the IMDB dataset contains additional folders, you will remove them before using this utility."
      ]
    },
    {
      "cell_type": "code",
      "execution_count": null,
      "metadata": {
        "id": "VhejsClzaWfl",
        "outputId": "be6f9b3e-7c4c-4b82-ddcb-33c886aca556",
        "colab": {
          "base_uri": "https://localhost:8080/",
          "height": 183
        }
      },
      "outputs": [
        {
          "output_type": "error",
          "ename": "NameError",
          "evalue": "ignored",
          "traceback": [
            "\u001b[0;31m---------------------------------------------------------------------------\u001b[0m",
            "\u001b[0;31mNameError\u001b[0m                                 Traceback (most recent call last)",
            "\u001b[0;32m<ipython-input-3-c3019530ae67>\u001b[0m in \u001b[0;36m<cell line: 1>\u001b[0;34m()\u001b[0m\n\u001b[0;32m----> 1\u001b[0;31m \u001b[0mremove_dir\u001b[0m \u001b[0;34m=\u001b[0m \u001b[0mos\u001b[0m\u001b[0;34m.\u001b[0m\u001b[0mpath\u001b[0m\u001b[0;34m.\u001b[0m\u001b[0mjoin\u001b[0m\u001b[0;34m(\u001b[0m\u001b[0mtrain_dir\u001b[0m\u001b[0;34m,\u001b[0m \u001b[0;34m'unsup'\u001b[0m\u001b[0;34m)\u001b[0m\u001b[0;34m\u001b[0m\u001b[0;34m\u001b[0m\u001b[0m\n\u001b[0m\u001b[1;32m      2\u001b[0m \u001b[0mshutil\u001b[0m\u001b[0;34m.\u001b[0m\u001b[0mrmtree\u001b[0m\u001b[0;34m(\u001b[0m\u001b[0mremove_dir\u001b[0m\u001b[0;34m)\u001b[0m\u001b[0;34m\u001b[0m\u001b[0;34m\u001b[0m\u001b[0m\n",
            "\u001b[0;31mNameError\u001b[0m: name 'train_dir' is not defined"
          ]
        }
      ],
      "source": [
        "remove_dir = os.path.join(train_dir, 'unsup')\n",
        "shutil.rmtree(remove_dir)"
      ]
    },
    {
      "cell_type": "markdown",
      "metadata": {
        "id": "95kkUdRoaeMw"
      },
      "source": [
        "Next, you will use the `text_dataset_from_directory` utility to create a labeled `tf.data.Dataset`. [tf.data](https://www.tensorflow.org/guide/data) is a powerful collection of tools for working with data. \n",
        "\n",
        "When running a machine learning experiment, it is a best practice to divide your dataset into three splits: [train](https://developers.google.com/machine-learning/glossary#training_set), [validation](https://developers.google.com/machine-learning/glossary#validation_set), and [test](https://developers.google.com/machine-learning/glossary#test-set). \n",
        "\n",
        "The IMDB dataset has already been divided into train and test, but it lacks a validation set. Let's create a validation set using an 80:20 split of the training data by using the `validation_split` argument below."
      ]
    },
    {
      "cell_type": "code",
      "execution_count": null,
      "metadata": {
        "id": "nOrK-MTYaw3C",
        "outputId": "f2a62198-cade-49e5-804a-0cea223aee33",
        "colab": {
          "base_uri": "https://localhost:8080/"
        }
      },
      "outputs": [
        {
          "output_type": "stream",
          "name": "stdout",
          "text": [
            "Found 90 files belonging to 2 classes.\n",
            "Using 72 files for training.\n"
          ]
        }
      ],
      "source": [
        "batch_size = 32\n",
        "seed = 42\n",
        "\n",
        "raw_train_ds = tf.keras.utils.text_dataset_from_directory(\n",
        "    '/content/drive/MyDrive/nuclear threat text files', \n",
        "    batch_size=batch_size, \n",
        "    validation_split=0.2, \n",
        "    subset='training', \n",
        "    seed=seed)"
      ]
    },
    {
      "cell_type": "markdown",
      "metadata": {
        "id": "5Y33oxOUpYkh"
      },
      "source": [
        "As you can see above, there are 25,000 examples in the training folder, of which you will use 80% (or 20,000) for training. As you will see in a moment, you can train a model by passing a dataset directly to `model.fit`. If you're new to `tf.data`, you can also iterate over the dataset and print out a few examples as follows."
      ]
    },
    {
      "cell_type": "code",
      "execution_count": null,
      "metadata": {
        "id": "51wNaPPApk1K",
        "outputId": "bb2d472d-1c47-423f-b4f7-f39c24a9dbd5",
        "colab": {
          "base_uri": "https://localhost:8080/"
        }
      },
      "outputs": [
        {
          "output_type": "stream",
          "name": "stdout",
          "text": [
            "text b'Much more significant than these public statements, however, was the fact that Washington probably\\nwarned Moscow on February 28 or March 1 through government channels against using tactical nuclear weapons in Ukraine. US media reported this in mid-March, citing statements by US officials from\\nthe National Security Council'\n",
            "label 1\n",
            "text b\"We, the Leaders of the Group of Seven (G7), are steadfast in our solidarity with Ukraine,\\r\\nand reaffirm our unwavering commitment to support the government and people of\\r\\nUkraine in their courageous defence of their country\\xe2\\x80\\x99s sovereignty and territorial integrity,\\r\\nand in their fight for a peaceful, prosperous and democratic future. We welcome the\\r\\nEuropean Council\\xe2\\x80\\x99s decision to grant the status of candidate country to Ukraine and\\r\\nMoldova. We will continue to provide financial, humanitarian, military and diplomatic\\r\\nsupport and stand with Ukraine for as long as it takes. As we do so, we commit to\\r\\ndemonstrate global responsibility and solidarity through working to address the\\r\\ninternational impacts of Russia\\xe2\\x80\\x99s aggression, especially on the most vulnerable.\\r\\nCondemnation of Russia\\xe2\\x80\\x99s war: We remain appalled by and continue to condemn the\\r\\nbrutal, unprovoked, unjustifiable and illegal war of aggression against Ukraine by Russia\\r\\nand aided by Belarus. We condemn and will not recognise Russia\\xe2\\x80\\x99s continued attempts to\\r\\nre-draw borders by force. This devastating war has produced dramatic consequences far\\r\\nbeyond Europe. It constitutes a blatant violation of international law, in particular a grave\\r\\nbreach of the United Nations Charter. It seriously undermines the international rules-based\\r\\nsystem that underpins global peace, prosperity, and security. We further condemn Russian\\r\\nattempts to replace Ukrainian democratically elected officials with illegitimate ones. We\\r\\nreiterate our demand that Russia put an end to this war of choice, and immediately,\\r\\nunconditionally cease all hostilities and withdraw its troops and military equipment from\\r\\nthe entire territory of Ukraine within its internationally recognised borders. We reiterate\\r\\nour condemnation of Russia's unjustified use of nuclear rhetoric and signaling. Russia must\\r\\nabide by its international commitments, including those which ban the use of chemical,\\r\\nbiological or nuclear weapons. We urge Russia to behave responsibly and exercise restraint,\\r\\nand reiterate that any use of such weapons would be unacceptable and met with severe\\r\\nconsequences. In this regard we express serious concern after the announcement by Russia\\r\\nthat it could transfer missiles with nuclear capabilities to Belarus.\\r\\nSupporting Ukrainian Efforts to End the War: We are committed to helping Ukraine to\\r\\nuphold its sovereignty and territorial integrity, to defend itself, and to choose its own\\r\\nfuture. It is up to Ukraine to decide on a future peace settlement, free from external\\r\\npressure or influence. We will continue to coordinate efforts to meet Ukraine\\xe2\\x80\\x99s urgent\\r\\nrequirements for military and defence equipment. We will also continue to coordinate to \\nprovide Ukraine with the material, training and logistic, intelligence, and economic support\\r\\nto build up its armed forces.\\r\\nCommitment to Ukraine\\xe2\\x80\\x99s Security and Resilience: With a view to a viable post-war peace\\r\\nsettlement, we are ready to reach arrangements together with interested countries and\\r\\ninstitutions and Ukraine on sustained security commitments to help Ukraine defend itself,\\r\\nsecure its free and democratic future, and deter future Russian aggression. We stand ready\\r\\nto further strengthen Ukraine\\xe2\\x80\\x99s resilience by expanding our cooperation in intelligence and\\r\\ninformation sharing, information security, as well as maritime security. We will continue\\r\\nsupporting Ukraine in defending its networks against cyber incidents and expand our\\r\\ncooperation in the fields of energy security, the safety and security of nuclear material and\\r\\nfacilities, environmental, and water use issues. We will continue to support Ukraine in\\r\\nresisting threats to its democratic institutions and their common democratic values and\\r\\nprinciples, including through support for free media as well as countering disinformation\\r\\nand interference in democratic processes.\\r\\nHumanitarian Assistance: Russia\\xe2\\x80\\x99s war of aggression against Ukraine and the\\r\\nindiscriminate attacks on civilians and civilian infrastructure, have caused immeasurable\\r\\nhuman suffering and loss of life. As a consequence, we witness today the largest\\r\\ndisplacement of civilians in Europe since the Second World War. As G7, we have provided\\r\\nand pledged more than USD 2.8 billion in humanitarian assistance so far in 2022. We\\r\\nunderline our shared commitment to continue to provide substantial and ongoing\\r\\nhumanitarian support to those affected by Russia\\xe2\\x80\\x99s war, in particular to protect the rights\\r\\nof women and children.\\r\\nSupporting Internally Displaced Persons and Refugees: We reaffirm our resolve to protect\\r\\nand support forcibly displaced persons and refugees, and, to provide relief to host\\r\\ncountries. We applaud the solidarity and efforts of all countries that support Ukraine by\\r\\nhosting refugees fleeing combat zones. We will enhance our support through the provision\\r\\nof short- and medium-term assistance, as well as strengthening access to a range of\\r\\nsupport services for those displaced and affected both in Ukraine as well as in other host\\r\\ncountries. To this end, we endorse the Moldova Support Platform. We will seek to provide\\r\\nsafe passage for refugees, including by further streamlining immigration procedures and\\r\\nvisa requirements and strengthening efforts to prevent and respond to the heightened risk\\r\\nof human trafficking among the refugee population, who are disproportionately women\\r\\nand children. We aim to further facilitate the integration of refugees from Ukraine into our\\r\\nlabour markets, to protect and ensure their labour rights, and to provide access to adequate\\r\\nsocial protection and education for as long as necessary.\\r\\nCompliance with International Humanitarian Law: We call on Russia to comply with its\\r\\nobligations under international humanitarian law. We urge Russia to immediately provide \\nfor safe, rapid, and unimpeded humanitarian access and make safe passages work, enabling\\r\\nhumanitarian aid to be delivered to besieged cities and civilians to reach safety towards a\\r\\ndestination of their choice. Furthermore, we demand that Russia immediately allow the\\r\\nsafe return of Ukrainian nationals taken often with force to Russia without their consent.\\r\\nWe also underline the need to ensure protection for neutral and impartial humanitarian\\r\\norganisations and their aid workers operating in Ukraine. Russia and its proxies must\\r\\nrespect international humanitarian law, including the rights and protections afforded to\\r\\nprisoners of war under the Geneva Conventions. We condemn the sham \\xe2\\x80\\x9ctrials\\xe2\\x80\\x9d resulting\\r\\nin application of the death sentence to members of the Ukrainian Armed Forces.\\r\\nAccountability for War Crimes: There can be no impunity for war crimes and other\\r\\natrocities. We condemn in the strongest terms ongoing attacks on civilians and noncombatants, the systematic targeting of critical infrastructure, schools and kindergartens,\\r\\nhealthcare personnel and facilities, as well as conflict-related sexual and gender-based\\r\\nviolence in Ukraine. We further condemn the deliberate targeting of Ukrainian cultural sites\\r\\nand regard the destruction of Ukrainian heritage by Russian forces \\xe2\\x80\\x93 and suppression of\\r\\nthe Ukrainian language and media in areas illegally occupied by Russia \\xe2\\x80\\x93 as an attempt to\\r\\nwipe out Ukraine\\xe2\\x80\\x99s history and cultural identity. We welcome and support the ongoing\\r\\nwork to investigate war crimes and other atrocity crimes, including by the Prosecutor of\\r\\nthe International Criminal Court (ICC), the independent international commission of\\r\\ninquiry mandated by the United Nations Human Rights Council (UNHRC) and the work of\\r\\nthe Expert Missions under the Moscow Mechanism of the Organization for Security and\\r\\nCo-operation in Europe\\xe2\\x80\\x99s (OSCE) as well as the national investigations by the Office of the\\r\\nProsecutor General of Ukraine. We welcome efforts to increase cooperation between all\\r\\ninvestigations taking place in Ukraine and will intensify our police and judicial cooperation\\r\\nwith Ukraine as well as with relevant organisations. We welcome national investigative and\\r\\njurisdiction efforts in line with the principle of universal jurisdiction where consistent with\\r\\ndomestic law. The immediate perpetrators of war crimes and other atrocity crimes, as well\\r\\nas officials and military leaders responsible for their commission, must be held to account\\r\\nin accordance with international law.\\r\\nSafe Haven for Dissidents Fleeing Russia\\xe2\\x80\\x99s Political Repression: We are concerned by the\\r\\nfact that Russia's brutal war of aggression against Ukraine is accompanied by ever stronger\\r\\ninternal repression within Russia, especially against independent journalists, human rights\\r\\nactivists and opposition figures, as well as ordinary citizens. We will make available\\r\\nprotection to Russians who are persecuted by the Russian regime, as consistent with our\\r\\nnational laws and requirements.\\r\\nIncreasing Food Security: Russia bears enormous responsibility for rising threats to global\\r\\nfood security as a result of the conflict. Russia\\xe2\\x80\\x99s unprovoked assault on Ukraine \\xe2\\x80\\x93 marked\\r\\nby bombing, blockades, and theft \\xe2\\x80\\x93 has severely prevented Ukraine from exporting its\\nagricultural products and is hampering its production capacity, leading to steep price rises\\r\\nand increasing global food insecurity for millions, especially those most vulnerable, such as\\r\\nwomen and children. We urgently call on Russia to cease, without condition, its attacks on\\r\\nagricultural and transport infrastructure and enable free passage of agricultural shipping\\r\\nfrom Ukrainian ports in the Black Sea. We are united and determined to strongly support\\r\\nUkraine in producing and exporting grain, oil, and other agricultural products and we will\\r\\nfoster coordinated initiatives that promote global food security and address the causes of\\r\\nthe evolving a global food crisis.\\r\\nSanctions: We remain steadfast in our commitment to our unprecedented coordinated\\r\\nsanctions measures in response to Russia\\xe2\\x80\\x99s war of aggression, the impacts of which will\\r\\ncompound over time. We are committed to sustaining and intensifying international\\r\\neconomic and political pressure on President Putin\\xe2\\x80\\x99s regime and its enablers in Belarus,\\r\\ndepriving Russia of the economic means to persist in its war of aggression against Ukraine,\\r\\nand we will continue our targeted use of coordinated sanctions for as long as necessary,\\r\\nacting in unison at every stage. Our use of sanctions is in defence of the rules-based\\r\\ninternational order that Russia has so egregiously violated. To this end, we endorse the\\r\\nannex on Supporting Ukraine Through Responsible Sanctions Against Russia.\\r\\nIn order to further intensify our economic measures against Russia, we collectively commit\\r\\nto taking the following measures in the days and weeks ahead, consistent with our\\r\\nrespective legal authorities and processes. We will continue to explore new ways to isolate\\r\\nRussia from participating in the global market and crack down on evasion. We are\\r\\ndetermined to reduce Russia\\xe2\\x80\\x99s revenues, including from gold. We will also continue to\\r\\ntarget evasion and backfilling activities. We will further reduce Russia\\xe2\\x80\\x99s export revenues by\\r\\ntaking appropriate steps to further reduce dependency on Russian energy, as articulated in\\r\\nthe Energy section of our Communique. We will continue to coordinate on tariff measures\\r\\non imports from Russia and explore possible pathways in line with our respective legislation\\r\\nto use the revenues to assist Ukraine where applicable. We will align and expand targeted\\r\\nsanctions to further restrict Russia\\xe2\\x80\\x99s access to key industrial inputs, services, and\\r\\ntechnologies produced by our economies, particularly those supporting Russia\\xe2\\x80\\x99s armament\\r\\nindustrial base and technology sector. Finally, we will increase the costs of Russia\\xe2\\x80\\x99s war on\\r\\nUkraine by imposing targeted sanctions on those responsible for war crimes, exercising\\r\\nillegitimate authority in Ukraine, and those standing behind Russia\\xe2\\x80\\x99s engagement in efforts\\r\\nto increase global food insecurity by stealing and exporting Ukrainian grain or otherwise\\r\\nprofit illegitimately from the war.\\r\\nAs we impose severe costs on Russia and those who are complicit in its aggression, we will\\r\\ncontinue to assist the global economy and take action to help mitigate spillover effects,\\r\\nespecially relating to humanitarian and other basic needs, and vulnerable populations. We\\r\\nwill continue to ensure that in taking further measures, we are not targeting food and allow \\nfor the free flow of agricultural products and make every effort to minimise potential\\r\\nnegative impacts and spillovers on third countries, in particular low- and middle-income\\r\\ncountries. We are united in our commitment to fully implement and enforce these\\r\\nmeasures and remain vigilant against sanctions evasion and backfilling. Recalling the\\r\\nresolutions of the UN General Assembly on 2nd and 24th March 2022, we call on all\\r\\ncountries around the world to stand with us in defending the principles of the UN Charter,\\r\\nand to join us by taking similar actions.\\r\\nFinancial and Economic Support: As of today we are ready to grant, or have pledged and\\r\\nprovided up to USD 29.5 billion of budget support in 2022 to help Ukraine close its\\r\\nfinancing gap and continue ensuring the delivery of basic services to the Ukrainian people.\\r\\nOverall, this support is urgently needed and comes on top of the economic support\\r\\nprovided since 2014 until 2021, which exceeds USD 60 billion. We welcome and support\\r\\nongoing work across international financial institutions (IFIs) on further substantial\\r\\nfinancing to Ukraine, notably the financial support from the World Bank and the\\r\\nInternational Monetary Fund, including the Bank\\xe2\\x80\\x99s multi-donor financing vehicles for\\r\\nUkraine and the establishment of the Fund\\xe2\\x80\\x99s Multi-Donor Administered Account for\\r\\nUkraine. We look forward to additional planned support to Ukrainian state-owned\\r\\nenterprises and the private sector through the European Bank for Reconstruction and\\r\\nDevelopment (EBRD) and the International Finance Corporation which amounts to USD\\r\\n3.5 billion. We will support the EBRD, including through providing specific support to\\r\\ncritical infrastructure, notably to guarantee EBRD loans to gas, power, and transportation\\r\\ncompanies. Across all our support, we are urgently working on accelerating disbursements\\r\\nof our financial commitments to Ukraine. Furthermore, we commit to assisting Ukraine in\\r\\nmaximising its export potential. We task Finance Ministers to continue to work with IFIs\\r\\nand with Ukraine to assess and address its financing needs. We task G7 Trade Ministers to\\r\\ndiscuss concrete proposals to support Ukraine\\xe2\\x80\\x99s recovery efforts through trade, including\\r\\nfor example suspending tariffs on Ukrainian exports.\\r\\nReconstruction: We recognise the devastating destruction of infrastructure, including\\r\\nbasic social and public infrastructure, cities, industry, and agricultural facilities in Ukraine,\\r\\nand the urgent need for immediate reconstruction of critical infrastructure. We stand ready\\r\\nto support an international reconstruction plan, drawn up and implemented by Ukraine in\\r\\nclose coordination with bilateral and multilateral partners and organisations in support of\\r\\na sustainable, resilient, inclusive, and green economic recovery which enhances strong\\r\\ndemocratic institutions, rule of law, and anti-corruption measures. To this end, we\\r\\nwelcome the Presidency\\xe2\\x80\\x99s initiative to convene with Ukraine an international high-level\\r\\nexperts conference, to make progress on a comprehensive reconstruction plan. We support\\r\\nthe World Bank Group\\xe2\\x80\\x99s support package to Ukraine and the EBRD\\xe2\\x80\\x99s Resilience Package,\\r\\nas well as ongoing work by the European Union and its Member States, considering a \\nUkraine reconstruction platform and a solidarity fund. Communities, civil society\\r\\norganisations, including women\\xe2\\x80\\x99s rights organisations, and the private sector should be\\r\\nactive participants in planning Ukraine\\xe2\\x80\\x99s future. The recovery and reconstruction plan\\r\\nshould build local resilience and social cohesion by ensuring that all members of society,\\r\\nparticularly those most affected by the war, equally benefit. We are strongly committed to\\r\\nsupporting Ukrainian reconstruction and will step up our respective efforts. We will also\\r\\nexplore other viable options to support Ukraine\\xe2\\x80\\x99s humanitarian needs, early recovery, and\\r\\nreconstruction, including using frozen Russian assets consistent with our national laws. We\\r\\ncall on all partners to join our efforts, and engage with us to help Ukraine to rebuild its\\r\\nfuture. \"\n",
            "label 1\n",
            "text b\"#BravoZulu to \\r\\n@USNavy\\r\\n's Strategic Systems Programs \\r\\nand all involved in the scheduled missile test flights of four unarmed Trident II (D5LE) missiles successfully launched from an Ohio-class ballistic missile submarine off the coast of southern California.\"\n",
            "label 1\n",
            "text b'Russian President Vladimir Putin on Thursday warned of a \\xe2\\x80\\x9clightning fast\\xe2\\x80\\x9d response if any nation interferes in its war in Ukraine, according to multiple reports.\\n\\nPutin made the threat against any country that creates \\xe2\\x80\\x9cstrategic threats for Russia,\\xe2\\x80\\x9d CNBC reports.\\n\\n\\xe2\\x80\\x9cIf someone intends to intervene on what is happening from the outside and creates unacceptable strategic threats for us, then they should know that our response to oncoming strikes will be swift, lightning fast,\\xe2\\x80\\x9d Putin added while speaking in Saint Petersburg, reports CNN.\\n\\n\\xe2\\x80\\x9cWe have all the tools for this, ones that no one can brag about, and we won\\xe2\\x80\\x99t brag \\xe2\\x80\\x94 we will use them if needed \\xe2\\x80\\x94 and I want everyone to know this. All the decisions have been made in this regard,\\xe2\\x80\\x9d said Putin.\\n\\nA mention in his remarks of \\xe2\\x80\\x9cinstruments [to respond] that no one can brag about\\xe2\\x80\\x9d is reportedly speculated to be a reference to the Russia\\xe2\\x80\\x99s supply of intercontinental ballistic missiles and nuclear weapons.\\nRussia cut off natural gas suddenly to two NATO countries, Bulgaria and Poland, on Wednesday, in what is believed to be an attempt to punish and divide the West for its support of Ukraine.\\n\\nThis maneuver could push Poland and Bulgaria to ration their gas supplies and further damage their economies. However, it may also hurt Russia\\xe2\\x80\\x99s ability to fund the costly war on Ukraine.\\n\\nPoland, for example, has been working to store other supplies of gas and is not in immediate trouble. The Russian state-owned company Gazprom said it shut off Polish supply because the country refused to pay in rubles, as Putin demanded.\\n\\nThe Kremlin has warned that other countries \\xe2\\x80\\x9cunfriendly\\xe2\\x80\\x9d to Russia could be next, causing European Union countries to worry, especially Germany and Italy, which buy large supplies of Russian energy.\\n\\nHowever, the EU countries have been working to reduce their dependence on Russian energy and bolster other gas supplies.\\n\\n'\n",
            "label 1\n",
            "text b'Secretary of State Antony Blinken and Secretary of Defense Lloyd Austin insisted Monday that Russia was failing in its Ukraine incursion, with Austin explicitly saying that the US wants to see Russia\\xe2\\x80\\x99s military capabilities weakened.\\n\\nThe two top US officials, speaking at a news conference at an undisclosed location in Poland near the Ukrainian border, made the comments following a trip to Kyiv, where they met with Ukrainian President Volodymyr Zelensky to pledge US support in the war and announce that US diplomats would be returning to Ukraine.\\n\\n\\xe2\\x80\\x9cWe want to see Russia weakened to the degree that it can\\xe2\\x80\\x99t do the kinds of things that it has done in invading Ukraine,\\xe2\\x80\\x9d Austin said at the news conference. \\xe2\\x80\\x9cSo it has already lost a lot of military capability. And a lot of its troops, quite frankly. And we want to see them not have the capability to very quickly reproduce that capability.\\xe2\\x80\\x9d\\n\\nBlinken told reporters that Russian attempts to \\xe2\\x80\\x9csubjugate Ukraine and take its independence\\xe2\\x80\\x9d has \\xe2\\x80\\x9cfailed.\\xe2\\x80\\x9d\\n\\n\\xe2\\x80\\x9cRussia has sought as its principal aim to totally subjugate Ukraine, to take away its sovereignty, to take away its independence \\xe2\\x80\\x93 that has failed. It has sought to assert the power of its military and its economy. We, of course, are seeing just the opposite, a military that is dramatically underperforming and an economy \\xe2\\x80\\xa6 as a result of sanctions that is in shambles,\\xe2\\x80\\x9d Blinken said.\\n\\n\\xe2\\x80\\x9cWe don\\xe2\\x80\\x99t know how the rest of this war will unfold, but we do know that a sovereign independent Ukraine will be around a lot longer than Vladimir Putin is on the scene,\\xe2\\x80\\x9d he said.\\n\\nThe remarks are the latest in a series of public comments by US leaders challenging Putin\\xe2\\x80\\x99s longevity as Russia\\xe2\\x80\\x99s President and as the war in Ukraine has shifted to a new phrase in the east. US President Joe Biden and the White House have said the US is not officially calling for regime change and officials have also predicted a potentially drawn-out conflict.\\n\\nAustin\\xe2\\x80\\x99s comments also seem to represent a further extension of US goals, building on past comments from Blinken and other officials about Moscow\\xe2\\x80\\x99s status at the end of the war.\\n\\nBlinken last week said in a statement that the US\\xe2\\x80\\x99 \\xe2\\x80\\x9ccontinued efforts to ratchet up pressure on Putin\\xe2\\x80\\x99s crumbling economy together will help weaken the Russian Government\\xe2\\x80\\x99s position and further isolate them from the world until Russia ends its unprovoked and unjustified war on Ukraine.\\xe2\\x80\\x9d\\n\\nThe White House said Monday that Austin was talking about the US \\xe2\\x80\\x9cobjective to prevent\\xe2\\x80\\x9d the Russian military from taking over Ukraine, and described it as consistent with the administration\\xe2\\x80\\x99s long-held goal.\\n\\nAsked about the defense secretary\\xe2\\x80\\x99s comments, a National Security Council spokesperson said the US wants Ukraine to win and \\xe2\\x80\\x9cthat\\xe2\\x80\\x99s why we\\xe2\\x80\\x99re doing everything we can to help Ukraine defend its sovereignty and territorial integrity, and to strengthen the Ukrainians\\xe2\\x80\\x99 hands on the battlefield and at the negotiating table.\\xe2\\x80\\x9d\\n\\nA senior State Department official told the traveling press Monday that such negotiations are \\xe2\\x80\\x9cevolving,\\xe2\\x80\\x9d noting that \\xe2\\x80\\x9cRussia\\xe2\\x80\\x99s hand has been weakened as a result of these first two months, Ukraine\\xe2\\x80\\x99s hand has been strengthened, that effects the positions that there would be in any negotiation,\\xe2\\x80\\x9d but \\xe2\\x80\\x9cpart of the problem is as best we can tell there is no effective negotiation going on right now.\\xe2\\x80\\x9d\\n'\n",
            "label 1\n",
            "text b'Finally, the White House attempted to settle the debate in a very public manner. On May 31, President Biden clarified what the US \\xe2\\x80\\x9cwill and will not do in Ukraine\\xe2\\x80\\x9d in an Op-Ed, promising advanced rocket systems to Ukraine but emphasizing that the US would not intervene in the conflict directly. Regarding Russia\\xe2\\x80\\x99s nuclear threats, the US President emphasized the lack of concrete Russian steps towards using nuclear weapons. Yet, he also confirmed previous leaks suggesting that it was the US position that any use of nuclear weapons would have \\xe2\\x80\\x9csevere consequences.\\xe2\\x80\\x9d I\\xe2\\x80\\x99ve decided that we will provide the Ukrainians with more advanced rocket systems and munitions that will enable them to more precisely strike key targets on the battlefield in Ukraine. \\xe2\\x80\\xa6 We do not seek a war between NATO and Russia. As much as I disagree with Mr. Putin, and find his actions an outrage, the United States will not try to bring about his ouster in Moscow. So long as the United States or our allies are not attacked, we will not be directly engaged in this conflict, either by sending American troops to fight in Ukraine or by attacking Russian forces. We are not encouraging or enabling Ukraine to strike beyond its borders. We do not want to prolong the war just to inflict pain on Russia. \\xe2\\x80\\xa6 If Russia does not pay a heavy price for its actions, it will send a message to other would-be aggressors that they too can seize territory and subjugate other countries. It will put the survival of other peaceful democracies at risk. And it could mark the end of the rules-based international order and open the door to aggression elsewhere, with catastrophic consequences the world over. I know many people around the world are concerned about the use of nuclear weapons. We currently see no indication that Russia has intent to use nuclear weapons in Ukraine, though Russia\\xe2\\x80\\x99s occasional rhetoric to rattle the nuclear saber is itself dangerous and extremely irresponsible. Let me be clear: Any use of nuclear weapons in this conflict on any scale would be completely unacceptable to us as well as the rest of the world and would entail severe consequences'\n",
            "label 1\n",
            "text b'THE PRESIDENT:  Good evening, everyone.  With all the press that\\xe2\\x80\\x99s here, you must be getting very tired.  Am I the 16th or 17th?  At any rate, all kidding aside, thank you for taking the time.\\n\\nI \\xe2\\x80\\x94 today marks one month since Russia began its carnage in Ukraine, the brutal invasion of Ukraine.  And we held a NATO summit the very next day.  At that time, my overwhelming objective, wanting that summit, was to have absolute unity on three key important issues among our NATO and European allies.\\n\\nFirst was to support Ukraine with military and humanitarian assistance. \\n\\nSecond was to impose the most significant \\xe2\\x80\\x94 the most significant sanctions \\xe2\\x80\\x94 economic sanction regime ever, in order to cripple Putin\\xe2\\x80\\x99s economy and punish him for his actions.\\n\\nThird was to fortify the eastern flank of our NATO Allies, who were obviously very, very concerned and somewhat at \\xe2\\x80\\x94 worried what would happen.\\n\\nWe accomplished all three of these.  And today, we\\xe2\\x80\\x99re determined to sustain those efforts and to build on them.\\nThe United States has committed to provide over $2 billion in military equipment to Ukraine since I became President \\xe2\\x80\\x94 anti-air systems, anti-armor systems, ammunition.  And our weapons are flowing into Ukraine as I speak.\\n\\nAnd today, I\\xe2\\x80\\x99m announcing the United States have prepared to commit more than $1 billion in humanitarian assistance to help get relief to millions of Ukrainians affected by the war in Ukraine.\\n\\nMany Ukrainian refugees will wish to stay in Europe, closer to their homes.  But we\\xe2\\x80\\x99ve also \\xe2\\x80\\x94 will welcome 100,000 Ukrainians to the United States with a focus on reuniting families. \\n\\nAnd we will invest $320 million to bolster democratic resilience and defend human rights in Ukraine and neighboring countries.\\n\\nWe\\xe2\\x80\\x99re also coordinating with the G7 and the European Union on food security, as well as energy security, and I\\xe2\\x80\\x99ll have more to say about that tomorrow.\\n\\nWe\\xe2\\x80\\x99re also announcing new sanctions of more than 400 individuals and entities aligned with \\xe2\\x80\\x94 in alignment with the European Union: more than 300 members of the Duma, oligarchs, and Russian defense companies that fuel the Russian war machine.\\n\\nIn addition to the 100,000 U.S. forces now stationed in Europe to defend NATO territory, NATO established, as you already know, four new battle groups in Romania, Hungary, Bulgaria, and Slovakia to reinforce the eastern front.\\n\\nPutin was banking on NATO being split.  In my early conversation with him in December and early January, it was clear to me he didn\\xe2\\x80\\x99t think we could sustain this cohesion.\\n\\nNATO has never, never been more united than it is today.  Putin is getting exactly the opposite of what he intended to have as a consequence of going into Ukraine. \\n\\nWe built that same unity with our European \\xe2\\x80\\x94 the European Union and with the leading democracies of the G7 \\xe2\\x80\\x94 in the G7. \\n\\nSo I want to thank you, and I\\xe2\\x80\\x99ll be now happy to take your questions.  Since there\\xe2\\x80\\x99s so many people out there, I\\xe2\\x80\\x99m going to \\xe2\\x80\\x94 I\\xe2\\x80\\x99ve been given a list. \\n\\nNow, how about Chris with the Associated Press?  First question.\\n\\nQ    Hi.  Thank you, Mr. President.  So you\\xe2\\x80\\x99ve warned about the real threat of chemical weapons being used.  Have you gathered specific intelligence that suggests that President Putin is deploying these weapons, moving them to position, or considering their use?\\n\\nAnd would the U.S. or NATO respond with military action if he did use chemical weapons?\\n\\nTHE PRESIDENT:  You know, on the first question, I can\\xe2\\x80\\x99t answer that.  I\\xe2\\x80\\x99m not going to give you intelligence data, number one.\\n\\nNumber two, we would respond.  We would respond if he uses it.  The nature of the response would depend on the nature of the use.\\n\\nJosh, of Bloomberg.\\n\\nQ    Perhaps I\\xe2\\x80\\x99ll just project, Mr. President.  Thank you very much.\\n\\nTHE PRESIDENT:  If I had your voice, I\\xe2\\x80\\x99d had been elected a lot earlier.  (Laughter.)\\n\\nQ    (Microphone is extended towards press member.)  Okay.  I\\xe2\\x80\\x99ll give \\xe2\\x80\\x94 I\\xe2\\x80\\x99ll give it a try.  It\\xe2\\x80\\x99s got a long arm.  Thank you.\\n\\nCan you talk to us about two things, sir: One, since your conversation with President Xi of China, have you seen any indications of action or lack of action from China that has led you to believe whether they will intervene and help Russia either with the sale of arms or the provision of supplies to support this war in Ukraine?\\nAnd secondly, can you say whether this \\xe2\\x80\\x94 the conversation today turned to the subject of food shortages, and what the U.S. will do to address wheat shortages, in particular, as a result of this war?  Thank you.\\n\\nTHE PRESIDENT:  On the first question relating to President Xi Jinping of China, I had a very straightforward conversation with Xi \\xe2\\x80\\x94 now, I guess, it\\xe2\\x80\\x99s six days ago, seven days ago \\xe2\\x80\\x94 in that range.\\n\\nAnd I made it clear to him \\xe2\\x80\\x94 I made no threats, but I made it clear to him that \\xe2\\x80\\x94 make sure he understood the consequences of him helping Russia, as had been reported and as what was expected. \\n\\nAnd I made no threats, but I pointed out the number of American and foreign corporations that left Russia as a consequence of their barbaric behavior.  And I indicated that I knew how much he \\xe2\\x80\\x94 because we had long discussions in the past about his interest in making sure he has economic relations and economic growth with Europe and the United States \\xe2\\x80\\x94 and indicated that he\\xe2\\x80\\x99d be putting himself in significant jeopardy and those \\xe2\\x80\\x94 in those aims if, in fact, he were to move forward.\\n\\nI am not going to comment on any detail about what we know or don\\xe2\\x80\\x99t know as a consequence of that conversation.  But tomorrow is \\xe2\\x80\\x94 is it tomorrow or next Monday that Ursula is having that conference with China?\\n\\nWHITE HOUSE AIDE:  April 1st.\\n\\nTHE PRESIDENT:  The 1st \\xe2\\x80\\x94 on April 1st.\\n\\nWe\\xe2\\x80\\x99ve had discussions \\xe2\\x80\\x94 because I think that China understands that its economic future is much more closely tied to the West than it is to Russia.  And so I \\xe2\\x80\\x94 I\\xe2\\x80\\x99m hopeful that he \\xe2\\x80\\x94 he does not get engaged.\\nWe also did discuss today that there\\xe2\\x80\\x99s a need for us to set up, NATO to set up, and \\xe2\\x80\\x94 and the EU \\xe2\\x80\\x94 to set up a system whereby we have an organization looking at who has violated any of the sanctions, and where and when and how they violated them.  And that\\xe2\\x80\\x99s something we\\xe2\\x80\\x99re going to put in train.  It\\xe2\\x80\\x99s not done yet. \\n\\nSo, with regard to Xi, I \\xe2\\x80\\x94 I have nothing more to report.\\n \\nWith regard to food shortage, yes, we did talk about food shortages.  And \\xe2\\x80\\x94 and it\\xe2\\x80\\x99s going to be real.  The price of these sanctions is not just imposed upon Russia, it\\xe2\\x80\\x99s imposed upon an awful lot of countries as well, including European countries and our country as well.  And \\xe2\\x80\\x94 because both Russia and Ukraine have been the breadbasket of Europe in terms of wheat, for example \\xe2\\x80\\x94 just to give you one example. \\n \\nBut we had a long discussion in the G7 with the \\xe2\\x80\\x94 with both the United States, which has a significant \\xe2\\x80\\x94 the third-largest producer of wheat in the world \\xe2\\x80\\x94 as well as Canada, which is also a major, major producer.  And we both talked about how we could increase and disseminate more rapidly food.  Food shortages.\\n \\nAnd in addition to that, we talked about urging all the European countries and everyone else to end trade restrictions on \\xe2\\x80\\x94 on sending \\xe2\\x80\\x94 limitations on sending food abroad.  And so, we are in the process of working out, with our European friends, what it would be \\xe2\\x80\\x94 what it would take to help alleviate the concerns relative to food shortages. \\n \\nWe also talked about a significant, major U.S. investment, among others, in terms of providing for the need for humanitarian assistance, including food, as we move forward. \\n \\nTarini, of the Wall Street Journal.  Watch out you don\\xe2\\x80\\x99t get hit in the head there now.  (Laughter.)\\n \\nQ    Mr. President, in your view, does President Zelenskyy need to cede any Ukrainian territory in order to gain a ceasefire with Russia?  Or is that completely off the table?\\n \\nAnd then also, do you think that Russia needs to be removed from the G20?\\n \\nTHE PRESIDENT:  On the latter point, my answer is yes.  That depends on the G20.  I \\xe2\\x80\\x94 that was raised today.  And I raised the possibility, if that can\\xe2\\x80\\x99t be done \\xe2\\x80\\x94 if Indonesia and others do not agree, then we should, in my view, ask to have both Ukraine be able to attend the meetings, as well as \\xe2\\x80\\x94 well, basically Ukraine being able to attend the G20 meetings and observe.\\n \\nWith regard to \\xe2\\x80\\x94 what was the first question? \\n \\nQ    If you think that Ukraine needs to cease \\xe2\\x80\\x94 to give up any territory in order to get a ceasefire.\\n \\nTHE PRESIDENT:  That is a total judgment based on Ukraine.  \\xe2\\x80\\x9cNothing about Ukraine without Ukraine.\\xe2\\x80\\x9d  I don\\xe2\\x80\\x99t believe that they\\xe2\\x80\\x99re going to have to do that, but that\\xe2\\x80\\x99s a judgment.  There\\xe2\\x80\\x99s negotiations \\xe2\\x80\\x94 that are discussions, I should say \\xe2\\x80\\x94 that have taken place that I have not been part of, including Ukrainians.  And it\\xe2\\x80\\x99s \\xe2\\x80\\x94 it\\xe2\\x80\\x99s their judgment to make. \\n \\nCecilia, ABC.  There you are. \\n \\nOop.\\n \\nQ    Oh, (inaudible).  Thank you. \\n \\nSir, you\\xe2\\x80\\x99ve made it very clear in this conflict that you do not want to see World War Three.  But is it possible that, in expressing that so early, that you were too quick to rule out direct military intervention in this war?  Could Putin have been emboldened, knowing that you were not going to get involved directly in this conflict?\\n \\nTHE PRESIDENT:  No and no. \\n \\nQ    You do not believe that?\\n \\nAnd to clarify, on chemical weapons: Could \\xe2\\x80\\x94 if chemical weapons were used in Ukraine, would that trigger a military response from NATO?\\n \\nTHE PRESIDENT:  It would re- \\xe2\\x80\\x94 it would trigger a response in kind, whether or not \\xe2\\x80\\x94 you\\xe2\\x80\\x99re asking whether NATO would cross; we\\xe2\\x80\\x99d make that decision at the time. \\n \\nQ    And my final question: Because you\\xe2\\x80\\x99re heading to Poland tomorrow, do you think that getting a firsthand look at the effects of this war on these millions of Ukrainians who have fled their country could change the way that you might respond?\\n \\nTHE PRESIDENT:  I don\\xe2\\x80\\x99t think so, because I\\xe2\\x80\\x99ve been to many, many warzones.  I\\xe2\\x80\\x99ve been in refugee camps.  I\\xe2\\x80\\x99ve been in warzones for the last 15 years.  And it\\xe2\\x80\\x99s \\xe2\\x80\\x94 it\\xe2\\x80\\x99s devastating.  And what \\xe2\\x80\\x94 the thing you look at the most is you see these young children, you see children without parents that are in those camps or in \\xe2\\x80\\x94 or refugees.  You see women and husbands \\xe2\\x80\\x94 men and women who are completely lost and have no \\xe2\\x80\\x94 you see the look \\xe2\\x80\\x94 that blank look on their face, that absolute feeling of, \\xe2\\x80\\x9cMy God, where am I?  What\\xe2\\x80\\x99s going to happen to me?\\xe2\\x80\\x9d \\n \\nAnd so, it \\xe2\\x80\\x94 what it will do, it will reinforce my commitment to have the United States make sure we are a major piece of dealing with the relocation of all those folks, as well as humanitarian assistance needed both inside Ukraine and outside Ukraine. \\n \\nFor example, this is not something that Poland or Romania or Germany should carry on their own.  This is an international responsibility.  And the United States, as the leader \\xe2\\x80\\x94 one of the leaders in the international community, has an obligation to be engaged \\xe2\\x80\\x94 to be engaged and do all we can to ease the suffering and pain of innocent women and children, and men, for that matter, throughout \\xe2\\x80\\x94 throughout Ukraine and those who have made it across the border.\\n \\nI plan on attempting to see those folks, as well as I hope I\\xe2\\x80\\x99m going to be able to see \\xe2\\x80\\x94 I guess I\\xe2\\x80\\x99m not supposed to say where I\\xe2\\x80\\x99m going, am I?  But anyway, I hope I get to see a lot of people.  (Laughter.)\\n \\nMarkus, with Der Spiegel.\\n \\nQ    Thanks, Mr. President.  There\\xe2\\x80\\x99s a presidential election coming up in 2024.  And as you know, there are wide- \\xe2\\x80\\x94\\n \\nTHE PRESIDENT:  You\\xe2\\x80\\x99re kidding. \\n \\nQ    Yes.  (Laughter.)  It\\xe2\\x80\\x99s true.  And there are widespread concerns in Europe that a figure like your predecessor, maybe even your predecessor himself, might get elected president again.  So, are there any steps, anything you\\xe2\\x80\\x99re trying to do and NATO is trying to do here, these days, to prevent what you\\xe2\\x80\\x99re trying to do becoming undone two years from now?  Thank you.\\n \\nTHE PRESIDENT:  No, I \\xe2\\x80\\x94 that\\xe2\\x80\\x99s not how I think of this.  I\\xe2\\x80\\x99ve been dealing with foreign policy for longer than anybody that\\xe2\\x80\\x99s involved in this process right now.  I have no concerns about the impact \\xe2\\x80\\x94\\n\\nI made a commitment when I ran this time.  I wasn\\xe2\\x80\\x99t going to run again, and I mean that sincerely.  I had no intention of running for President again and \\xe2\\x80\\x94 until I saw those folks coming out of the fields in Virginia carrying torches and carrying Nazi banners and literally singing the same vile rhyme that they used in Germany in the early \\xe2\\x80\\x9820s \\xe2\\x80\\x94 or \\xe2\\x80\\x9830s, I should say.  And then, when the gentleman you mentioned was asked what he thought \\xe2\\x80\\x94 and a young woman was killed, a protester \\xe2\\x80\\x94 and he asked \\xe2\\x80\\x94 was asked what he thought, he said, \\xe2\\x80\\x9cThere are very good people on both sides.\\xe2\\x80\\x9d  And that\\xe2\\x80\\x99s when I decided I wasn\\xe2\\x80\\x99t going to be quiet any longer.\\n \\nAnd when I ran this time \\xe2\\x80\\x94 and I think the American press, whether they look at me favorably or unfavorably, acknowledge this \\xe2\\x80\\x94 I made a determination: Nothing is worth \\xe2\\x80\\x94 no election is worth my not doing exactly what I think is the right thing.  Not a joke.  I\\xe2\\x80\\x99m too long in the tooth to fool with this any longer. \\n \\nAnd so, we\\xe2\\x80\\x99re a long way off in elections \\xe2\\x80\\x94 a long way off.  My focus of any election is on making sure that we retain the House and the United States Senate so that I have the room to continue to do the things that I\\xe2\\x80\\x99ve been able to do in terms of grow the economy and deal in a rational way with American foreign policy and lead the world \\xe2\\x80\\x94 lead the \\xe2\\x80\\x94 be the leader of the free world. \\n \\nSo \\xe2\\x80\\x94 but it\\xe2\\x80\\x99s not a \\xe2\\x80\\x94 it\\xe2\\x80\\x99s not an illogical question for someone to ask.  I say to people at home: Imagine if we sat and watched the doors of the Bundestag broken down and police officers killed and hundreds of people storming in, or imagine if we saw that happening in the British Parliament or whatever.  How would we feel? \\n \\nAnd one of the things that I take some solace from is: I don\\xe2\\x80\\x99t think you\\xe2\\x80\\x99ll find any European leader who thinks that I am not up to the job.  And I mean that sincerely.  It\\xe2\\x80\\x99s not like, \\xe2\\x80\\x9cWhoa\\xe2\\x80\\xa6\\xe2\\x80\\x9d  It\\xe2\\x80\\x99s that \\xe2\\x80\\x94 that \\xe2\\x80\\x94\\n \\nThe point is that when \\xe2\\x80\\x94 the first G7 meeting I attended, like the one I did today, was in Great Britain.  And I sat down, and I said, \\xe2\\x80\\x9cAmerica is back.\\xe2\\x80\\x9d  And one of the \\xe2\\x80\\x94 one of my counterparts, colleagues, a head of state, said, \\xe2\\x80\\x9cFor how long?\\xe2\\x80\\x9d  \\xe2\\x80\\x9cFor how long?\\xe2\\x80\\x9d \\n \\nAnd so, I don\\xe2\\x80\\x99t blame \\xe2\\x80\\x94 I don\\xe2\\x80\\x99t \\xe2\\x80\\x94 I don\\xe2\\x80\\x99t criticize anybody for asking that question.  But the next election, I\\xe2\\x80\\x99d be very fortunate if I had that same man running against me.\\n \\nThank you very, very much. \\n \\n(Cross-talk by reporters.)\\n \\nWhoa, whoa, whoa, whoa, whoa, whoa, whoa, no \\xe2\\x80\\x94 yeah, one final question.  Right. \\n \\n(Cross-talk by reporters.)\\n \\nHey, well, wait \\xe2\\x80\\x94 hold on a second, please.  I was supposed to be, an hour ago, at the European Union meeting and \\xe2\\x80\\x94 to speak.\\n \\nQ    Thank you, Mr. President.\\n \\nTHE PRESIDENT:  No, I\\xe2\\x80\\x99m not thanking you.\\n \\nSomeone I haven\\xe2\\x80\\x99t called on before.  You. \\n \\nQ    Mr. President \\xe2\\x80\\x94\\n \\nTHE PRESIDENT:  Who are you?\\n \\nQ    I\\xe2\\x80\\x99m Christina Ruffini from CBS.  Thank you, sir.\\n \\nTHE PRESIDENT:  Okay. \\n \\nQ    Sir, deterrence didn\\xe2\\x80\\x99t work.  What makes you think Vladimir Putin will alter course based on the action you\\xe2\\x80\\x99ve taken today?\\n \\nTHE PRESIDENT:  Let\\xe2\\x80\\x99s get something straight: You remember, if you\\xe2\\x80\\x99ve covered me from the beginning, I did not say that in fact the sanctions would deter him.  Sanctions never deter.  You keep talking about that. \\n \\nSanctions never deter.  The maintenance of sanctions \\xe2\\x80\\x94 the maintenance of sanctions, the increasing the pain, and the demonstration \\xe2\\x80\\x94 why I asked for this NATO meeting today \\xe2\\x80\\x94 is to be sure that after a month, we will sustain what we\\xe2\\x80\\x99re doing not just next month, the following month, but for the remainder of this entire year.  That\\xe2\\x80\\x99s what will stop him.\\n \\nQ    Do you believe the actions today will have an impact on making Russia change course in Ukraine?\\n \\nTHE PRESIDENT:  That\\xe2\\x80\\x99s not what I said.  You \\xe2\\x80\\x94 you \\xe2\\x80\\x94 you\\xe2\\x80\\x99re playing a game with me. \\n \\nQ    (Inaudible.)  (Off-mic.)\\n \\nTHE PRESIDENT:  I know.  The answer is no. \\n \\nI think what happens is, we have to demonstrate \\xe2\\x80\\x94 the purpose \\xe2\\x80\\x94 the single-most important thing is for us to stay unified, and the world continue to focus on what a brute this guy is and all the innocent people\\xe2\\x80\\x99s lives that are being lost and ruined, and what\\xe2\\x80\\x99s going on.  That\\xe2\\x80\\x99s the important thing. \\n \\nBut, look, if you\\xe2\\x80\\x99re Putin and you think that the \\xe2\\x80\\x94 that Europe is going to crack in a month or six weeks or two months, why not \\xe2\\x80\\x94 they can take anything for another month. \\n \\nBut we have to demonstrate \\xe2\\x80\\x94 the reason I asked for the meeting \\xe2\\x80\\x94 we have to stay fully, totally, thoroughly united. \\n \\nThank you.'\n",
            "label 1\n",
            "text b'Russia\\'s ambassador to Britain has told the BBC he does not believe his country will use tactical nuclear weapons in the war against Ukraine.\\n\\nAndrei Kelin said that according to Russian military rules, such weapons are not used in conflicts like this.\\n\\nHe also described allegations of war crimes in the town of Bucha as \"a fabrication\".\\n\\nAnd he called UK Foreign Secretary Liz Truss \"very belligerent\" and inexperienced.\\n\\nOn the use of nuclear weapons, Mr Kelin said Russia has very strict rules for their use, mainly when the state\\'s existence is threatened.\\n\\n\"It has nothing to do with the current operation,\" he told BBC One\\'s Sunday Morning.\\n\\nWhen Vladimir Putin put his nuclear forces on high alert in late February, soon after the invasion, it was widely perceived as a warning.\\n\\nMr Putin blamed the development on aggression by the West and Nato. But the UK\\'s Defence Secretary Ben Wallace branded it an attempt to distract people from \"what\\'s going wrong in Ukraine\", saying Russia was behind schedule on its invasion after just a few days, and trying to \"remind the world\" it had a deterrent.\\n\\nTactical nuclear weapons are those which can be used at relatively short distances, as opposed to \"strategic\" nuclear weapons which can be launched over much longer distances and raise the spectre of all-out nuclear war.\\n\\nBut the term still includes many types of weapon, including smaller bombs and missiles used on a battlefield. Russia is thought to have about 2,000 tactical nuclear weapons.\\n\\nThe BBC\\'s Clive Myrie asked the ambassador about comments made by UK Foreign Minister Liz Truss, who said the war will only end once Russian President Vladimir Putin removes his troops entirely.\\r\\n\\r\\nMr Kelin said Ms Truss was \"very belligerent\".\\r\\n\\r\\nHe said she was \"neither a professional military man\" nor experienced as foreign secretary. \"If she would like to continue the war she will prolongate the conflict,\" he added.\\r\\n\\r\\nIn a sometimes terse exchange, the ambassador denied Russian forces were shelling civilians and said allegations of war crimes in the town of Bucha were a \"fabrication\".\\r\\n\\r\\nAsked the question, \"Why is Russia conducting this war in this way, committing war crimes?\" Mr Kelin replied: \"The mayor of Bucha in his initial statement has confirmed that Russian troops has left, everything is clean and calm, the town in a normal state.\\r\\n\\r\\n\"Nothing is happening, no bodies are on the street. But next, after it has been done - but anyway...\"\\r\\n\\r\\nMyrie then pressed him: \"So this is all made up, Sir? This is all a fabrication? All this evidence is a fabrication?\"\\n\\n\"In our view it is a fabrication. It is used just to interrupt negotiations,\" the ambassador replied.\\r\\n\\r\\nRussia has made such allegations before, with Foreign Minister Sergei Lavrov earlier claiming that footage of bodies in Bucha was \"staged\" after the Russians withdrew.\\r\\n\\r\\nThis was contradicted by numerous eyewitness accounts from residents, who told the BBC that Russian troops had summarily executed their loved ones.\\r\\n\\r\\n\"He was just a peaceful man, a family man, a welder, who struggled with a spine fracture and was disabled all his life,\" one man said of his murdered son-in-law.\\r\\n\\r\\nSatellite imagery also appears to directly contradict Moscow\\'s position, showing bodies lying in the street nearly two weeks before the Russians left the town.\\n\\nMr Kelin said the footage was \"probably a piece of a film or a piece of a game or a joke or whatever, it\\'s a computer games set\".\\n\\nWhat we heard from Russia\\'s UK ambassador Andrei Kelin is what we\\'ve been hearing for years from Russian officials whenever their county is accused of anything.\\r\\n\\r\\nAll accusations are rebuffed, all evidence of Russian complicity is dismissed.\\r\\n\\r\\nWhat you end up with is this parallel reality in which CCTV footage of Russian soldiers shooting dead unarmed Ukrainian civilians is dismissed as a joke or a computer game.\\r\\n\\r\\nThe horrors of Bucha are dismissed as a fabrication, and the levelling of residential areas of Mariupol is brushed aside as either collateral damage or blamed on Ukrainian soldiers.\\r\\n\\r\\nIn other words, none of this is ever Russia\\'s fault, everyone is against Russia, everyone is blaming Russia, everyone is accusing Russia and it claims it is the innocent party.\\r\\n\\r\\nThis is the Kremlin narrative which we\\'ve heard many times before.\\r\\n\\r\\nWe heard it after the Salisbury poisonings, we heard it after the attempted assassination of the Russian opposition leader Alexei Navalny and we\\'re hearing it again now.\\n\\n\\n'\n",
            "label 0\n",
            "text b'In Washington, US intelligence officials warned that the conflict would be prolonged and escalation remained possible. On May 10, Director of National Intelligence Haines provided another intelligence assessment of the ongoing war in a Testimony on Global Threats and National Security for the Senate Armed Services Committee. Putin was \\xe2\\x80\\x9cpreparing for prolonged conflict\\xe2\\x80\\x9d during which he still intended to \\xe2\\x80\\x9cachieve goals beyond the Donbas\\xe2\\x80\\x9c as he \\xe2\\x80\\x9cmost likely\\xe2\\x80\\x9d also judged that Russia had \\xe2\\x80\\x9ca greater ability and willingness to endure challenges than his adversaries.\\xe2\\x80\\x9d Putin was \\xe2\\x80\\x9cprobably counting on US and EU resolve to weaken,\\xe2\\x80\\x9d Haines explained. In this context, she dampened hopes of a negotiated solution as long as both sides \\xe2\\x80\\x9cbelieve they can continue to make progress militarily.\\xe2\\x80\\x9d However, she warned, \\xe2\\x80\\x9cPutin faces a mismatch between his ambitions and Russia\\xe2\\x80\\x99s current conventional military capabilities.\\xe2\\x80\\x9d Therefore, \\xe2\\x80\\x9cthe next few months could see us moving along a more unpredictable and potentially escalatory trajectory. At the very least, \\xe2\\x80\\xa6 the dichotomy will usher in a period of more ad hoc decision-making in Russia.\\xe2\\x80\\x9d Current trends increase \\xe2\\x80\\x9cthe likelihood that President Putin will turn to more drastic means,\\xe2\\x80\\x9d including \\xe2\\x80\\x9cpotentially escalatory military actions,\\xe2\\x80\\x9d continued Haines. However, Haines interpreted Russia\\xe2\\x80\\x99s nuclear rhetoric as an attempt \\xe2\\x80\\x9cto deter the United States and the West from increasing lethal aid to Ukraine and to respond to public comments of the US and NATO Allies that suggest expanded Western goals in the conflict. If Putin perceives the United States is ignoring his threats, he may try to signal to Washington the heightened danger of its support to Ukraine by authorizing another large nuclear exercise involving a major dispersal of mobile, intercontinental missiles, heavy bombers, strategic submarines,\\xe2\\x80\\x9d she elaborated. But: Putin \\xe2\\x80\\x9cwould only authorize the use of nuclear weapons if he perceived an existential threat to the Russian state or regime,\\xe2\\x80\\x9d she noted. \\xe2\\x80\\x9cThat could be the case in the event that he perceives that he is losing the war in Ukraine and that NATO, in effect, is either intervening or about to intervene.., which would obviously contribute to a perception that he is about to lose the war in Ukraine,\\xe2\\x80\\x9d explained Haines. She also emphasized that \\xe2\\x80\\x9cwith tensions this high there\\xe2\\x80\\x99s always an enhanced potential for miscalculation, unintended escalation, which we hope our intelligence can help to mitigate'\n",
            "label 1\n",
            "text b'In Washington, former officials emphasized the \\xe2\\x80\\x9cgame changing\\xe2\\x80\\x9d nature of a Russian nuclear employment. On May 6, former nuclear policy Pentagon official Leonor Tomero told US outlets that Russian nuclear use would \\xe2\\x80\\x9cgalvanize the whole world\\xe2\\x80\\x9d against Moscow. \\xe2\\x80\\x9cWe should make clear that it would have devastating consequences,\\xe2\\x80\\x9d she stressed. Civilian victims in particular would create a \\xe2\\x80\\x9cstrong push\\xe2\\x80\\x9d for a direct US intervention.'\n",
            "label 1\n"
          ]
        }
      ],
      "source": [
        "for text_batch, label_batch in raw_train_ds.take(1):\n",
        "  for i in range(10):\n",
        "    print(\"text\", text_batch.numpy()[i])\n",
        "    print(\"label\", label_batch.numpy()[i])"
      ]
    },
    {
      "cell_type": "markdown",
      "metadata": {
        "id": "JWq1SUIrp1a-"
      },
      "source": [
        "Notice the reviews contain raw text (with punctuation and occasional HTML tags like `<br/>`). You will show how to handle these in the following section. \n",
        "\n",
        "The labels are 0 or 1. To see which of these correspond to positive and negative movie reviews, you can check the `class_names` property on the dataset.\n"
      ]
    },
    {
      "cell_type": "code",
      "execution_count": null,
      "metadata": {
        "id": "MlICTG8spyO2",
        "outputId": "e2ffebb3-debf-4990-b4b3-d995841cfda1",
        "colab": {
          "base_uri": "https://localhost:8080/"
        }
      },
      "outputs": [
        {
          "output_type": "stream",
          "name": "stdout",
          "text": [
            "Label 0 corresponds to deescalatory\n",
            "Label 1 corresponds to escalatory\n"
          ]
        }
      ],
      "source": [
        "print(\"Label 0 corresponds to\", raw_train_ds.class_names[0])\n",
        "print(\"Label 1 corresponds to\", raw_train_ds.class_names[1])"
      ]
    },
    {
      "cell_type": "markdown",
      "metadata": {
        "id": "pbdO39vYqdJr"
      },
      "source": [
        "Next, you will create a validation and test dataset. You will use the remaining 5,000 reviews from the training set for validation."
      ]
    },
    {
      "cell_type": "markdown",
      "metadata": {
        "id": "SzxazN8Hq1pF"
      },
      "source": [
        "Note:  When using the `validation_split` and `subset` arguments, make sure to either specify a random seed, or to pass `shuffle=False`, so that the validation and training splits have no overlap."
      ]
    },
    {
      "cell_type": "code",
      "execution_count": null,
      "metadata": {
        "id": "JsMwwhOoqjKF",
        "outputId": "841caba2-a4e0-49ff-ba8a-a209e40c014b",
        "colab": {
          "base_uri": "https://localhost:8080/"
        }
      },
      "outputs": [
        {
          "output_type": "stream",
          "name": "stdout",
          "text": [
            "Found 90 files belonging to 2 classes.\n",
            "Using 18 files for validation.\n"
          ]
        }
      ],
      "source": [
        "raw_val_ds = tf.keras.utils.text_dataset_from_directory(\n",
        "    '/content/drive/MyDrive/nuclear threat text files', \n",
        "    batch_size=batch_size, \n",
        "    validation_split=0.2, \n",
        "    subset='validation', \n",
        "    seed=seed)"
      ]
    },
    {
      "cell_type": "code",
      "execution_count": null,
      "metadata": {
        "id": "rdSr0Nt3q_ns",
        "outputId": "8b1d91bf-ef3e-43f4-9399-67aa635a1769",
        "colab": {
          "base_uri": "https://localhost:8080/"
        }
      },
      "outputs": [
        {
          "output_type": "stream",
          "name": "stdout",
          "text": [
            "Found 90 files belonging to 2 classes.\n"
          ]
        }
      ],
      "source": [
        "raw_test_ds = tf.keras.utils.text_dataset_from_directory(\n",
        "    '/content/drive/MyDrive/nuclear threat text files', \n",
        "    batch_size=batch_size)"
      ]
    },
    {
      "cell_type": "markdown",
      "metadata": {
        "id": "qJmTiO0IYAjm"
      },
      "source": [
        "### Prepare the dataset for training\n",
        "\n",
        "Next, you will standardize, tokenize, and vectorize the data using the helpful `tf.keras.layers.TextVectorization` layer. \n",
        "\n",
        "Standardization refers to preprocessing the text, typically to remove punctuation or HTML elements to simplify the dataset. Tokenization refers to splitting strings into tokens (for example, splitting a sentence into individual words, by splitting on whitespace). Vectorization refers to converting tokens into numbers so they can be fed into a neural network. All of these tasks can be accomplished with this layer.\n",
        "\n",
        "As you saw above, the reviews contain various HTML tags like `<br />`. These tags will not be removed by the default standardizer in the `TextVectorization` layer (which converts text to lowercase and strips punctuation by default, but doesn't strip HTML). You will write a custom standardization function to remove the HTML."
      ]
    },
    {
      "cell_type": "markdown",
      "metadata": {
        "id": "ZVcHl-SLrH-u"
      },
      "source": [
        "Note: To prevent [training-testing skew](https://developers.google.com/machine-learning/guides/rules-of-ml#training-serving_skew) (also known as training-serving skew), it is important to preprocess the data identically at train and test time. To facilitate this, the `TextVectorization` layer can be included directly inside your model, as shown later in this tutorial."
      ]
    },
    {
      "cell_type": "code",
      "execution_count": null,
      "metadata": {
        "id": "SDRI_s_tX1Hk"
      },
      "outputs": [],
      "source": [
        "def custom_standardization(input_data):\n",
        "  lowercase = tf.strings.lower(input_data)\n",
        "  stripped_html = tf.strings.regex_replace(lowercase, '<br />', ' ')\n",
        "  return tf.strings.regex_replace(stripped_html,\n",
        "                                  '[%s]' % re.escape(string.punctuation),\n",
        "                                  '')"
      ]
    },
    {
      "cell_type": "markdown",
      "metadata": {
        "id": "d2d3Aw8dsUux"
      },
      "source": [
        "Next, you will create a `TextVectorization` layer. You will use this layer to standardize, tokenize, and vectorize our data. You set the `output_mode` to `int` to create unique integer indices for each token.\n",
        "\n",
        "Note that you're using the default split function, and the custom standardization function you defined above. You'll also define some constants for the model, like an explicit maximum `sequence_length`, which will cause the layer to pad or truncate sequences to exactly `sequence_length` values."
      ]
    },
    {
      "cell_type": "code",
      "execution_count": null,
      "metadata": {
        "id": "-c76RvSzsMnX"
      },
      "outputs": [],
      "source": [
        "max_features = 10000\n",
        "sequence_length = 250\n",
        "\n",
        "vectorize_layer = layers.TextVectorization(\n",
        "    standardize=custom_standardization,\n",
        "    max_tokens=max_features,\n",
        "    output_mode='int',\n",
        "    output_sequence_length=sequence_length)"
      ]
    },
    {
      "cell_type": "markdown",
      "metadata": {
        "id": "vlFOpfF6scT6"
      },
      "source": [
        "Next, you will call `adapt` to fit the state of the preprocessing layer to the dataset. This will cause the model to build an index of strings to integers."
      ]
    },
    {
      "cell_type": "markdown",
      "metadata": {
        "id": "lAhdjK7AtroA"
      },
      "source": [
        "Note: It's important to only use your training data when calling adapt (using the test set would leak information)."
      ]
    },
    {
      "cell_type": "code",
      "execution_count": null,
      "metadata": {
        "id": "GH4_2ZGJsa_X"
      },
      "outputs": [],
      "source": [
        "# Make a text-only dataset (without labels), then call adapt\n",
        "train_text = raw_train_ds.map(lambda x, y: x)\n",
        "vectorize_layer.adapt(train_text)"
      ]
    },
    {
      "cell_type": "markdown",
      "metadata": {
        "id": "SHQVEFzNt-K_"
      },
      "source": [
        "Let's create a function to see the result of using this layer to preprocess some data."
      ]
    },
    {
      "cell_type": "code",
      "execution_count": null,
      "metadata": {
        "id": "SCIg_T50wOCU"
      },
      "outputs": [],
      "source": [
        "def vectorize_text(text, label):\n",
        "  text = tf.expand_dims(text, -1)\n",
        "  return vectorize_layer(text), label"
      ]
    },
    {
      "cell_type": "code",
      "execution_count": null,
      "metadata": {
        "id": "XULcm6B3xQIO",
        "outputId": "c95fde01-7537-4539-8ce9-93fa55ab3887",
        "colab": {
          "base_uri": "https://localhost:8080/"
        }
      },
      "outputs": [
        {
          "output_type": "stream",
          "name": "stdout",
          "text": [
            "Review tf.Tensor(b\"#BravoZulu to \\r\\n@USNavy\\r\\n's Strategic Systems Programs \\r\\nand all involved in the scheduled missile test flights of four unarmed Trident II (D5LE) missiles successfully launched from an Ohio-class ballistic missile submarine off the coast of southern California.\", shape=(), dtype=string)\n",
            "Label escalatory\n",
            "Vectorized review (<tf.Tensor: shape=(1, 250), dtype=int64, numpy=\n",
            "array([[8453,    3, 5244, 3917,  149,  225, 6240,    4,   41,  667,    6,\n",
            "           2, 1657,  234,  498,  928,    5,  822, 2429, 5369, 1297, 8039,\n",
            "         398, 1648,  815,   36,   51, 6556,  714,  234, 2942,  321,    2,\n",
            "        2322,    5,  955, 2776,    0,    0,    0,    0,    0,    0,    0,\n",
            "           0,    0,    0,    0,    0,    0,    0,    0,    0,    0,    0,\n",
            "           0,    0,    0,    0,    0,    0,    0,    0,    0,    0,    0,\n",
            "           0,    0,    0,    0,    0,    0,    0,    0,    0,    0,    0,\n",
            "           0,    0,    0,    0,    0,    0,    0,    0,    0,    0,    0,\n",
            "           0,    0,    0,    0,    0,    0,    0,    0,    0,    0,    0,\n",
            "           0,    0,    0,    0,    0,    0,    0,    0,    0,    0,    0,\n",
            "           0,    0,    0,    0,    0,    0,    0,    0,    0,    0,    0,\n",
            "           0,    0,    0,    0,    0,    0,    0,    0,    0,    0,    0,\n",
            "           0,    0,    0,    0,    0,    0,    0,    0,    0,    0,    0,\n",
            "           0,    0,    0,    0,    0,    0,    0,    0,    0,    0,    0,\n",
            "           0,    0,    0,    0,    0,    0,    0,    0,    0,    0,    0,\n",
            "           0,    0,    0,    0,    0,    0,    0,    0,    0,    0,    0,\n",
            "           0,    0,    0,    0,    0,    0,    0,    0,    0,    0,    0,\n",
            "           0,    0,    0,    0,    0,    0,    0,    0,    0,    0,    0,\n",
            "           0,    0,    0,    0,    0,    0,    0,    0,    0,    0,    0,\n",
            "           0,    0,    0,    0,    0,    0,    0,    0,    0,    0,    0,\n",
            "           0,    0,    0,    0,    0,    0,    0,    0,    0,    0,    0,\n",
            "           0,    0,    0,    0,    0,    0,    0,    0,    0,    0,    0,\n",
            "           0,    0,    0,    0,    0,    0,    0,    0]])>, <tf.Tensor: shape=(), dtype=int32, numpy=1>)\n"
          ]
        }
      ],
      "source": [
        "# retrieve a batch (of 32 reviews and labels) from the dataset\n",
        "text_batch, label_batch = next(iter(raw_train_ds))\n",
        "first_review, first_label = text_batch[0], label_batch[0]\n",
        "print(\"Review\", first_review)\n",
        "print(\"Label\", raw_train_ds.class_names[first_label])\n",
        "print(\"Vectorized review\", vectorize_text(first_review, first_label))"
      ]
    },
    {
      "cell_type": "markdown",
      "metadata": {
        "id": "6u5EX0hxyNZT"
      },
      "source": [
        "As you can see above, each token has been replaced by an integer. You can lookup the token (string) that each integer corresponds to by calling `.get_vocabulary()` on the layer."
      ]
    },
    {
      "cell_type": "code",
      "execution_count": null,
      "metadata": {
        "id": "kRq9hTQzhVhW",
        "outputId": "0f5b712d-cdf4-47c5-b4dc-9ad58f71d634",
        "colab": {
          "base_uri": "https://localhost:8080/"
        }
      },
      "outputs": [
        {
          "output_type": "stream",
          "name": "stdout",
          "text": [
            "1287 --->  legitimate\n",
            " 313 --->  additional\n",
            "Vocabulary size: 8986\n"
          ]
        }
      ],
      "source": [
        "print(\"1287 ---> \",vectorize_layer.get_vocabulary()[1287])\n",
        "print(\" 313 ---> \",vectorize_layer.get_vocabulary()[313])\n",
        "print('Vocabulary size: {}'.format(len(vectorize_layer.get_vocabulary())))"
      ]
    },
    {
      "cell_type": "markdown",
      "metadata": {
        "id": "XD2H6utRydGv"
      },
      "source": [
        "You are nearly ready to train your model. As a final preprocessing step, you will apply the TextVectorization layer you created earlier to the train, validation, and test dataset."
      ]
    },
    {
      "cell_type": "code",
      "execution_count": null,
      "metadata": {
        "id": "2zhmpeViI1iG"
      },
      "outputs": [],
      "source": [
        "train_ds = raw_train_ds.map(vectorize_text)\n",
        "val_ds = raw_val_ds.map(vectorize_text)\n",
        "test_ds = raw_test_ds.map(vectorize_text)"
      ]
    },
    {
      "cell_type": "markdown",
      "metadata": {
        "id": "YsVQyPMizjuO"
      },
      "source": [
        "### Configure the dataset for performance\n",
        "\n",
        "These are two important methods you should use when loading data to make sure that I/O does not become blocking.\n",
        "\n",
        "`.cache()` keeps data in memory after it's loaded off disk. This will ensure the dataset does not become a bottleneck while training your model. If your dataset is too large to fit into memory, you can also use this method to create a performant on-disk cache, which is more efficient to read than many small files.\n",
        "\n",
        "`.prefetch()` overlaps data preprocessing and model execution while training. \n",
        "\n",
        "You can learn more about both methods, as well as how to cache data to disk in the [data performance guide](https://www.tensorflow.org/guide/data_performance)."
      ]
    },
    {
      "cell_type": "code",
      "execution_count": null,
      "metadata": {
        "id": "wMcs_H7izm5m"
      },
      "outputs": [],
      "source": [
        "AUTOTUNE = tf.data.AUTOTUNE\n",
        "\n",
        "train_ds = train_ds.cache().prefetch(buffer_size=AUTOTUNE)\n",
        "val_ds = val_ds.cache().prefetch(buffer_size=AUTOTUNE)\n",
        "test_ds = test_ds.cache().prefetch(buffer_size=AUTOTUNE)"
      ]
    },
    {
      "cell_type": "markdown",
      "metadata": {
        "id": "LLC02j2g-llC"
      },
      "source": [
        "### Create the model\n",
        "\n",
        "It's time to create your neural network:"
      ]
    },
    {
      "cell_type": "code",
      "execution_count": null,
      "metadata": {
        "id": "dkQP6in8yUBR"
      },
      "outputs": [],
      "source": [
        "embedding_dim = 16"
      ]
    },
    {
      "cell_type": "code",
      "execution_count": null,
      "metadata": {
        "id": "xpKOoWgu-llD",
        "outputId": "32973b10-ae19-40a9-ff1c-bf4d81d145db",
        "colab": {
          "base_uri": "https://localhost:8080/"
        }
      },
      "outputs": [
        {
          "output_type": "stream",
          "name": "stdout",
          "text": [
            "Model: \"sequential_1\"\n",
            "_________________________________________________________________\n",
            " Layer (type)                Output Shape              Param #   \n",
            "=================================================================\n",
            " embedding_1 (Embedding)     (None, None, 16)          160016    \n",
            "                                                                 \n",
            " dropout_2 (Dropout)         (None, None, 16)          0         \n",
            "                                                                 \n",
            " global_average_pooling1d_1   (None, 16)               0         \n",
            " (GlobalAveragePooling1D)                                        \n",
            "                                                                 \n",
            " dropout_3 (Dropout)         (None, 16)                0         \n",
            "                                                                 \n",
            " dense_1 (Dense)             (None, 1)                 17        \n",
            "                                                                 \n",
            "=================================================================\n",
            "Total params: 160,033\n",
            "Trainable params: 160,033\n",
            "Non-trainable params: 0\n",
            "_________________________________________________________________\n"
          ]
        }
      ],
      "source": [
        "model = tf.keras.Sequential([\n",
        "  layers.Embedding(max_features + 1, embedding_dim),\n",
        "  layers.Dropout(0.2),\n",
        "  layers.GlobalAveragePooling1D(),\n",
        "  layers.Dropout(0.2),\n",
        "  layers.Dense(1)])\n",
        "\n",
        "model.summary()"
      ]
    },
    {
      "cell_type": "markdown",
      "metadata": {
        "id": "6PbKQ6mucuKL"
      },
      "source": [
        "The layers are stacked sequentially to build the classifier:\n",
        "\n",
        "1. The first layer is an `Embedding` layer. This layer takes the integer-encoded reviews and looks up an embedding vector for each word-index. These vectors are learned as the model trains. The vectors add a dimension to the output array. The resulting dimensions are: `(batch, sequence, embedding)`.  To learn more about embeddings, check out the [Word embeddings](https://www.tensorflow.org/text/guide/word_embeddings) tutorial.\n",
        "2. Next, a `GlobalAveragePooling1D` layer returns a fixed-length output vector for each example by averaging over the sequence dimension. This allows the model to handle input of variable length, in the simplest way possible.\n",
        "3. The last layer is densely connected with a single output node."
      ]
    },
    {
      "cell_type": "markdown",
      "metadata": {
        "id": "L4EqVWg4-llM"
      },
      "source": [
        "### Loss function and optimizer\n",
        "\n",
        "A model needs a loss function and an optimizer for training. Since this is a binary classification problem and the model outputs a probability (a single-unit layer with a sigmoid activation), you'll use `losses.BinaryCrossentropy` loss function.\n",
        "\n",
        "Now, configure the model to use an optimizer and a loss function:"
      ]
    },
    {
      "cell_type": "code",
      "execution_count": null,
      "metadata": {
        "id": "Mr0GP-cQ-llN"
      },
      "outputs": [],
      "source": [
        "model.compile(loss=losses.BinaryCrossentropy(from_logits=True),\n",
        "              optimizer='adam',\n",
        "              metrics=tf.metrics.BinaryAccuracy(threshold=0.0))"
      ]
    },
    {
      "cell_type": "markdown",
      "metadata": {
        "id": "35jv_fzP-llU"
      },
      "source": [
        "### Train the model\n",
        "\n",
        "You will train the model by passing the `dataset` object to the fit method."
      ]
    },
    {
      "cell_type": "code",
      "execution_count": null,
      "metadata": {
        "id": "tXSGrjWZ-llW",
        "outputId": "4ce78294-b287-4897-c15a-ac7b2a5661e6",
        "colab": {
          "base_uri": "https://localhost:8080/"
        }
      },
      "outputs": [
        {
          "output_type": "stream",
          "name": "stdout",
          "text": [
            "Epoch 1/10\n",
            "3/3 [==============================] - 2s 287ms/step - loss: 0.6946 - binary_accuracy: 0.4861 - val_loss: 0.6947 - val_binary_accuracy: 0.3889\n",
            "Epoch 2/10\n",
            "3/3 [==============================] - 0s 13ms/step - loss: 0.6931 - binary_accuracy: 0.5000 - val_loss: 0.6937 - val_binary_accuracy: 0.3889\n",
            "Epoch 3/10\n",
            "3/3 [==============================] - 0s 12ms/step - loss: 0.6918 - binary_accuracy: 0.5278 - val_loss: 0.6927 - val_binary_accuracy: 0.6111\n",
            "Epoch 4/10\n",
            "3/3 [==============================] - 0s 10ms/step - loss: 0.6903 - binary_accuracy: 0.5972 - val_loss: 0.6918 - val_binary_accuracy: 0.6111\n",
            "Epoch 5/10\n",
            "3/3 [==============================] - 0s 9ms/step - loss: 0.6890 - binary_accuracy: 0.5694 - val_loss: 0.6909 - val_binary_accuracy: 0.6111\n",
            "Epoch 6/10\n",
            "3/3 [==============================] - 0s 9ms/step - loss: 0.6882 - binary_accuracy: 0.5833 - val_loss: 0.6900 - val_binary_accuracy: 0.6111\n",
            "Epoch 7/10\n",
            "3/3 [==============================] - 0s 9ms/step - loss: 0.6871 - binary_accuracy: 0.5833 - val_loss: 0.6892 - val_binary_accuracy: 0.6111\n",
            "Epoch 8/10\n",
            "3/3 [==============================] - 0s 10ms/step - loss: 0.6865 - binary_accuracy: 0.5833 - val_loss: 0.6883 - val_binary_accuracy: 0.6111\n",
            "Epoch 9/10\n",
            "3/3 [==============================] - 0s 10ms/step - loss: 0.6851 - binary_accuracy: 0.5833 - val_loss: 0.6874 - val_binary_accuracy: 0.6111\n",
            "Epoch 10/10\n",
            "3/3 [==============================] - 0s 10ms/step - loss: 0.6836 - binary_accuracy: 0.5833 - val_loss: 0.6865 - val_binary_accuracy: 0.6111\n"
          ]
        }
      ],
      "source": [
        "epochs = 10\n",
        "history = model.fit(\n",
        "    train_ds,\n",
        "    validation_data=val_ds,\n",
        "    epochs=epochs)"
      ]
    },
    {
      "cell_type": "markdown",
      "metadata": {
        "id": "9EEGuDVuzb5r"
      },
      "source": [
        "### Evaluate the model\n",
        "\n",
        "Let's see how the model performs. Two values will be returned. Loss (a number which represents our error, lower values are better), and accuracy."
      ]
    },
    {
      "cell_type": "code",
      "execution_count": null,
      "metadata": {
        "id": "zOMKywn4zReN",
        "outputId": "6d8e6dc4-5371-4135-83bc-5f984a7610ff",
        "colab": {
          "base_uri": "https://localhost:8080/"
        }
      },
      "outputs": [
        {
          "output_type": "stream",
          "name": "stdout",
          "text": [
            "3/3 [==============================] - 0s 16ms/step - loss: 0.6833 - binary_accuracy: 0.5889\n",
            "Loss:  0.6832746863365173\n",
            "Accuracy:  0.5888888835906982\n"
          ]
        }
      ],
      "source": [
        "loss, accuracy = model.evaluate(test_ds)\n",
        "\n",
        "print(\"Loss: \", loss)\n",
        "print(\"Accuracy: \", accuracy)"
      ]
    },
    {
      "cell_type": "markdown",
      "metadata": {
        "id": "z1iEXVTR0Z2t"
      },
      "source": [
        "This fairly naive approach achieves an accuracy of about 86%."
      ]
    },
    {
      "cell_type": "markdown",
      "metadata": {
        "id": "ldbQqCw2Xc1W"
      },
      "source": [
        "### Create a plot of accuracy and loss over time\n",
        "\n",
        "`model.fit()` returns a `History` object that contains a dictionary with everything that happened during training:"
      ]
    },
    {
      "cell_type": "code",
      "execution_count": null,
      "metadata": {
        "id": "-YcvZsdvWfDf",
        "outputId": "8df60b16-8ed8-4a70-94eb-b071c27c5c93",
        "colab": {
          "base_uri": "https://localhost:8080/"
        }
      },
      "outputs": [
        {
          "output_type": "execute_result",
          "data": {
            "text/plain": [
              "dict_keys(['loss', 'binary_accuracy', 'val_loss', 'val_binary_accuracy'])"
            ]
          },
          "metadata": {},
          "execution_count": 26
        }
      ],
      "source": [
        "history_dict = history.history\n",
        "history_dict.keys()"
      ]
    },
    {
      "cell_type": "markdown",
      "metadata": {
        "id": "1_CH32qJXruI"
      },
      "source": [
        "There are four entries: one for each monitored metric during training and validation. You can use these to plot the training and validation loss for comparison, as well as the training and validation accuracy:"
      ]
    },
    {
      "cell_type": "code",
      "execution_count": null,
      "metadata": {
        "id": "2SEMeQ5YXs8z",
        "outputId": "557430db-5163-4d51-ce52-cf947d28fa4a",
        "colab": {
          "base_uri": "https://localhost:8080/",
          "height": 472
        }
      },
      "outputs": [
        {
          "output_type": "display_data",
          "data": {
            "text/plain": [
              "<Figure size 640x480 with 1 Axes>"
            ],
            "image/png": "[encoded data removed]"
          },
          "metadata": {}
        }
      ],
      "source": [
        "acc = history_dict['binary_accuracy']\n",
        "val_acc = history_dict['val_binary_accuracy']\n",
        "loss = history_dict['loss']\n",
        "val_loss = history_dict['val_loss']\n",
        "\n",
        "epochs = range(1, len(acc) + 1)\n",
        "\n",
        "# \"bo\" is for \"blue dot\"\n",
        "plt.plot(epochs, loss, 'bo', label='Training loss')\n",
        "# b is for \"solid blue line\"\n",
        "plt.plot(epochs, val_loss, 'b', label='Validation loss')\n",
        "plt.title('Training and validation loss')\n",
        "plt.xlabel('Epochs')\n",
        "plt.ylabel('Loss')\n",
        "plt.legend()\n",
        "\n",
        "plt.show()"
      ]
    },
    {
      "cell_type": "code",
      "execution_count": null,
      "metadata": {
        "id": "Z3PJemLPXwz_",
        "outputId": "769fc265-e47f-4bb5-c5d0-f82c4747fb2b",
        "colab": {
          "base_uri": "https://localhost:8080/",
          "height": 472
        }
      },
      "outputs": [
        {
          "output_type": "display_data",
          "data": {
            "text/plain": [
              "<Figure size 640x480 with 1 Axes>"
            ],
            "image/png": "[encoded data removed]"
          },
          "metadata": {}
        }
      ],
      "source": [
        "plt.plot(epochs, acc, 'bo', label='Training acc')\n",
        "plt.plot(epochs, val_acc, 'b', label='Validation acc')\n",
        "plt.title('Training and validation accuracy')\n",
        "plt.xlabel('Epochs')\n",
        "plt.ylabel('Accuracy')\n",
        "plt.legend(loc='lower right')\n",
        "\n",
        "plt.show()"
      ]
    },
    {
      "cell_type": "markdown",
      "metadata": {
        "id": "hFFyCuJoXy7r"
      },
      "source": [
        "In this plot, the dots represent the training loss and accuracy, and the solid lines are the validation loss and accuracy.\n",
        "\n",
        "Notice the training loss *decreases* with each epoch and the training accuracy *increases* with each epoch. This is expected when using a gradient descent optimization—it should minimize the desired quantity on every iteration.\n",
        "\n",
        "This isn't the case for the validation loss and accuracy—they seem to peak before the training accuracy. This is an example of overfitting: the model performs better on the training data than it does on data it has never seen before. After this point, the model over-optimizes and learns representations *specific* to the training data that do not *generalize* to test data.\n",
        "\n",
        "For this particular case, you could prevent overfitting by simply stopping the training when the validation accuracy is no longer increasing. One way to do so is to use the `tf.keras.callbacks.EarlyStopping` callback."
      ]
    },
    {
      "cell_type": "markdown",
      "metadata": {
        "id": "-to23J3Vy5d3"
      },
      "source": [
        "## Export the model\n",
        "\n",
        "In the code above, you applied the `TextVectorization` layer to the dataset before feeding text to the model. If you want to make your model capable of processing raw strings (for example, to simplify deploying it), you can include the `TextVectorization` layer inside your model. To do so, you can create a new model using the weights you just trained."
      ]
    },
    {
      "cell_type": "code",
      "execution_count": null,
      "metadata": {
        "id": "FWXsMvryuZuq",
        "outputId": "ab6fb18e-069f-425a-aaaf-84d78719ab4e",
        "colab": {
          "base_uri": "https://localhost:8080/"
        }
      },
      "outputs": [
        {
          "output_type": "stream",
          "name": "stdout",
          "text": [
            "3/3 [==============================] - 0s 12ms/step - loss: 0.6833 - accuracy: 0.5889\n",
            "0.5888888835906982\n"
          ]
        }
      ],
      "source": [
        "export_model = tf.keras.Sequential([\n",
        "  vectorize_layer,\n",
        "  model,\n",
        "  layers.Activation('sigmoid')\n",
        "])\n",
        "\n",
        "export_model.compile(\n",
        "    loss=losses.BinaryCrossentropy(from_logits=False), optimizer=\"adam\", metrics=['accuracy']\n",
        ")\n",
        "\n",
        "# Test it with `raw_test_ds`, which yields raw strings\n",
        "loss, accuracy = export_model.evaluate(raw_test_ds)\n",
        "print(accuracy)"
      ]
    },
    {
      "cell_type": "markdown",
      "metadata": {
        "id": "TwQgoN88LoEF"
      },
      "source": [
        "### Inference on new data\n",
        "\n",
        "To get predictions for new examples, you can simply call `model.predict()`."
      ]
    },
    {
      "cell_type": "code",
      "execution_count": null,
      "metadata": {
        "id": "QW355HH5L49K",
        "outputId": "255ec39f-e429-4729-8326-bca2f5ddc716",
        "colab": {
          "base_uri": "https://localhost:8080/"
        }
      },
      "outputs": [
        {
          "output_type": "stream",
          "name": "stdout",
          "text": [
            "1/1 [==============================] - 0s 40ms/step\n"
          ]
        },
        {
          "output_type": "execute_result",
          "data": {
            "text/plain": [
              "array([[0.51772684],\n",
              "       [0.5179965 ],\n",
              "       [0.5180249 ]], dtype=float32)"
            ]
          },
          "metadata": {},
          "execution_count": 31
        }
      ],
      "source": [
        "examples = [\n",
        "  \"Russia will not use nuclear weapons\",\n",
        "  \"Peace was reached\",\n",
        "  \"Nuclear strike imminent\"\n",
        "]\n",
        "\n",
        "export_model.predict(examples)"
      ]
    },
    {
      "cell_type": "code",
      "source": [
        "from google.colab import drive\n",
        "drive.mount('/content/drive')"
      ],
      "metadata": {
        "id": "bryCi4Fuxf0n",
        "outputId": "6bf0c607-6456-4112-ac65-1e3b7bedfcc1",
        "colab": {
          "base_uri": "https://localhost:8080/"
        }
      },
      "execution_count": null,
      "outputs": [
        {
          "output_type": "stream",
          "name": "stdout",
          "text": [
            "Mounted at /content/drive\n"
          ]
        }
      ]
    },
    {
      "cell_type": "markdown",
      "metadata": {
        "id": "MaxlpFWpzR6c"
      },
      "source": [
        "Including the text preprocessing logic inside your model enables you to export a model for production that simplifies deployment, and reduces the potential for [train/test skew](https://developers.google.com/machine-learning/guides/rules-of-ml#training-serving_skew).\n",
        "\n",
        "There is a performance difference to keep in mind when choosing where to apply your TextVectorization layer. Using it outside of your model enables you to do asynchronous CPU processing and buffering of your data when training on GPU. So, if you're training your model on the GPU, you probably want to go with this option to get the best performance while developing your model, then switch to including the TextVectorization layer inside your model when you're ready to prepare for deployment.\n",
        "\n",
        "Visit this [tutorial](https://www.tensorflow.org/tutorials/keras/save_and_load) to learn more about saving models."
      ]
    },
    {
      "cell_type": "markdown",
      "metadata": {
        "id": "eSSuci_6nCEG"
      },
      "source": [
        "## Exercise: multi-class classification on Stack Overflow questions\n",
        "\n",
        "This tutorial showed how to train a binary classifier from scratch on the IMDB dataset. As an exercise, you can modify this notebook to train a multi-class classifier to predict the tag of a programming question on [Stack Overflow](http://stackoverflow.com/).\n",
        "\n",
        "A [dataset](https://storage.googleapis.com/download.tensorflow.org/data/stack_overflow_16k.tar.gz) has been prepared for you to use containing the body of several thousand programming questions (for example, \"How can I sort a dictionary by value in Python?\") posted to Stack Overflow. Each of these is labeled with exactly one tag (either Python, CSharp, JavaScript, or Java). Your task is to take a question as input, and predict the appropriate tag, in this case, Python. \n",
        "\n",
        "The dataset you will work with contains several thousand questions extracted from the much larger public Stack Overflow dataset on [BigQuery](https://console.cloud.google.com/marketplace/details/stack-exchange/stack-overflow), which contains more than 17 million posts.\n",
        "\n",
        "After downloading the dataset, you will find it has a similar directory structure to the IMDB dataset you worked with previously:\n",
        "\n",
        "```\n",
        "train/\n",
        "...python/\n",
        "......0.txt\n",
        "......1.txt\n",
        "...javascript/\n",
        "......0.txt\n",
        "......1.txt\n",
        "...csharp/\n",
        "......0.txt\n",
        "......1.txt\n",
        "...java/\n",
        "......0.txt\n",
        "......1.txt\n",
        "```\n",
        "\n",
        "Note: To increase the difficulty of the classification problem, occurrences of the words Python, CSharp, JavaScript, or Java in the programming questions have been replaced with the word *blank* (as many questions contain the language they're about).\n",
        "\n",
        "To complete this exercise, you should modify this notebook to work with the Stack Overflow dataset by making the following modifications:\n",
        "\n",
        "1. At the top of your notebook, update the code that downloads the IMDB dataset with code to download the [Stack Overflow dataset](https://storage.googleapis.com/download.tensorflow.org/data/stack_overflow_16k.tar.gz) that has already been prepared. As the Stack Overflow dataset has a similar directory structure, you will not need to make many modifications.\n",
        "\n",
        "1. Modify the last layer of your model to `Dense(4)`, as there are now four output classes.\n",
        "\n",
        "1. When compiling the model, change the loss to `tf.keras.losses.SparseCategoricalCrossentropy(from_logits=True)`. This is the correct loss function to use for a multi-class classification problem, when the labels for each class are integers (in this case, they can be 0, *1*, *2*, or *3*). In addition, change the metrics to `metrics=['accuracy']`, since this is a multi-class classification problem (`tf.metrics.BinaryAccuracy` is only used for binary classifiers).\n",
        "\n",
        "1. When plotting accuracy over time, change `binary_accuracy` and `val_binary_accuracy` to `accuracy` and `val_accuracy`, respectively.\n",
        "\n",
        "1. Once these changes are complete, you will be able to train a multi-class classifier. "
      ]
    },
    {
      "cell_type": "markdown",
      "metadata": {
        "id": "F0T5SIwSm7uc"
      },
      "source": [
        "## Learning more\n",
        "\n",
        "This tutorial introduced text classification from scratch. To learn more about the text classification workflow in general, check out the [Text classification guide](https://developers.google.com/machine-learning/guides/text-classification/) from Google Developers.\n"
      ]
    },
    {
      "cell_type": "markdown",
      "source": [
        "###splitting csv"
      ],
      "metadata": {
        "id": "AE7H2Vt9zmGp"
      }
    },
    {
      "cell_type": "code",
      "source": [
        "import pandas as pd\n",
        "\n",
        "data = pd.read_csv('/content/drive/MyDrive/nuclear threat text files/nuclear_threat.csv')\n",
        "\n",
        "import os\n",
        "\n",
        "for index, row in data.iterrows():\n",
        "    category = row['label']\n",
        "    filename = f'file_{index}.txt'\n",
        "    text = row['text']\n",
        "\n",
        "    if category == 'D':\n",
        "        file_path = os.path.join('/content/drive/MyDrive/nuclear threat text files/deescalatory', filename)\n",
        "    elif category == 'E' or category == 'W':\n",
        "        file_path = os.path.join('/content/drive/MyDrive/nuclear threat text files/escalatory', filename)\n",
        "    else:\n",
        "        continue\n",
        "\n",
        "    with open(file_path, 'w') as file:\n",
        "        file.write(text)\n"
      ],
      "metadata": {
        "id": "0etodz9gzpkD"
      },
      "execution_count": null,
      "outputs": []
    }
  ],
  "metadata": {
    "accelerator": "GPU",
    "colab": {
      "provenance": [],
      "include_colab_link": true
    },
    "kernelspec": {
      "display_name": "Python 3",
      "name": "python3"
    }
  },
  "nbformat": 4,
  "nbformat_minor": 0
}