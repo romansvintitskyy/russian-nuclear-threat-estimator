{
 "cells": [
  {
   "cell_type": "code",
   "execution_count": 308,
   "metadata": {},
   "outputs": [],
   "source": [
    "import numpy as np\n",
    "import pandas as pd"
   ]
  },
  {
   "attachments": {},
   "cell_type": "markdown",
   "metadata": {},
   "source": [
    "## Loading and cleaning up the data"
   ]
  },
  {
   "cell_type": "code",
   "execution_count": 309,
   "metadata": {},
   "outputs": [],
   "source": [
    "data = pd.read_csv('datasets/nuclear_threat.csv', on_bad_lines='skip')"
   ]
  },
  {
   "cell_type": "code",
   "execution_count": 310,
   "metadata": {},
   "outputs": [
    {
     "data": {
      "text/html": [
       "<div>\n",
       "<style scoped>\n",
       "    .dataframe tbody tr th:only-of-type {\n",
       "        vertical-align: middle;\n",
       "    }\n",
       "\n",
       "    .dataframe tbody tr th {\n",
       "        vertical-align: top;\n",
       "    }\n",
       "\n",
       "    .dataframe thead th {\n",
       "        text-align: right;\n",
       "    }\n",
       "</style>\n",
       "<table border=\"1\" class=\"dataframe\">\n",
       "  <thead>\n",
       "    <tr style=\"text-align: right;\">\n",
       "      <th></th>\n",
       "      <th>date</th>\n",
       "      <th>text</th>\n",
       "      <th>text-medium</th>\n",
       "      <th>text-short</th>\n",
       "      <th>side</th>\n",
       "      <th>label</th>\n",
       "      <th>comment</th>\n",
       "    </tr>\n",
       "  </thead>\n",
       "  <tbody>\n",
       "    <tr>\n",
       "      <th>0</th>\n",
       "      <td>2022-01-27</td>\n",
       "      <td>Medvedev sees no need to review Russia’s nucle...</td>\n",
       "      <td>A month before the invasion, the Russian leade...</td>\n",
       "      <td>Medvedev: Russia has “the right” to use nuclea...</td>\n",
       "      <td>r</td>\n",
       "      <td>W</td>\n",
       "      <td>NaN</td>\n",
       "    </tr>\n",
       "    <tr>\n",
       "      <th>1</th>\n",
       "      <td>2022-02-07</td>\n",
       "      <td>President of Russia Vladimir Putin: Mr Preside...</td>\n",
       "      <td>Ten days later, Putin continued developing the...</td>\n",
       "      <td>Putin: If Ukraine attempts to take back Crimea...</td>\n",
       "      <td>r</td>\n",
       "      <td>E</td>\n",
       "      <td>NaN</td>\n",
       "    </tr>\n",
       "    <tr>\n",
       "      <th>2</th>\n",
       "      <td>2022-02-19</td>\n",
       "      <td>Strategic Deterrence Exercise\\r\\nUnder the lea...</td>\n",
       "      <td>On February 19, sitting alongside Belarusian l...</td>\n",
       "      <td>Yearly nuclear exercise, normally held in autumn.</td>\n",
       "      <td>r</td>\n",
       "      <td>W</td>\n",
       "      <td>Originally from Russian</td>\n",
       "    </tr>\n",
       "    <tr>\n",
       "      <th>3</th>\n",
       "      <td>2022-02-22</td>\n",
       "      <td>Address by the President of the Russian Federa...</td>\n",
       "      <td>In a televised address on February 21, Putin a...</td>\n",
       "      <td>Putin: Ukraine is seeking to acquire tactical ...</td>\n",
       "      <td>r</td>\n",
       "      <td>W</td>\n",
       "      <td>NaN</td>\n",
       "    </tr>\n",
       "    <tr>\n",
       "      <th>4</th>\n",
       "      <td>2022-02-24</td>\n",
       "      <td>Address by the President of the Russian Federa...</td>\n",
       "      <td>Washington was pursuing a “policy of containin...</td>\n",
       "      <td>Putin: Whoever tries to hinder Russia will fac...</td>\n",
       "      <td>r</td>\n",
       "      <td>E</td>\n",
       "      <td>NaN</td>\n",
       "    </tr>\n",
       "    <tr>\n",
       "      <th>...</th>\n",
       "      <td>...</td>\n",
       "      <td>...</td>\n",
       "      <td>...</td>\n",
       "      <td>...</td>\n",
       "      <td>...</td>\n",
       "      <td>...</td>\n",
       "      <td>...</td>\n",
       "    </tr>\n",
       "    <tr>\n",
       "      <th>128</th>\n",
       "      <td>NaN</td>\n",
       "      <td>NaN</td>\n",
       "      <td>NaN</td>\n",
       "      <td>NaN</td>\n",
       "      <td>NaN</td>\n",
       "      <td>NaN</td>\n",
       "      <td>NaN</td>\n",
       "    </tr>\n",
       "    <tr>\n",
       "      <th>129</th>\n",
       "      <td>NaN</td>\n",
       "      <td>NaN</td>\n",
       "      <td>NaN</td>\n",
       "      <td>NaN</td>\n",
       "      <td>NaN</td>\n",
       "      <td>NaN</td>\n",
       "      <td>NaN</td>\n",
       "    </tr>\n",
       "    <tr>\n",
       "      <th>130</th>\n",
       "      <td>NaN</td>\n",
       "      <td>NaN</td>\n",
       "      <td>NaN</td>\n",
       "      <td>NaN</td>\n",
       "      <td>NaN</td>\n",
       "      <td>NaN</td>\n",
       "      <td>NaN</td>\n",
       "    </tr>\n",
       "    <tr>\n",
       "      <th>131</th>\n",
       "      <td>NaN</td>\n",
       "      <td>NaN</td>\n",
       "      <td>Continued Western military assistance to Ukrai...</td>\n",
       "      <td>NaN</td>\n",
       "      <td>NaN</td>\n",
       "      <td>NaN</td>\n",
       "      <td>NaN</td>\n",
       "    </tr>\n",
       "    <tr>\n",
       "      <th>132</th>\n",
       "      <td>&gt;&gt;&gt;&gt;&gt;&gt;&gt; aad77efd7b8ec1a9c349cc97af38ea4419dbb1c5</td>\n",
       "      <td>NaN</td>\n",
       "      <td>NaN</td>\n",
       "      <td>NaN</td>\n",
       "      <td>NaN</td>\n",
       "      <td>NaN</td>\n",
       "      <td>NaN</td>\n",
       "    </tr>\n",
       "  </tbody>\n",
       "</table>\n",
       "<p>133 rows × 7 columns</p>\n",
       "</div>"
      ],
      "text/plain": [
       "                                                 date   \n",
       "0                                          2022-01-27  \\\n",
       "1                                          2022-02-07   \n",
       "2                                          2022-02-19   \n",
       "3                                          2022-02-22   \n",
       "4                                          2022-02-24   \n",
       "..                                                ...   \n",
       "128                                               NaN   \n",
       "129                                               NaN   \n",
       "130                                               NaN   \n",
       "131                                               NaN   \n",
       "132  >>>>>>> aad77efd7b8ec1a9c349cc97af38ea4419dbb1c5   \n",
       "\n",
       "                                                  text   \n",
       "0    Medvedev sees no need to review Russia’s nucle...  \\\n",
       "1    President of Russia Vladimir Putin: Mr Preside...   \n",
       "2    Strategic Deterrence Exercise\\r\\nUnder the lea...   \n",
       "3    Address by the President of the Russian Federa...   \n",
       "4    Address by the President of the Russian Federa...   \n",
       "..                                                 ...   \n",
       "128                                                NaN   \n",
       "129                                                NaN   \n",
       "130                                                NaN   \n",
       "131                                                NaN   \n",
       "132                                                NaN   \n",
       "\n",
       "                                           text-medium   \n",
       "0    A month before the invasion, the Russian leade...  \\\n",
       "1    Ten days later, Putin continued developing the...   \n",
       "2    On February 19, sitting alongside Belarusian l...   \n",
       "3    In a televised address on February 21, Putin a...   \n",
       "4    Washington was pursuing a “policy of containin...   \n",
       "..                                                 ...   \n",
       "128                                                NaN   \n",
       "129                                                NaN   \n",
       "130                                                NaN   \n",
       "131  Continued Western military assistance to Ukrai...   \n",
       "132                                                NaN   \n",
       "\n",
       "                                            text-short side label   \n",
       "0    Medvedev: Russia has “the right” to use nuclea...    r     W  \\\n",
       "1    Putin: If Ukraine attempts to take back Crimea...    r     E   \n",
       "2    Yearly nuclear exercise, normally held in autumn.    r     W   \n",
       "3    Putin: Ukraine is seeking to acquire tactical ...    r     W   \n",
       "4    Putin: Whoever tries to hinder Russia will fac...    r     E   \n",
       "..                                                 ...  ...   ...   \n",
       "128                                                NaN  NaN   NaN   \n",
       "129                                                NaN  NaN   NaN   \n",
       "130                                                NaN  NaN   NaN   \n",
       "131                                                NaN  NaN   NaN   \n",
       "132                                                NaN  NaN   NaN   \n",
       "\n",
       "                     comment  \n",
       "0                        NaN  \n",
       "1                        NaN  \n",
       "2    Originally from Russian  \n",
       "3                        NaN  \n",
       "4                        NaN  \n",
       "..                       ...  \n",
       "128                      NaN  \n",
       "129                      NaN  \n",
       "130                      NaN  \n",
       "131                      NaN  \n",
       "132                      NaN  \n",
       "\n",
       "[133 rows x 7 columns]"
      ]
     },
     "execution_count": 310,
     "metadata": {},
     "output_type": "execute_result"
    }
   ],
   "source": [
    "data"
   ]
  },
  {
   "cell_type": "code",
   "execution_count": 311,
   "metadata": {},
   "outputs": [
    {
     "data": {
      "text/plain": [
       "date            42\n",
       "text            43\n",
       "text-medium     42\n",
       "text-short      43\n",
       "side            44\n",
       "label           44\n",
       "comment        122\n",
       "dtype: int64"
      ]
     },
     "execution_count": 311,
     "metadata": {},
     "output_type": "execute_result"
    }
   ],
   "source": [
    "data.isnull().sum()"
   ]
  },
  {
   "cell_type": "code",
   "execution_count": 312,
   "metadata": {},
   "outputs": [],
   "source": [
    "df = data.dropna(subset=['text', 'text-medium', 'text-short'])"
   ]
  },
  {
   "cell_type": "code",
   "execution_count": 313,
   "metadata": {},
   "outputs": [
    {
     "data": {
      "text/plain": [
       "date            1\n",
       "text            0\n",
       "text-medium     0\n",
       "text-short      0\n",
       "side            1\n",
       "label           1\n",
       "comment        79\n",
       "dtype: int64"
      ]
     },
     "execution_count": 313,
     "metadata": {},
     "output_type": "execute_result"
    }
   ],
   "source": [
    "df.isnull().sum()"
   ]
  },
  {
   "cell_type": "code",
   "execution_count": 314,
   "metadata": {},
   "outputs": [
    {
     "data": {
      "text/html": [
       "<div>\n",
       "<style scoped>\n",
       "    .dataframe tbody tr th:only-of-type {\n",
       "        vertical-align: middle;\n",
       "    }\n",
       "\n",
       "    .dataframe tbody tr th {\n",
       "        vertical-align: top;\n",
       "    }\n",
       "\n",
       "    .dataframe thead th {\n",
       "        text-align: right;\n",
       "    }\n",
       "</style>\n",
       "<table border=\"1\" class=\"dataframe\">\n",
       "  <thead>\n",
       "    <tr style=\"text-align: right;\">\n",
       "      <th></th>\n",
       "      <th>date</th>\n",
       "      <th>text</th>\n",
       "      <th>text-medium</th>\n",
       "      <th>text-short</th>\n",
       "      <th>side</th>\n",
       "      <th>label</th>\n",
       "      <th>comment</th>\n",
       "    </tr>\n",
       "  </thead>\n",
       "  <tbody>\n",
       "    <tr>\n",
       "      <th>0</th>\n",
       "      <td>2022-01-27</td>\n",
       "      <td>Medvedev sees no need to review Russia’s nucle...</td>\n",
       "      <td>A month before the invasion, the Russian leade...</td>\n",
       "      <td>Medvedev: Russia has “the right” to use nuclea...</td>\n",
       "      <td>r</td>\n",
       "      <td>W</td>\n",
       "      <td>NaN</td>\n",
       "    </tr>\n",
       "    <tr>\n",
       "      <th>1</th>\n",
       "      <td>2022-02-07</td>\n",
       "      <td>President of Russia Vladimir Putin: Mr Preside...</td>\n",
       "      <td>Ten days later, Putin continued developing the...</td>\n",
       "      <td>Putin: If Ukraine attempts to take back Crimea...</td>\n",
       "      <td>r</td>\n",
       "      <td>E</td>\n",
       "      <td>NaN</td>\n",
       "    </tr>\n",
       "    <tr>\n",
       "      <th>2</th>\n",
       "      <td>2022-02-19</td>\n",
       "      <td>Strategic Deterrence Exercise\\r\\nUnder the lea...</td>\n",
       "      <td>On February 19, sitting alongside Belarusian l...</td>\n",
       "      <td>Yearly nuclear exercise, normally held in autumn.</td>\n",
       "      <td>r</td>\n",
       "      <td>W</td>\n",
       "      <td>Originally from Russian</td>\n",
       "    </tr>\n",
       "    <tr>\n",
       "      <th>3</th>\n",
       "      <td>2022-02-22</td>\n",
       "      <td>Address by the President of the Russian Federa...</td>\n",
       "      <td>In a televised address on February 21, Putin a...</td>\n",
       "      <td>Putin: Ukraine is seeking to acquire tactical ...</td>\n",
       "      <td>r</td>\n",
       "      <td>W</td>\n",
       "      <td>NaN</td>\n",
       "    </tr>\n",
       "    <tr>\n",
       "      <th>4</th>\n",
       "      <td>2022-02-24</td>\n",
       "      <td>Address by the President of the Russian Federa...</td>\n",
       "      <td>Washington was pursuing a “policy of containin...</td>\n",
       "      <td>Putin: Whoever tries to hinder Russia will fac...</td>\n",
       "      <td>r</td>\n",
       "      <td>E</td>\n",
       "      <td>NaN</td>\n",
       "    </tr>\n",
       "  </tbody>\n",
       "</table>\n",
       "</div>"
      ],
      "text/plain": [
       "         date                                               text   \n",
       "0  2022-01-27  Medvedev sees no need to review Russia’s nucle...  \\\n",
       "1  2022-02-07  President of Russia Vladimir Putin: Mr Preside...   \n",
       "2  2022-02-19  Strategic Deterrence Exercise\\r\\nUnder the lea...   \n",
       "3  2022-02-22  Address by the President of the Russian Federa...   \n",
       "4  2022-02-24  Address by the President of the Russian Federa...   \n",
       "\n",
       "                                         text-medium   \n",
       "0  A month before the invasion, the Russian leade...  \\\n",
       "1  Ten days later, Putin continued developing the...   \n",
       "2  On February 19, sitting alongside Belarusian l...   \n",
       "3  In a televised address on February 21, Putin a...   \n",
       "4  Washington was pursuing a “policy of containin...   \n",
       "\n",
       "                                          text-short side label   \n",
       "0  Medvedev: Russia has “the right” to use nuclea...    r     W  \\\n",
       "1  Putin: If Ukraine attempts to take back Crimea...    r     E   \n",
       "2  Yearly nuclear exercise, normally held in autumn.    r     W   \n",
       "3  Putin: Ukraine is seeking to acquire tactical ...    r     W   \n",
       "4  Putin: Whoever tries to hinder Russia will fac...    r     E   \n",
       "\n",
       "                   comment  \n",
       "0                      NaN  \n",
       "1                      NaN  \n",
       "2  Originally from Russian  \n",
       "3                      NaN  \n",
       "4                      NaN  "
      ]
     },
     "execution_count": 314,
     "metadata": {},
     "output_type": "execute_result"
    }
   ],
   "source": [
    "df.head()"
   ]
  },
  {
   "cell_type": "code",
   "execution_count": 315,
   "metadata": {},
   "outputs": [
    {
     "data": {
      "text/html": [
       "<div>\n",
       "<style scoped>\n",
       "    .dataframe tbody tr th:only-of-type {\n",
       "        vertical-align: middle;\n",
       "    }\n",
       "\n",
       "    .dataframe tbody tr th {\n",
       "        vertical-align: top;\n",
       "    }\n",
       "\n",
       "    .dataframe thead th {\n",
       "        text-align: right;\n",
       "    }\n",
       "</style>\n",
       "<table border=\"1\" class=\"dataframe\">\n",
       "  <thead>\n",
       "    <tr style=\"text-align: right;\">\n",
       "      <th></th>\n",
       "      <th>date</th>\n",
       "      <th>text</th>\n",
       "      <th>text-medium</th>\n",
       "      <th>text-short</th>\n",
       "      <th>side</th>\n",
       "      <th>label</th>\n",
       "      <th>comment</th>\n",
       "    </tr>\n",
       "  </thead>\n",
       "  <tbody>\n",
       "    <tr>\n",
       "      <th>79</th>\n",
       "      <td>NaN</td>\n",
       "      <td>The United States and its allies are teetering...</td>\n",
       "      <td>The following day, July 12, Russian Foreign Mi...</td>\n",
       "      <td>Zakharova: Washington is “dangerously teeterin...</td>\n",
       "      <td>r</td>\n",
       "      <td>W</td>\n",
       "      <td>NaN</td>\n",
       "    </tr>\n",
       "  </tbody>\n",
       "</table>\n",
       "</div>"
      ],
      "text/plain": [
       "   date                                               text   \n",
       "79  NaN  The United States and its allies are teetering...  \\\n",
       "\n",
       "                                          text-medium   \n",
       "79  The following day, July 12, Russian Foreign Mi...  \\\n",
       "\n",
       "                                           text-short side label comment  \n",
       "79  Zakharova: Washington is “dangerously teeterin...    r     W     NaN  "
      ]
     },
     "execution_count": 315,
     "metadata": {},
     "output_type": "execute_result"
    }
   ],
   "source": [
    "df[df['date'].isnull()]"
   ]
  },
  {
   "cell_type": "code",
   "execution_count": 316,
   "metadata": {},
   "outputs": [
    {
     "name": "stderr",
     "output_type": "stream",
     "text": [
      "/var/folders/b9/c96l37bd70z1lx16xy0ggvs80000gn/T/ipykernel_22154/2964785834.py:1: SettingWithCopyWarning: \n",
      "A value is trying to be set on a copy of a slice from a DataFrame\n",
      "\n",
      "See the caveats in the documentation: https://pandas.pydata.org/pandas-docs/stable/user_guide/indexing.html#returning-a-view-versus-a-copy\n",
      "  df.loc[79, 'date'] = '2022-07-12'\n"
     ]
    }
   ],
   "source": [
    "df.loc[79, 'date'] = '2022-07-12'"
   ]
  },
  {
   "cell_type": "code",
   "execution_count": 317,
   "metadata": {},
   "outputs": [
    {
     "data": {
      "text/plain": [
       "'2022-07-12'"
      ]
     },
     "execution_count": 317,
     "metadata": {},
     "output_type": "execute_result"
    }
   ],
   "source": [
    "df.loc[79, 'date']"
   ]
  },
  {
   "cell_type": "code",
   "execution_count": 318,
   "metadata": {},
   "outputs": [
    {
     "data": {
      "text/html": [
       "<div>\n",
       "<style scoped>\n",
       "    .dataframe tbody tr th:only-of-type {\n",
       "        vertical-align: middle;\n",
       "    }\n",
       "\n",
       "    .dataframe tbody tr th {\n",
       "        vertical-align: top;\n",
       "    }\n",
       "\n",
       "    .dataframe thead th {\n",
       "        text-align: right;\n",
       "    }\n",
       "</style>\n",
       "<table border=\"1\" class=\"dataframe\">\n",
       "  <thead>\n",
       "    <tr style=\"text-align: right;\">\n",
       "      <th></th>\n",
       "      <th>date</th>\n",
       "      <th>text</th>\n",
       "      <th>text-medium</th>\n",
       "      <th>text-short</th>\n",
       "      <th>side</th>\n",
       "      <th>label</th>\n",
       "      <th>comment</th>\n",
       "    </tr>\n",
       "  </thead>\n",
       "  <tbody>\n",
       "    <tr>\n",
       "      <th>90</th>\n",
       "      <td>and Washington was unlikely due to the latter’...</td>\n",
       "      <td>Ryabkov: Clash between nuclear powers must be...</td>\n",
       "      <td>r</td>\n",
       "      <td>D</td>\n",
       "      <td>NaN</td>\n",
       "      <td>NaN</td>\n",
       "      <td>NaN</td>\n",
       "    </tr>\n",
       "  </tbody>\n",
       "</table>\n",
       "</div>"
      ],
      "text/plain": [
       "                                                 date   \n",
       "90  and Washington was unlikely due to the latter’...  \\\n",
       "\n",
       "                                                 text text-medium text-short   \n",
       "90   Ryabkov: Clash between nuclear powers must be...           r          D  \\\n",
       "\n",
       "   side label comment  \n",
       "90  NaN   NaN     NaN  "
      ]
     },
     "execution_count": 318,
     "metadata": {},
     "output_type": "execute_result"
    }
   ],
   "source": [
    "df[df['label'].isnull()]"
   ]
  },
  {
   "cell_type": "code",
   "execution_count": 319,
   "metadata": {},
   "outputs": [
    {
     "data": {
      "text/html": [
       "<div>\n",
       "<style scoped>\n",
       "    .dataframe tbody tr th:only-of-type {\n",
       "        vertical-align: middle;\n",
       "    }\n",
       "\n",
       "    .dataframe tbody tr th {\n",
       "        vertical-align: top;\n",
       "    }\n",
       "\n",
       "    .dataframe thead th {\n",
       "        text-align: right;\n",
       "    }\n",
       "</style>\n",
       "<table border=\"1\" class=\"dataframe\">\n",
       "  <thead>\n",
       "    <tr style=\"text-align: right;\">\n",
       "      <th></th>\n",
       "      <th>date</th>\n",
       "      <th>text</th>\n",
       "      <th>text-medium</th>\n",
       "      <th>text-short</th>\n",
       "      <th>side</th>\n",
       "      <th>label</th>\n",
       "      <th>comment</th>\n",
       "    </tr>\n",
       "  </thead>\n",
       "  <tbody>\n",
       "    <tr>\n",
       "      <th>90</th>\n",
       "      <td>and Washington was unlikely due to the latter’...</td>\n",
       "      <td>Ryabkov: Clash between nuclear powers must be...</td>\n",
       "      <td>r</td>\n",
       "      <td>D</td>\n",
       "      <td>NaN</td>\n",
       "      <td>NaN</td>\n",
       "      <td>NaN</td>\n",
       "    </tr>\n",
       "  </tbody>\n",
       "</table>\n",
       "</div>"
      ],
      "text/plain": [
       "                                                 date   \n",
       "90  and Washington was unlikely due to the latter’...  \\\n",
       "\n",
       "                                                 text text-medium text-short   \n",
       "90   Ryabkov: Clash between nuclear powers must be...           r          D  \\\n",
       "\n",
       "   side label comment  \n",
       "90  NaN   NaN     NaN  "
      ]
     },
     "execution_count": 319,
     "metadata": {},
     "output_type": "execute_result"
    }
   ],
   "source": [
    "df[df['side'].isnull()]"
   ]
  },
  {
   "cell_type": "code",
   "execution_count": 320,
   "metadata": {},
   "outputs": [
    {
     "data": {
      "text/plain": [
       "date           and Washington was unlikely due to the latter’...\n",
       "text            Ryabkov: Clash between nuclear powers must be...\n",
       "text-medium                                                    r\n",
       "text-short                                                     D\n",
       "side                                                         NaN\n",
       "label                                                        NaN\n",
       "comment                                                      NaN\n",
       "Name: 90, dtype: object"
      ]
     },
     "execution_count": 320,
     "metadata": {},
     "output_type": "execute_result"
    }
   ],
   "source": [
    "df.loc[90]"
   ]
  },
  {
   "cell_type": "code",
   "execution_count": 321,
   "metadata": {},
   "outputs": [
    {
     "name": "stderr",
     "output_type": "stream",
     "text": [
      "/var/folders/b9/c96l37bd70z1lx16xy0ggvs80000gn/T/ipykernel_22154/1219943692.py:1: SettingWithCopyWarning: \n",
      "A value is trying to be set on a copy of a slice from a DataFrame\n",
      "\n",
      "See the caveats in the documentation: https://pandas.pydata.org/pandas-docs/stable/user_guide/indexing.html#returning-a-view-versus-a-copy\n",
      "  df.loc[90, 'date'] = '2022-08-22'\n",
      "/var/folders/b9/c96l37bd70z1lx16xy0ggvs80000gn/T/ipykernel_22154/1219943692.py:2: SettingWithCopyWarning: \n",
      "A value is trying to be set on a copy of a slice from a DataFrame\n",
      "\n",
      "See the caveats in the documentation: https://pandas.pydata.org/pandas-docs/stable/user_guide/indexing.html#returning-a-view-versus-a-copy\n",
      "  df.loc[90, 'text'] = \"\"\" Russia can use nuclear weapons only in response to an attack - \"\"for self-defense in emergency circumstances.\"\" This was stated in an interview with Izvestia by Deputy Foreign Minister of Russia Sergei Ryabkov. The diplomat responded in writing to questions about how Moscow sees the dialogue with the United States on disarmament, what it thinks about the threat of nuclear war, and how it assesses the prospects for a new prisoner exchange with Washington. “The possibility of resuming a strategic dialogue with the United States is far from obvious” - On August 1, US President Joe Biden said that his administration was ready to quickly negotiate a new arms control system to replace START-3 , and Russia should demonstrate its readiness for such work. Is Moscow ready to discuss this topic with Washington again? We have repeatedly confirmed that we are open in principle to serious, pragmatic and result-oriented interaction aimed at reducing tensions and risks, preventing a dangerous escalation and arms race, and strengthening strategic stability, including through arms control. We also remember very well that the START Treaty is not open-ended and should ideally be replaced by a new agreement or agreements. At the same time, it remains to be seen whether the United States will change its deliberately destructive course and whether it will be ready to engage in dialogue on the basis of equality and take into account our interests and security concerns, working together to create the foundations of a new, more just and stable architecture of international security. The United States has been insisting for years on China's involvement in arms control talks. Russia calls for the participation of Great Britain and France. Considering that Moscow and Washington cannot establish a bilateral dialogue, how realistic is this five-sided format? What are the plans for cooperation with those countries that are not members of the official club of nuclear powers, but possess such weapons? — We are convinced that attempts to force anyone to engage in dialogue are counterproductive, since such interaction, whether in a bilateral or multilateral format, should imply joint interested work aimed at finding mutually acceptable results. As an illustration, I think it is appropriate to recall the attempts of the Donald Trump administration to force the Chinese side into an arms control dialogue. It looked completely undiplomatic and in some manifestations even curious. As might be expected, China did not succumb to such brutal pressure. We do not accept such methods. We advocate that any future interaction between the nuclear powers be conducted on the basis of consensus and taking into account the interests of all parties involved. This approach is applicable to any format, both in potential contacts between nuclear powers recognized in the context of the NPT (Treaty on the Non-Proliferation of Nuclear Weapons. - Izvestia), and with the involvement of other states with military nuclear potentials. Our priority remains the same - to involve Great Britain and France in this process as US military allies within the \"\"nuclear alliance\"\". At the same time, it should be taken into account that, in contrast to the dialogue on strategic stability, the possibilities for further progress along the path of nuclear arms reductions only on a bilateral Russian-American basis are practically exhausted. - The Strategic Stability Dialogue received a new impetus after the extension of START-3 in 2021 - then in Geneva you had several meetings with your colleague, US Deputy Secretary of State Wendy Sherman. By the beginning of 2022, they had transformed into negotiations on security guarantees, with strategic stability becoming one of the main topics. After February 24, this dialogue was suspended at the initiative of the United States. Will negotiations start from the same positions on which they were frozen? How realistic is the possibility of reaching agreements on nuclear issues at the same time as Russia is conducting a NMD on the territory of Ukraine ? - Speculating about the prospects of a strategic dialogue with the United States, especially in the conditions when the Americans interrupted it, is a thankless task. Frankly, the very possibility of its resumption is far from obvious, given the recklessly aggressive policy that Washington is pursuing towards Russia. Naturally, we are monitoring some signals regarding the resumption of dialogue on the subject of strategic offensive arms, but it is still unclear what is behind them. In general, negotiations through the media are not conducted. As for our vision of the framework of the strategic dialogue and its desired outcomes, all this is known and remains unchanged. Our idea is to develop a \"\"new security equation\"\" that would take into account all the factors that affect strategic stability. To this end, we strive to cover the entire spectrum of offensive and defensive, nuclear and non-nuclear weapons with a strategic potential. - NATO refuses to enter into a conflict on the side of Kyiv, since a direct clash between the alliance and Moscow could lead to a nuclear war. How do you assess the likelihood of such a collision? - We have repeatedly spoken out on this topic, including at the level of the Minister of Foreign Affairs. As Sergei Lavrov noted, in today's turbulent conditions, nuclear risks are very significant and should not be underestimated. However, they should not be artificially “inflated”. We believe that one of the most important tasks in this context is to maintain adherence by all the countries of the nuclear five to the postulate of the inadmissibility of any war between countries possessing nuclear weapons. With the aggravation of the Ukrainian crisis, which occurred through the fault of the Kyiv regime and its Western patrons, this message not only has not lost its relevance, but has acquired additional significance. The destructive course of the NATO countries to ignore our “red lines” and get involved in a confrontation with Russia in Ukraine, balancing on the brink of a direct armed conflict, is extremely risky. It is obvious that this is fraught with further escalation, up to a military clash of nuclear powers with dire consequences. This must be prevented. - The \"\"Fundamentals of the State Policy of the Russian Federation in the field of nuclear deterrence\"\" states that \"\"aggression against the Russian Federation with the use of conventional weapons\"\" can serve as a reason for the use of nuclear weapons. Under what conditions is Russia ready to resort to the use of nuclear weapons? — You quite rightly made a reference to the Fundamentals of the State Policy of the Russian Federation in the Field of Nuclear Deterrence. The doctrinal guidelines contained in this document are extremely clear: Russia hypothetically allows a nuclear response only in response to aggression using WMD against us or our allies, or aggression using conventional weapons, when the very existence of the state is threatened. The key word in both scenarios is \"\"aggression\"\". In other words, the use of nuclear weapons by Russia is possible only in response to an attack - for self-defense in emergency circumstances. There is no place for conjectures or fantasies here. Washington has previously proposed to exchange Russian prisoner Viktor Bout for Americans Paul Whelan and Brittney Griner. How realistic is this proposal? When and under what conditions can this exchange take place? - The issue of the exchange of imprisoned citizens of Russia and the United States is a very sensitive matter, which is unacceptable to be put on public display, as the current American administration is doing, in order to earn political points. We have repeatedly called on Washington to observe the rules of \"\"quiet diplomacy\"\" without interfering with the competent bodies of Russia and the United States, which are authorized by our presidents to seek solutions on specific exchange options, from doing their job professionally. This is how we managed to free Russian pilot Konstantin Yaroshenko, who was serving a 20-year term in an American prison on trumped-up charges, in parallel with the transfer to the United States of student Trevor Reed, who was convicted in our country for attacking a policeman. It remains to be hoped that the American side will refrain from slipping into propaganda and will act responsibly, following the principle of \"\"do no harm.\"\" \"\"\"\n",
      "/var/folders/b9/c96l37bd70z1lx16xy0ggvs80000gn/T/ipykernel_22154/1219943692.py:3: SettingWithCopyWarning: \n",
      "A value is trying to be set on a copy of a slice from a DataFrame\n",
      "\n",
      "See the caveats in the documentation: https://pandas.pydata.org/pandas-docs/stable/user_guide/indexing.html#returning-a-view-versus-a-copy\n",
      "  df.loc[90, 'text-medium'] = \"\"\" De-escalation also appeared to be on Russian minds. In an interview on August 22, Russian Deputy Foreign Minister Sergey Ryabkov confirmed a restrictive approach to any potential use of nuclear weapons. Referring back to Lavrov’ statement from April 25 that the nuclear risks were real but should not be “inflated,” he noted that “one of the most important tasks … is to maintain adherence by all the nuclear five states to the postulate of the inadmissibility of any war between countries possessing nuclear weapons.” In this context he condemned the NATO countries’ “destructive course” to “ignore” Russian “red lines” and “get involved in a confrontation with Russia in Ukraine, balancing on the brink of direct armed conflict.” This was “extremely risky” and “fraught with further escalation, up to a military clash of nuclear powers with dire consequences,” he explained. “This must be prevented.” He then also referred to Russian doctrine, which clearly laid down that “Russia hypothetically allows a nuclear response only in response to aggression using WMD against us or our allies, or aggression using conventional weapons, when the very existence of the state is threatened.” Hence: The key word in both scenarios is aggression,” meaning that “the use of nuclear weapons by Russia is possible only in response to an attack - for self-defense in emergency circumstances,” he explained. “There is no place for conjectures or fantasies here.”489 Finally, Ryabkov added, Moscow remained “open in principle to serious, pragmatic and result-oriented interaction aimed at reducing tensions and risks, preventing a dangerous escalation and arms race, and strengthening strategic stability, including through arms control.” The START Treaty “ideally should be replaced by a new agreement or agreements.” However, he blamed the United States on the lack of progress in this regard. The resumption of bilateral strategic talks between Moscow and Washington was unlikely due to the latter’s “deliberately destructive course \"\"\"\n",
      "/var/folders/b9/c96l37bd70z1lx16xy0ggvs80000gn/T/ipykernel_22154/1219943692.py:4: SettingWithCopyWarning: \n",
      "A value is trying to be set on a copy of a slice from a DataFrame\n",
      "\n",
      "See the caveats in the documentation: https://pandas.pydata.org/pandas-docs/stable/user_guide/indexing.html#returning-a-view-versus-a-copy\n",
      "  df.loc[90, 'text-short'] = \"\"\"  Ryabkov: Clash between nuclear powers must be prevented. \"\"\"\n",
      "/var/folders/b9/c96l37bd70z1lx16xy0ggvs80000gn/T/ipykernel_22154/1219943692.py:5: SettingWithCopyWarning: \n",
      "A value is trying to be set on a copy of a slice from a DataFrame\n",
      "\n",
      "See the caveats in the documentation: https://pandas.pydata.org/pandas-docs/stable/user_guide/indexing.html#returning-a-view-versus-a-copy\n",
      "  df.loc[90, 'side'] = \"r\"\n",
      "/var/folders/b9/c96l37bd70z1lx16xy0ggvs80000gn/T/ipykernel_22154/1219943692.py:6: SettingWithCopyWarning: \n",
      "A value is trying to be set on a copy of a slice from a DataFrame\n",
      "\n",
      "See the caveats in the documentation: https://pandas.pydata.org/pandas-docs/stable/user_guide/indexing.html#returning-a-view-versus-a-copy\n",
      "  df.loc[90, 'label'] = \"D\"\n"
     ]
    }
   ],
   "source": [
    "df.loc[90, 'date'] = '2022-08-22'\n",
    "df.loc[90, 'text'] = \"\"\" Russia can use nuclear weapons only in response to an attack - \"\"for self-defense in emergency circumstances.\"\" This was stated in an interview with Izvestia by Deputy Foreign Minister of Russia Sergei Ryabkov. The diplomat responded in writing to questions about how Moscow sees the dialogue with the United States on disarmament, what it thinks about the threat of nuclear war, and how it assesses the prospects for a new prisoner exchange with Washington. “The possibility of resuming a strategic dialogue with the United States is far from obvious” - On August 1, US President Joe Biden said that his administration was ready to quickly negotiate a new arms control system to replace START-3 , and Russia should demonstrate its readiness for such work. Is Moscow ready to discuss this topic with Washington again? We have repeatedly confirmed that we are open in principle to serious, pragmatic and result-oriented interaction aimed at reducing tensions and risks, preventing a dangerous escalation and arms race, and strengthening strategic stability, including through arms control. We also remember very well that the START Treaty is not open-ended and should ideally be replaced by a new agreement or agreements. At the same time, it remains to be seen whether the United States will change its deliberately destructive course and whether it will be ready to engage in dialogue on the basis of equality and take into account our interests and security concerns, working together to create the foundations of a new, more just and stable architecture of international security. The United States has been insisting for years on China's involvement in arms control talks. Russia calls for the participation of Great Britain and France. Considering that Moscow and Washington cannot establish a bilateral dialogue, how realistic is this five-sided format? What are the plans for cooperation with those countries that are not members of the official club of nuclear powers, but possess such weapons? — We are convinced that attempts to force anyone to engage in dialogue are counterproductive, since such interaction, whether in a bilateral or multilateral format, should imply joint interested work aimed at finding mutually acceptable results. As an illustration, I think it is appropriate to recall the attempts of the Donald Trump administration to force the Chinese side into an arms control dialogue. It looked completely undiplomatic and in some manifestations even curious. As might be expected, China did not succumb to such brutal pressure. We do not accept such methods. We advocate that any future interaction between the nuclear powers be conducted on the basis of consensus and taking into account the interests of all parties involved. This approach is applicable to any format, both in potential contacts between nuclear powers recognized in the context of the NPT (Treaty on the Non-Proliferation of Nuclear Weapons. - Izvestia), and with the involvement of other states with military nuclear potentials. Our priority remains the same - to involve Great Britain and France in this process as US military allies within the \"\"nuclear alliance\"\". At the same time, it should be taken into account that, in contrast to the dialogue on strategic stability, the possibilities for further progress along the path of nuclear arms reductions only on a bilateral Russian-American basis are practically exhausted. - The Strategic Stability Dialogue received a new impetus after the extension of START-3 in 2021 - then in Geneva you had several meetings with your colleague, US Deputy Secretary of State Wendy Sherman. By the beginning of 2022, they had transformed into negotiations on security guarantees, with strategic stability becoming one of the main topics. After February 24, this dialogue was suspended at the initiative of the United States. Will negotiations start from the same positions on which they were frozen? How realistic is the possibility of reaching agreements on nuclear issues at the same time as Russia is conducting a NMD on the territory of Ukraine ? - Speculating about the prospects of a strategic dialogue with the United States, especially in the conditions when the Americans interrupted it, is a thankless task. Frankly, the very possibility of its resumption is far from obvious, given the recklessly aggressive policy that Washington is pursuing towards Russia. Naturally, we are monitoring some signals regarding the resumption of dialogue on the subject of strategic offensive arms, but it is still unclear what is behind them. In general, negotiations through the media are not conducted. As for our vision of the framework of the strategic dialogue and its desired outcomes, all this is known and remains unchanged. Our idea is to develop a \"\"new security equation\"\" that would take into account all the factors that affect strategic stability. To this end, we strive to cover the entire spectrum of offensive and defensive, nuclear and non-nuclear weapons with a strategic potential. - NATO refuses to enter into a conflict on the side of Kyiv, since a direct clash between the alliance and Moscow could lead to a nuclear war. How do you assess the likelihood of such a collision? - We have repeatedly spoken out on this topic, including at the level of the Minister of Foreign Affairs. As Sergei Lavrov noted, in today's turbulent conditions, nuclear risks are very significant and should not be underestimated. However, they should not be artificially “inflated”. We believe that one of the most important tasks in this context is to maintain adherence by all the countries of the nuclear five to the postulate of the inadmissibility of any war between countries possessing nuclear weapons. With the aggravation of the Ukrainian crisis, which occurred through the fault of the Kyiv regime and its Western patrons, this message not only has not lost its relevance, but has acquired additional significance. The destructive course of the NATO countries to ignore our “red lines” and get involved in a confrontation with Russia in Ukraine, balancing on the brink of a direct armed conflict, is extremely risky. It is obvious that this is fraught with further escalation, up to a military clash of nuclear powers with dire consequences. This must be prevented. - The \"\"Fundamentals of the State Policy of the Russian Federation in the field of nuclear deterrence\"\" states that \"\"aggression against the Russian Federation with the use of conventional weapons\"\" can serve as a reason for the use of nuclear weapons. Under what conditions is Russia ready to resort to the use of nuclear weapons? — You quite rightly made a reference to the Fundamentals of the State Policy of the Russian Federation in the Field of Nuclear Deterrence. The doctrinal guidelines contained in this document are extremely clear: Russia hypothetically allows a nuclear response only in response to aggression using WMD against us or our allies, or aggression using conventional weapons, when the very existence of the state is threatened. The key word in both scenarios is \"\"aggression\"\". In other words, the use of nuclear weapons by Russia is possible only in response to an attack - for self-defense in emergency circumstances. There is no place for conjectures or fantasies here. Washington has previously proposed to exchange Russian prisoner Viktor Bout for Americans Paul Whelan and Brittney Griner. How realistic is this proposal? When and under what conditions can this exchange take place? - The issue of the exchange of imprisoned citizens of Russia and the United States is a very sensitive matter, which is unacceptable to be put on public display, as the current American administration is doing, in order to earn political points. We have repeatedly called on Washington to observe the rules of \"\"quiet diplomacy\"\" without interfering with the competent bodies of Russia and the United States, which are authorized by our presidents to seek solutions on specific exchange options, from doing their job professionally. This is how we managed to free Russian pilot Konstantin Yaroshenko, who was serving a 20-year term in an American prison on trumped-up charges, in parallel with the transfer to the United States of student Trevor Reed, who was convicted in our country for attacking a policeman. It remains to be hoped that the American side will refrain from slipping into propaganda and will act responsibly, following the principle of \"\"do no harm.\"\" \"\"\"\n",
    "df.loc[90, 'text-medium'] = \"\"\" De-escalation also appeared to be on Russian minds. In an interview on August 22, Russian Deputy Foreign Minister Sergey Ryabkov confirmed a restrictive approach to any potential use of nuclear weapons. Referring back to Lavrov’ statement from April 25 that the nuclear risks were real but should not be “inflated,” he noted that “one of the most important tasks … is to maintain adherence by all the nuclear five states to the postulate of the inadmissibility of any war between countries possessing nuclear weapons.” In this context he condemned the NATO countries’ “destructive course” to “ignore” Russian “red lines” and “get involved in a confrontation with Russia in Ukraine, balancing on the brink of direct armed conflict.” This was “extremely risky” and “fraught with further escalation, up to a military clash of nuclear powers with dire consequences,” he explained. “This must be prevented.” He then also referred to Russian doctrine, which clearly laid down that “Russia hypothetically allows a nuclear response only in response to aggression using WMD against us or our allies, or aggression using conventional weapons, when the very existence of the state is threatened.” Hence: The key word in both scenarios is aggression,” meaning that “the use of nuclear weapons by Russia is possible only in response to an attack - for self-defense in emergency circumstances,” he explained. “There is no place for conjectures or fantasies here.”489 Finally, Ryabkov added, Moscow remained “open in principle to serious, pragmatic and result-oriented interaction aimed at reducing tensions and risks, preventing a dangerous escalation and arms race, and strengthening strategic stability, including through arms control.” The START Treaty “ideally should be replaced by a new agreement or agreements.” However, he blamed the United States on the lack of progress in this regard. The resumption of bilateral strategic talks between Moscow and Washington was unlikely due to the latter’s “deliberately destructive course \"\"\"\n",
    "df.loc[90, 'text-short'] = \"\"\"  Ryabkov: Clash between nuclear powers must be prevented. \"\"\"\n",
    "df.loc[90, 'side'] = \"r\"\n",
    "df.loc[90, 'label'] = \"D\""
   ]
  },
  {
   "cell_type": "code",
   "execution_count": 322,
   "metadata": {},
   "outputs": [
    {
     "data": {
      "text/plain": [
       "date                                                  2022-08-22\n",
       "text            Russia can use nuclear weapons only in respon...\n",
       "text-medium     De-escalation also appeared to be on Russian ...\n",
       "text-short       Ryabkov: Clash between nuclear powers must b...\n",
       "side                                                           r\n",
       "label                                                          D\n",
       "comment                                                      NaN\n",
       "Name: 90, dtype: object"
      ]
     },
     "execution_count": 322,
     "metadata": {},
     "output_type": "execute_result"
    }
   ],
   "source": [
    "df.loc[90]"
   ]
  },
  {
   "cell_type": "code",
   "execution_count": 323,
   "metadata": {},
   "outputs": [
    {
     "data": {
      "text/plain": [
       "date           object\n",
       "text           object\n",
       "text-medium    object\n",
       "text-short     object\n",
       "side           object\n",
       "label          object\n",
       "comment        object\n",
       "dtype: object"
      ]
     },
     "execution_count": 323,
     "metadata": {},
     "output_type": "execute_result"
    }
   ],
   "source": [
    "df.dtypes"
   ]
  },
  {
   "cell_type": "code",
   "execution_count": 324,
   "metadata": {},
   "outputs": [
    {
     "data": {
      "text/plain": [
       "date            0\n",
       "text            0\n",
       "text-medium     0\n",
       "text-short      0\n",
       "side            0\n",
       "label           0\n",
       "comment        79\n",
       "dtype: int64"
      ]
     },
     "execution_count": 324,
     "metadata": {},
     "output_type": "execute_result"
    }
   ],
   "source": [
    "df.isnull().sum()"
   ]
  },
  {
   "cell_type": "code",
   "execution_count": 325,
   "metadata": {},
   "outputs": [
    {
     "data": {
      "text/plain": [
       "array(['W', 'E', 'D'], dtype=object)"
      ]
     },
     "execution_count": 325,
     "metadata": {},
     "output_type": "execute_result"
    }
   ],
   "source": [
    "df['label'].unique()"
   ]
  },
  {
   "cell_type": "code",
   "execution_count": 326,
   "metadata": {},
   "outputs": [
    {
     "data": {
      "text/plain": [
       "array(['r', 'w'], dtype=object)"
      ]
     },
     "execution_count": 326,
     "metadata": {},
     "output_type": "execute_result"
    }
   ],
   "source": [
    "df['side'].unique()"
   ]
  },
  {
   "cell_type": "code",
   "execution_count": 327,
   "metadata": {},
   "outputs": [
    {
     "data": {
      "text/plain": [
       "date           object\n",
       "text           object\n",
       "text-medium    object\n",
       "text-short     object\n",
       "side           object\n",
       "label          object\n",
       "comment        object\n",
       "dtype: object"
      ]
     },
     "execution_count": 327,
     "metadata": {},
     "output_type": "execute_result"
    }
   ],
   "source": [
    "df.dtypes"
   ]
  },
  {
   "cell_type": "code",
   "execution_count": 328,
   "metadata": {},
   "outputs": [],
   "source": [
    "df = df.convert_dtypes()"
   ]
  },
  {
   "cell_type": "code",
   "execution_count": 329,
   "metadata": {},
   "outputs": [
    {
     "data": {
      "text/plain": [
       "date           string[python]\n",
       "text           string[python]\n",
       "text-medium    string[python]\n",
       "text-short     string[python]\n",
       "side           string[python]\n",
       "label          string[python]\n",
       "comment        string[python]\n",
       "dtype: object"
      ]
     },
     "execution_count": 329,
     "metadata": {},
     "output_type": "execute_result"
    }
   ],
   "source": [
    "df.dtypes"
   ]
  },
  {
   "cell_type": "code",
   "execution_count": 330,
   "metadata": {},
   "outputs": [],
   "source": [
    "df['date'] = pd.to_datetime(df['date'])"
   ]
  },
  {
   "cell_type": "code",
   "execution_count": 331,
   "metadata": {},
   "outputs": [
    {
     "data": {
      "text/plain": [
       "date           datetime64[ns]\n",
       "text           string[python]\n",
       "text-medium    string[python]\n",
       "text-short     string[python]\n",
       "side           string[python]\n",
       "label          string[python]\n",
       "comment        string[python]\n",
       "dtype: object"
      ]
     },
     "execution_count": 331,
     "metadata": {},
     "output_type": "execute_result"
    }
   ],
   "source": [
    "df.dtypes"
   ]
  },
  {
   "cell_type": "code",
   "execution_count": 332,
   "metadata": {},
   "outputs": [],
   "source": [
    "df = df.drop(columns=['comment'])"
   ]
  },
  {
   "cell_type": "code",
   "execution_count": 333,
   "metadata": {},
   "outputs": [
    {
     "data": {
      "text/html": [
       "<div>\n",
       "<style scoped>\n",
       "    .dataframe tbody tr th:only-of-type {\n",
       "        vertical-align: middle;\n",
       "    }\n",
       "\n",
       "    .dataframe tbody tr th {\n",
       "        vertical-align: top;\n",
       "    }\n",
       "\n",
       "    .dataframe thead th {\n",
       "        text-align: right;\n",
       "    }\n",
       "</style>\n",
       "<table border=\"1\" class=\"dataframe\">\n",
       "  <thead>\n",
       "    <tr style=\"text-align: right;\">\n",
       "      <th></th>\n",
       "      <th>date</th>\n",
       "      <th>text</th>\n",
       "      <th>text-medium</th>\n",
       "      <th>text-short</th>\n",
       "      <th>side</th>\n",
       "      <th>label</th>\n",
       "    </tr>\n",
       "  </thead>\n",
       "  <tbody>\n",
       "    <tr>\n",
       "      <th>0</th>\n",
       "      <td>2022-01-27</td>\n",
       "      <td>Medvedev sees no need to review Russia’s nucle...</td>\n",
       "      <td>A month before the invasion, the Russian leade...</td>\n",
       "      <td>Medvedev: Russia has “the right” to use nuclea...</td>\n",
       "      <td>r</td>\n",
       "      <td>W</td>\n",
       "    </tr>\n",
       "    <tr>\n",
       "      <th>1</th>\n",
       "      <td>2022-02-07</td>\n",
       "      <td>President of Russia Vladimir Putin: Mr Preside...</td>\n",
       "      <td>Ten days later, Putin continued developing the...</td>\n",
       "      <td>Putin: If Ukraine attempts to take back Crimea...</td>\n",
       "      <td>r</td>\n",
       "      <td>E</td>\n",
       "    </tr>\n",
       "    <tr>\n",
       "      <th>2</th>\n",
       "      <td>2022-02-19</td>\n",
       "      <td>Strategic Deterrence Exercise\r\n",
       "Under the leade...</td>\n",
       "      <td>On February 19, sitting alongside Belarusian l...</td>\n",
       "      <td>Yearly nuclear exercise, normally held in autumn.</td>\n",
       "      <td>r</td>\n",
       "      <td>W</td>\n",
       "    </tr>\n",
       "    <tr>\n",
       "      <th>3</th>\n",
       "      <td>2022-02-22</td>\n",
       "      <td>Address by the President of the Russian Federa...</td>\n",
       "      <td>In a televised address on February 21, Putin a...</td>\n",
       "      <td>Putin: Ukraine is seeking to acquire tactical ...</td>\n",
       "      <td>r</td>\n",
       "      <td>W</td>\n",
       "    </tr>\n",
       "    <tr>\n",
       "      <th>4</th>\n",
       "      <td>2022-02-24</td>\n",
       "      <td>Address by the President of the Russian Federa...</td>\n",
       "      <td>Washington was pursuing a “policy of containin...</td>\n",
       "      <td>Putin: Whoever tries to hinder Russia will fac...</td>\n",
       "      <td>r</td>\n",
       "      <td>E</td>\n",
       "    </tr>\n",
       "  </tbody>\n",
       "</table>\n",
       "</div>"
      ],
      "text/plain": [
       "        date                                               text   \n",
       "0 2022-01-27  Medvedev sees no need to review Russia’s nucle...  \\\n",
       "1 2022-02-07  President of Russia Vladimir Putin: Mr Preside...   \n",
       "2 2022-02-19  Strategic Deterrence Exercise\n",
       "Under the leade...   \n",
       "3 2022-02-22  Address by the President of the Russian Federa...   \n",
       "4 2022-02-24  Address by the President of the Russian Federa...   \n",
       "\n",
       "                                         text-medium   \n",
       "0  A month before the invasion, the Russian leade...  \\\n",
       "1  Ten days later, Putin continued developing the...   \n",
       "2  On February 19, sitting alongside Belarusian l...   \n",
       "3  In a televised address on February 21, Putin a...   \n",
       "4  Washington was pursuing a “policy of containin...   \n",
       "\n",
       "                                          text-short side label  \n",
       "0  Medvedev: Russia has “the right” to use nuclea...    r     W  \n",
       "1  Putin: If Ukraine attempts to take back Crimea...    r     E  \n",
       "2  Yearly nuclear exercise, normally held in autumn.    r     W  \n",
       "3  Putin: Ukraine is seeking to acquire tactical ...    r     W  \n",
       "4  Putin: Whoever tries to hinder Russia will fac...    r     E  "
      ]
     },
     "execution_count": 333,
     "metadata": {},
     "output_type": "execute_result"
    }
   ],
   "source": [
    "df.head()"
   ]
  },
  {
   "cell_type": "code",
   "execution_count": 334,
   "metadata": {},
   "outputs": [
    {
     "data": {
      "text/plain": [
       "(90, 6)"
      ]
     },
     "execution_count": 334,
     "metadata": {},
     "output_type": "execute_result"
    }
   ],
   "source": [
    "df.shape"
   ]
  },
  {
   "attachments": {},
   "cell_type": "markdown",
   "metadata": {},
   "source": [
    "## Splitting 'text' into sentences and building a new df"
   ]
  },
  {
   "attachments": {},
   "cell_type": "markdown",
   "metadata": {},
   "source": [
    "### The following function, split_into_sentences(), was found here: https://stackoverflow.com/questions/4576077/how-can-i-split-a-text-into-sentences\n"
   ]
  },
  {
   "cell_type": "code",
   "execution_count": 335,
   "metadata": {},
   "outputs": [],
   "source": [
    "\n",
    "# -*- coding: utf-8 -*-\n",
    "import re\n",
    "alphabets= \"([A-Za-z])\"\n",
    "prefixes = \"(Mr|St|Mrs|Ms|Dr)[.]\"\n",
    "suffixes = \"(Inc|Ltd|Jr|Sr|Co)\"\n",
    "starters = \"(Mr|Mrs|Ms|Dr|Prof|Capt|Cpt|Lt|He\\s|She\\s|It\\s|They\\s|Their\\s|Our\\s|We\\s|But\\s|However\\s|That\\s|This\\s|Wherever)\"\n",
    "acronyms = \"([A-Z][.][A-Z][.](?:[A-Z][.])?)\"\n",
    "websites = \"[.](com|net|org|io|gov|edu|me)\"\n",
    "digits = \"([0-9])\"\n",
    "multiple_dots = r'\\.{2,}'\n",
    "\n",
    "def split_into_sentences(text: str) -> list[str]:\n",
    "    \"\"\"\n",
    "    Split the text into sentences.\n",
    "\n",
    "    If the text contains substrings \"<prd>\" or \"<stop>\", they would lead \n",
    "    to incorrect splitting because they are used as markers for splitting.\n",
    "\n",
    "    :param text: text to be split into sentences\n",
    "    :type text: str\n",
    "\n",
    "    :return: list of sentences\n",
    "    :rtype: list[str]\n",
    "    \"\"\"\n",
    "    text = \" \" + text + \"  \"\n",
    "    text = text.replace(\"\\n\",\" \")\n",
    "    text = re.sub(prefixes,\"\\\\1<prd>\",text)\n",
    "    text = re.sub(websites,\"<prd>\\\\1\",text)\n",
    "    text = re.sub(digits + \"[.]\" + digits,\"\\\\1<prd>\\\\2\",text)\n",
    "    text = re.sub(multiple_dots, lambda match: \"<prd>\" * len(match.group(0)) + \"<stop>\", text)\n",
    "    if \"Ph.D\" in text: text = text.replace(\"Ph.D.\",\"Ph<prd>D<prd>\")\n",
    "    text = re.sub(\"\\s\" + alphabets + \"[.] \",\" \\\\1<prd> \",text)\n",
    "    text = re.sub(acronyms+\" \"+starters,\"\\\\1<stop> \\\\2\",text)\n",
    "    text = re.sub(alphabets + \"[.]\" + alphabets + \"[.]\" + alphabets + \"[.]\",\"\\\\1<prd>\\\\2<prd>\\\\3<prd>\",text)\n",
    "    text = re.sub(alphabets + \"[.]\" + alphabets + \"[.]\",\"\\\\1<prd>\\\\2<prd>\",text)\n",
    "    text = re.sub(\" \"+suffixes+\"[.] \"+starters,\" \\\\1<stop> \\\\2\",text)\n",
    "    text = re.sub(\" \"+suffixes+\"[.]\",\" \\\\1<prd>\",text)\n",
    "    text = re.sub(\" \" + alphabets + \"[.]\",\" \\\\1<prd>\",text)\n",
    "    if \"”\" in text: text = text.replace(\".”\",\"”.\")\n",
    "    if \"\\\"\" in text: text = text.replace(\".\\\"\",\"\\\".\")\n",
    "    if \"!\" in text: text = text.replace(\"!\\\"\",\"\\\"!\")\n",
    "    if \"?\" in text: text = text.replace(\"?\\\"\",\"\\\"?\")\n",
    "    text = text.replace(\".\",\".<stop>\")\n",
    "    text = text.replace(\"?\",\"?<stop>\")\n",
    "    text = text.replace(\"!\",\"!<stop>\")\n",
    "    text = text.replace(\"<prd>\",\".\")\n",
    "    sentences = text.split(\"<stop>\")\n",
    "    sentences = [s.strip() for s in sentences]\n",
    "    if sentences and not sentences[-1]: sentences = sentences[:-1]\n",
    "    return sentences\n"
   ]
  },
  {
   "cell_type": "code",
   "execution_count": 336,
   "metadata": {},
   "outputs": [],
   "source": [
    "test1 = df['text'][10]\n",
    "test2 = df['text'][2]\n",
    "test3 = df['text'][90]\n",
    "test4 = df['text'][33]\n",
    "test5 = df['text'][74]"
   ]
  },
  {
   "cell_type": "code",
   "execution_count": 337,
   "metadata": {},
   "outputs": [
    {
     "data": {
      "text/plain": [
       "['Meeting with Sergei Shoigu and Valery Gerasimov\\r Vladimir Putin had a meeting with Defence Minister Sergei Shoigu and Chief of the General Staff of Russia’s Armed Forces – First Deputy Defence Minister Valery Gerasimov.',\n",
       " 'February 27, 202216:05The Kremlin, Moscow\\r Defence Minister Sergei Shoigu (right) and Chief of the General Staff of Russia’s Armed Forces – First Deputy Defence Minister Valery Gerasimov.',\n",
       " '1 of 2\\r Defence Minister Sergei Shoigu (right) and Chief of the General Staff of Russia’s Armed Forces – First Deputy Defence Minister Valery Gerasimov.',\n",
       " 'President of Russia Vladimir Putin: Colleagues,\\r \\r You see that Western countries are not only taking unfriendly economic actions against our country, I mean the illegitimate sanctions of which everyone is well aware, but top officials of the leading NATO countries are indulging in aggressive statements directed at our country.',\n",
       " 'Therefore, I order the Defence Minister and Chief of the General Staff to put Russian Army’s deterrence forces on high combat alert.']"
      ]
     },
     "execution_count": 337,
     "metadata": {},
     "output_type": "execute_result"
    }
   ],
   "source": [
    "split_into_sentences(test1)"
   ]
  },
  {
   "cell_type": "code",
   "execution_count": 338,
   "metadata": {},
   "outputs": [
    {
     "data": {
      "text/plain": [
       "['Strategic Deterrence Exercise\\r Under the leadership of Supreme Commander-in-Chief of the Armed Forces Vladimir Putin, a planned exercise of the strategic deterrence forces was held, during which ballistic and cruise missiles were launched.',\n",
       " \"February 19, 202214:10Moscow, Kremlin\\r Vladimir Putin, together with President of Belarus Alexander Lukashenko, watched the exercise of the strategic deterrence forces from the Kremlin's situational center.\",\n",
       " \"1 of 4\\r Vladimir Putin, together with President of Belarus Alexander Lukashenko, watched the exercise of the strategic deterrence forces from the Kremlin's situational center.\",\n",
       " 'The head of state watched the exercise from the situational center of the Kremlin together with President of Belarus Alexander Lukashenko.',\n",
       " 'Forces and means of the Aerospace Forces, the Southern Military District, the Strategic Missile Forces, the Northern and Black Sea Fleets were involved in the exercise.',\n",
       " 'Aerospace Forces successfully launched Kinzhal hypersonic aeroballistic missiles.',\n",
       " 'Ships and submarines of the Northern and Black Sea Fleets launched Kalibr cruise missiles and Zirkon hypersonic missiles at sea and ground targets.',\n",
       " 'In the Astrakhan region, at the Kapustin Yar training ground, a practical launch of the Iskander ground-based cruise missile was carried out.',\n",
       " 'From the position area of the Plesetsk state test cosmodrome, the Yars intercontinental ballistic missile was launched at the Kura test site on the Kamchatka Peninsula.',\n",
       " 'Air-launched cruise missiles fired from Tu-95MS long-range strategic missile carriers hit targets at the Pemboi and Kura ranges.',\n",
       " 'From the waters of the Barents Sea, the strategic nuclear submarine Karelia of the Northern Fleet launched the Sineva ballistic missile at the Kura range.',\n",
       " 'The exercise of the strategic deterrence forces was planned earlier, during which the readiness of military command and control bodies, combat crews of launch, crews of warships and strategic missile carriers to perform the assigned tasks, as well as the reliability of weapons of strategic nuclear and non-nuclear forces, was checked.',\n",
       " 'The tasks envisaged during the exercise of the strategic deterrence forces were completed in full, all missiles hit the designated targets, confirming the specified characteristics.']"
      ]
     },
     "execution_count": 338,
     "metadata": {},
     "output_type": "execute_result"
    }
   ],
   "source": [
    "split_into_sentences(test2)"
   ]
  },
  {
   "cell_type": "code",
   "execution_count": 339,
   "metadata": {},
   "outputs": [
    {
     "data": {
      "text/plain": [
       "['Russia can use nuclear weapons only in response to an attack - \"\"for self-defense in emergency circumstances\".',\n",
       " '\" This was stated in an interview with Izvestia by Deputy Foreign Minister of Russia Sergei Ryabkov.',\n",
       " 'The diplomat responded in writing to questions about how Moscow sees the dialogue with the United States on disarmament, what it thinks about the threat of nuclear war, and how it assesses the prospects for a new prisoner exchange with Washington.',\n",
       " '“The possibility of resuming a strategic dialogue with the United States is far from obvious” - On August 1, US President Joe Biden said that his administration was ready to quickly negotiate a new arms control system to replace START-3 , and Russia should demonstrate its readiness for such work.',\n",
       " 'Is Moscow ready to discuss this topic with Washington again?',\n",
       " 'We have repeatedly confirmed that we are open in principle to serious, pragmatic and result-oriented interaction aimed at reducing tensions and risks, preventing a dangerous escalation and arms race, and strengthening strategic stability, including through arms control.',\n",
       " 'We also remember very well that the START Treaty is not open-ended and should ideally be replaced by a new agreement or agreements.',\n",
       " 'At the same time, it remains to be seen whether the United States will change its deliberately destructive course and whether it will be ready to engage in dialogue on the basis of equality and take into account our interests and security concerns, working together to create the foundations of a new, more just and stable architecture of international security.',\n",
       " \"The United States has been insisting for years on China's involvement in arms control talks.\",\n",
       " 'Russia calls for the participation of Great Britain and France.',\n",
       " 'Considering that Moscow and Washington cannot establish a bilateral dialogue, how realistic is this five-sided format?',\n",
       " 'What are the plans for cooperation with those countries that are not members of the official club of nuclear powers, but possess such weapons?',\n",
       " '— We are convinced that attempts to force anyone to engage in dialogue are counterproductive, since such interaction, whether in a bilateral or multilateral format, should imply joint interested work aimed at finding mutually acceptable results.',\n",
       " 'As an illustration, I think it is appropriate to recall the attempts of the Donald Trump administration to force the Chinese side into an arms control dialogue.',\n",
       " 'It looked completely undiplomatic and in some manifestations even curious.',\n",
       " 'As might be expected, China did not succumb to such brutal pressure.',\n",
       " 'We do not accept such methods.',\n",
       " 'We advocate that any future interaction between the nuclear powers be conducted on the basis of consensus and taking into account the interests of all parties involved.',\n",
       " 'This approach is applicable to any format, both in potential contacts between nuclear powers recognized in the context of the NPT (Treaty on the Non-Proliferation of Nuclear Weapons.',\n",
       " '- Izvestia), and with the involvement of other states with military nuclear potentials.',\n",
       " 'Our priority remains the same - to involve Great Britain and France in this process as US military allies within the \"\"nuclear alliance\"\".',\n",
       " 'At the same time, it should be taken into account that, in contrast to the dialogue on strategic stability, the possibilities for further progress along the path of nuclear arms reductions only on a bilateral Russian-American basis are practically exhausted.',\n",
       " '- The Strategic Stability Dialogue received a new impetus after the extension of START-3 in 2021 - then in Geneva you had several meetings with your colleague, US Deputy Secretary of State Wendy Sherman.',\n",
       " 'By the beginning of 2022, they had transformed into negotiations on security guarantees, with strategic stability becoming one of the main topics.',\n",
       " 'After February 24, this dialogue was suspended at the initiative of the United States.',\n",
       " 'Will negotiations start from the same positions on which they were frozen?',\n",
       " 'How realistic is the possibility of reaching agreements on nuclear issues at the same time as Russia is conducting a NMD on the territory of Ukraine ?',\n",
       " '- Speculating about the prospects of a strategic dialogue with the United States, especially in the conditions when the Americans interrupted it, is a thankless task.',\n",
       " 'Frankly, the very possibility of its resumption is far from obvious, given the recklessly aggressive policy that Washington is pursuing towards Russia.',\n",
       " 'Naturally, we are monitoring some signals regarding the resumption of dialogue on the subject of strategic offensive arms, but it is still unclear what is behind them.',\n",
       " 'In general, negotiations through the media are not conducted.',\n",
       " 'As for our vision of the framework of the strategic dialogue and its desired outcomes, all this is known and remains unchanged.',\n",
       " 'Our idea is to develop a \"\"new security equation\"\" that would take into account all the factors that affect strategic stability.',\n",
       " 'To this end, we strive to cover the entire spectrum of offensive and defensive, nuclear and non-nuclear weapons with a strategic potential.',\n",
       " '- NATO refuses to enter into a conflict on the side of Kyiv, since a direct clash between the alliance and Moscow could lead to a nuclear war.',\n",
       " 'How do you assess the likelihood of such a collision?',\n",
       " '- We have repeatedly spoken out on this topic, including at the level of the Minister of Foreign Affairs.',\n",
       " \"As Sergei Lavrov noted, in today's turbulent conditions, nuclear risks are very significant and should not be underestimated.\",\n",
       " 'However, they should not be artificially “inflated”.',\n",
       " 'We believe that one of the most important tasks in this context is to maintain adherence by all the countries of the nuclear five to the postulate of the inadmissibility of any war between countries possessing nuclear weapons.',\n",
       " 'With the aggravation of the Ukrainian crisis, which occurred through the fault of the Kyiv regime and its Western patrons, this message not only has not lost its relevance, but has acquired additional significance.',\n",
       " 'The destructive course of the NATO countries to ignore our “red lines” and get involved in a confrontation with Russia in Ukraine, balancing on the brink of a direct armed conflict, is extremely risky.',\n",
       " 'It is obvious that this is fraught with further escalation, up to a military clash of nuclear powers with dire consequences.',\n",
       " 'This must be prevented.',\n",
       " '- The \"\"Fundamentals of the State Policy of the Russian Federation in the field of nuclear deterrence\"\" states that \"\"aggression against the Russian Federation with the use of conventional weapons\"\" can serve as a reason for the use of nuclear weapons.',\n",
       " 'Under what conditions is Russia ready to resort to the use of nuclear weapons?',\n",
       " '— You quite rightly made a reference to the Fundamentals of the State Policy of the Russian Federation in the Field of Nuclear Deterrence.',\n",
       " 'The doctrinal guidelines contained in this document are extremely clear: Russia hypothetically allows a nuclear response only in response to aggression using WMD against us or our allies, or aggression using conventional weapons, when the very existence of the state is threatened.',\n",
       " 'The key word in both scenarios is \"\"aggression\"\".',\n",
       " 'In other words, the use of nuclear weapons by Russia is possible only in response to an attack - for self-defense in emergency circumstances.',\n",
       " 'There is no place for conjectures or fantasies here.',\n",
       " 'Washington has previously proposed to exchange Russian prisoner Viktor Bout for Americans Paul Whelan and Brittney Griner.',\n",
       " 'How realistic is this proposal?',\n",
       " 'When and under what conditions can this exchange take place?',\n",
       " '- The issue of the exchange of imprisoned citizens of Russia and the United States is a very sensitive matter, which is unacceptable to be put on public display, as the current American administration is doing, in order to earn political points.',\n",
       " 'We have repeatedly called on Washington to observe the rules of \"\"quiet diplomacy\"\" without interfering with the competent bodies of Russia and the United States, which are authorized by our presidents to seek solutions on specific exchange options, from doing their job professionally.',\n",
       " 'This is how we managed to free Russian pilot Konstantin Yaroshenko, who was serving a 20-year term in an American prison on trumped-up charges, in parallel with the transfer to the United States of student Trevor Reed, who was convicted in our country for attacking a policeman.',\n",
       " 'It remains to be hoped that the American side will refrain from slipping into propaganda and will act responsibly, following the principle of \"\"do no harm\".',\n",
       " '\"']"
      ]
     },
     "execution_count": 339,
     "metadata": {},
     "output_type": "execute_result"
    }
   ],
   "source": [
    "split_into_sentences(test3)"
   ]
  },
  {
   "cell_type": "code",
   "execution_count": 340,
   "metadata": {},
   "outputs": [
    {
     "data": {
      "text/plain": [
       "['Russia on Wednesday condemned what it called a \"reckless\" Polish proposal to send international peacekeepers into Ukraine and warned that it could lead to a direct clash between Russian and NATO forces.',\n",
       " 'Poland said last Friday it would formally submit a proposal for a peacekeeping mission in Ukraine at the next NATO summit.',\n",
       " 'Asked about the initiative, Kremlin spokesman Dmitry Peskov said: \"It would be a very reckless and extremely dangerous decision\".',\n",
       " 'He told reporters on a conference call that any possible contact between Russian and NATO forces \"could have clear consequences that would be hard to repair\".',\n",
       " 'Russia sent tens of thousands of troops into Ukraine on Feb.',\n",
       " \"24 in what it called a special operation to degrade its southern neighbour's military capabilities and root out people it called dangerous nationalists.\",\n",
       " 'Ukrainian forces have mounted stiff resistance and the West has imposed sweeping sanctions on Russia in an effort to force it to withdraw its forces.',\n",
       " 'Speaking in Kyiv last week, Poland\\'s ruling party leader Jaroslaw Kaczynski said: \"I think that it is necessary to have a peace mission - NATO, possibly some wider international structure - but a mission that will be able to defend itself, which will operate on Ukrainian territory\".',\n",
       " 'Russian Foreign Minister Sergei Lavrov also attacked the proposal in remarks to staff and students at the Moscow State Institute of International Relations on Wednesday.',\n",
       " '\"This will be the direct clash between the Russian and NATO armed forces that everyone has not only tried to avoid but said should not take place in principle,\" he said.']"
      ]
     },
     "execution_count": 340,
     "metadata": {},
     "output_type": "execute_result"
    }
   ],
   "source": [
    "split_into_sentences(test4)"
   ]
  },
  {
   "cell_type": "code",
   "execution_count": 341,
   "metadata": {},
   "outputs": [
    {
     "data": {
      "text/plain": [
       "['We, the Leaders of the Group of Seven (G7), are steadfast in our solidarity with Ukraine,\\r and reaffirm our unwavering commitment to support the government and people of\\r Ukraine in their courageous defence of their country’s sovereignty and territorial integrity,\\r and in their fight for a peaceful, prosperous and democratic future.',\n",
       " 'We welcome the\\r European Council’s decision to grant the status of candidate country to Ukraine and\\r Moldova.',\n",
       " 'We will continue to provide financial, humanitarian, military and diplomatic\\r support and stand with Ukraine for as long as it takes.',\n",
       " 'As we do so, we commit to\\r demonstrate global responsibility and solidarity through working to address the\\r international impacts of Russia’s aggression, especially on the most vulnerable.',\n",
       " 'Condemnation of Russia’s war: We remain appalled by and continue to condemn the\\r brutal, unprovoked, unjustifiable and illegal war of aggression against Ukraine by Russia\\r and aided by Belarus.',\n",
       " 'We condemn and will not recognise Russia’s continued attempts to\\r re-draw borders by force.',\n",
       " 'This devastating war has produced dramatic consequences far\\r beyond Europe.',\n",
       " 'It constitutes a blatant violation of international law, in particular a grave\\r breach of the United Nations Charter.',\n",
       " 'It seriously undermines the international rules-based\\r system that underpins global peace, prosperity, and security.',\n",
       " 'We further condemn Russian\\r attempts to replace Ukrainian democratically elected officials with illegitimate ones.',\n",
       " 'We\\r reiterate our demand that Russia put an end to this war of choice, and immediately,\\r unconditionally cease all hostilities and withdraw its troops and military equipment from\\r the entire territory of Ukraine within its internationally recognised borders.',\n",
       " \"We reiterate\\r our condemnation of Russia's unjustified use of nuclear rhetoric and signaling.\",\n",
       " 'Russia must\\r abide by its international commitments, including those which ban the use of chemical,\\r biological or nuclear weapons.',\n",
       " 'We urge Russia to behave responsibly and exercise restraint,\\r and reiterate that any use of such weapons would be unacceptable and met with severe\\r consequences.',\n",
       " 'In this regard we express serious concern after the announcement by Russia\\r that it could transfer missiles with nuclear capabilities to Belarus.',\n",
       " 'Supporting Ukrainian Efforts to End the War: We are committed to helping Ukraine to\\r uphold its sovereignty and territorial integrity, to defend itself, and to choose its own\\r future.',\n",
       " 'It is up to Ukraine to decide on a future peace settlement, free from external\\r pressure or influence.',\n",
       " 'We will continue to coordinate efforts to meet Ukraine’s urgent\\r requirements for military and defence equipment.',\n",
       " 'We will also continue to coordinate to  provide Ukraine with the material, training and logistic, intelligence, and economic support\\r to build up its armed forces.',\n",
       " 'Commitment to Ukraine’s Security and Resilience: With a view to a viable post-war peace\\r settlement, we are ready to reach arrangements together with interested countries and\\r institutions and Ukraine on sustained security commitments to help Ukraine defend itself,\\r secure its free and democratic future, and deter future Russian aggression.',\n",
       " 'We stand ready\\r to further strengthen Ukraine’s resilience by expanding our cooperation in intelligence and\\r information sharing, information security, as well as maritime security.',\n",
       " 'We will continue\\r supporting Ukraine in defending its networks against cyber incidents and expand our\\r cooperation in the fields of energy security, the safety and security of nuclear material and\\r facilities, environmental, and water use issues.',\n",
       " 'We will continue to support Ukraine in\\r resisting threats to its democratic institutions and their common democratic values and\\r principles, including through support for free media as well as countering disinformation\\r and interference in democratic processes.',\n",
       " 'Humanitarian Assistance: Russia’s war of aggression against Ukraine and the\\r indiscriminate attacks on civilians and civilian infrastructure, have caused immeasurable\\r human suffering and loss of life.',\n",
       " 'As a consequence, we witness today the largest\\r displacement of civilians in Europe since the Second World War.',\n",
       " 'As G7, we have provided\\r and pledged more than USD 2.8 billion in humanitarian assistance so far in 2022.',\n",
       " 'We\\r underline our shared commitment to continue to provide substantial and ongoing\\r humanitarian support to those affected by Russia’s war, in particular to protect the rights\\r of women and children.',\n",
       " 'Supporting Internally Displaced Persons and Refugees: We reaffirm our resolve to protect\\r and support forcibly displaced persons and refugees, and, to provide relief to host\\r countries.',\n",
       " 'We applaud the solidarity and efforts of all countries that support Ukraine by\\r hosting refugees fleeing combat zones.',\n",
       " 'We will enhance our support through the provision\\r of short- and medium-term assistance, as well as strengthening access to a range of\\r support services for those displaced and affected both in Ukraine as well as in other host\\r countries.',\n",
       " 'To this end, we endorse the Moldova Support Platform.',\n",
       " 'We will seek to provide\\r safe passage for refugees, including by further streamlining immigration procedures and\\r visa requirements and strengthening efforts to prevent and respond to the heightened risk\\r of human trafficking among the refugee population, who are disproportionately women\\r and children.',\n",
       " 'We aim to further facilitate the integration of refugees from Ukraine into our\\r labour markets, to protect and ensure their labour rights, and to provide access to adequate\\r social protection and education for as long as necessary.',\n",
       " 'Compliance with International Humanitarian Law: We call on Russia to comply with its\\r obligations under international humanitarian law.',\n",
       " 'We urge Russia to immediately provide  for safe, rapid, and unimpeded humanitarian access and make safe passages work, enabling\\r humanitarian aid to be delivered to besieged cities and civilians to reach safety towards a\\r destination of their choice.',\n",
       " 'Furthermore, we demand that Russia immediately allow the\\r safe return of Ukrainian nationals taken often with force to Russia without their consent.',\n",
       " 'We also underline the need to ensure protection for neutral and impartial humanitarian\\r organisations and their aid workers operating in Ukraine.',\n",
       " 'Russia and its proxies must\\r respect international humanitarian law, including the rights and protections afforded to\\r prisoners of war under the Geneva Conventions.',\n",
       " 'We condemn the sham “trials” resulting\\r in application of the death sentence to members of the Ukrainian Armed Forces.',\n",
       " 'Accountability for War Crimes: There can be no impunity for war crimes and other\\r atrocities.',\n",
       " 'We condemn in the strongest terms ongoing attacks on civilians and noncombatants, the systematic targeting of critical infrastructure, schools and kindergartens,\\r healthcare personnel and facilities, as well as conflict-related sexual and gender-based\\r violence in Ukraine.',\n",
       " 'We further condemn the deliberate targeting of Ukrainian cultural sites\\r and regard the destruction of Ukrainian heritage by Russian forces – and suppression of\\r the Ukrainian language and media in areas illegally occupied by Russia – as an attempt to\\r wipe out Ukraine’s history and cultural identity.',\n",
       " 'We welcome and support the ongoing\\r work to investigate war crimes and other atrocity crimes, including by the Prosecutor of\\r the International Criminal Court (ICC), the independent international commission of\\r inquiry mandated by the United Nations Human Rights Council (UNHRC) and the work of\\r the Expert Missions under the Moscow Mechanism of the Organization for Security and\\r Co-operation in Europe’s (OSCE) as well as the national investigations by the Office of the\\r Prosecutor General of Ukraine.',\n",
       " 'We welcome efforts to increase cooperation between all\\r investigations taking place in Ukraine and will intensify our police and judicial cooperation\\r with Ukraine as well as with relevant organisations.',\n",
       " 'We welcome national investigative and\\r jurisdiction efforts in line with the principle of universal jurisdiction where consistent with\\r domestic law.',\n",
       " 'The immediate perpetrators of war crimes and other atrocity crimes, as well\\r as officials and military leaders responsible for their commission, must be held to account\\r in accordance with international law.',\n",
       " \"Safe Haven for Dissidents Fleeing Russia’s Political Repression: We are concerned by the\\r fact that Russia's brutal war of aggression against Ukraine is accompanied by ever stronger\\r internal repression within Russia, especially against independent journalists, human rights\\r activists and opposition figures, as well as ordinary citizens.\",\n",
       " 'We will make available\\r protection to Russians who are persecuted by the Russian regime, as consistent with our\\r national laws and requirements.',\n",
       " 'Increasing Food Security: Russia bears enormous responsibility for rising threats to global\\r food security as a result of the conflict.',\n",
       " 'Russia’s unprovoked assault on Ukraine – marked\\r by bombing, blockades, and theft – has severely prevented Ukraine from exporting its agricultural products and is hampering its production capacity, leading to steep price rises\\r and increasing global food insecurity for millions, especially those most vulnerable, such as\\r women and children.',\n",
       " 'We urgently call on Russia to cease, without condition, its attacks on\\r agricultural and transport infrastructure and enable free passage of agricultural shipping\\r from Ukrainian ports in the Black Sea.',\n",
       " 'We are united and determined to strongly support\\r Ukraine in producing and exporting grain, oil, and other agricultural products and we will\\r foster coordinated initiatives that promote global food security and address the causes of\\r the evolving a global food crisis.',\n",
       " 'Sanctions: We remain steadfast in our commitment to our unprecedented coordinated\\r sanctions measures in response to Russia’s war of aggression, the impacts of which will\\r compound over time.',\n",
       " 'We are committed to sustaining and intensifying international\\r economic and political pressure on President Putin’s regime and its enablers in Belarus,\\r depriving Russia of the economic means to persist in its war of aggression against Ukraine,\\r and we will continue our targeted use of coordinated sanctions for as long as necessary,\\r acting in unison at every stage.',\n",
       " 'Our use of sanctions is in defence of the rules-based\\r international order that Russia has so egregiously violated.',\n",
       " 'To this end, we endorse the\\r annex on Supporting Ukraine Through Responsible Sanctions Against Russia.',\n",
       " 'In order to further intensify our economic measures against Russia, we collectively commit\\r to taking the following measures in the days and weeks ahead, consistent with our\\r respective legal authorities and processes.',\n",
       " 'We will continue to explore new ways to isolate\\r Russia from participating in the global market and crack down on evasion.',\n",
       " 'We are\\r determined to reduce Russia’s revenues, including from gold.',\n",
       " 'We will also continue to\\r target evasion and backfilling activities.',\n",
       " 'We will further reduce Russia’s export revenues by\\r taking appropriate steps to further reduce dependency on Russian energy, as articulated in\\r the Energy section of our Communique.',\n",
       " 'We will continue to coordinate on tariff measures\\r on imports from Russia and explore possible pathways in line with our respective legislation\\r to use the revenues to assist Ukraine where applicable.',\n",
       " 'We will align and expand targeted\\r sanctions to further restrict Russia’s access to key industrial inputs, services, and\\r technologies produced by our economies, particularly those supporting Russia’s armament\\r industrial base and technology sector.',\n",
       " 'Finally, we will increase the costs of Russia’s war on\\r Ukraine by imposing targeted sanctions on those responsible for war crimes, exercising\\r illegitimate authority in Ukraine, and those standing behind Russia’s engagement in efforts\\r to increase global food insecurity by stealing and exporting Ukrainian grain or otherwise\\r profit illegitimately from the war.',\n",
       " 'As we impose severe costs on Russia and those who are complicit in its aggression, we will\\r continue to assist the global economy and take action to help mitigate spillover effects,\\r especially relating to humanitarian and other basic needs, and vulnerable populations.',\n",
       " 'We\\r will continue to ensure that in taking further measures, we are not targeting food and allow  for the free flow of agricultural products and make every effort to minimise potential\\r negative impacts and spillovers on third countries, in particular low- and middle-income\\r countries.',\n",
       " 'We are united in our commitment to fully implement and enforce these\\r measures and remain vigilant against sanctions evasion and backfilling.',\n",
       " 'Recalling the\\r resolutions of the UN General Assembly on 2nd and 24th March 2022, we call on all\\r countries around the world to stand with us in defending the principles of the UN Charter,\\r and to join us by taking similar actions.',\n",
       " 'Financial and Economic Support: As of today we are ready to grant, or have pledged and\\r provided up to USD 29.5 billion of budget support in 2022 to help Ukraine close its\\r financing gap and continue ensuring the delivery of basic services to the Ukrainian people.',\n",
       " 'Overall, this support is urgently needed and comes on top of the economic support\\r provided since 2014 until 2021, which exceeds USD 60 billion.',\n",
       " 'We welcome and support\\r ongoing work across international financial institutions (IFIs) on further substantial\\r financing to Ukraine, notably the financial support from the World Bank and the\\r International Monetary Fund, including the Bank’s multi-donor financing vehicles for\\r Ukraine and the establishment of the Fund’s Multi-Donor Administered Account for\\r Ukraine.',\n",
       " 'We look forward to additional planned support to Ukrainian state-owned\\r enterprises and the private sector through the European Bank for Reconstruction and\\r Development (EBRD) and the International Finance Corporation which amounts to USD\\r 3.5 billion.',\n",
       " 'We will support the EBRD, including through providing specific support to\\r critical infrastructure, notably to guarantee EBRD loans to gas, power, and transportation\\r companies.',\n",
       " 'Across all our support, we are urgently working on accelerating disbursements\\r of our financial commitments to Ukraine.',\n",
       " 'Furthermore, we commit to assisting Ukraine in\\r maximising its export potential.',\n",
       " 'We task Finance Ministers to continue to work with IFIs\\r and with Ukraine to assess and address its financing needs.',\n",
       " 'We task G7 Trade Ministers to\\r discuss concrete proposals to support Ukraine’s recovery efforts through trade, including\\r for example suspending tariffs on Ukrainian exports.',\n",
       " 'Reconstruction: We recognise the devastating destruction of infrastructure, including\\r basic social and public infrastructure, cities, industry, and agricultural facilities in Ukraine,\\r and the urgent need for immediate reconstruction of critical infrastructure.',\n",
       " 'We stand ready\\r to support an international reconstruction plan, drawn up and implemented by Ukraine in\\r close coordination with bilateral and multilateral partners and organisations in support of\\r a sustainable, resilient, inclusive, and green economic recovery which enhances strong\\r democratic institutions, rule of law, and anti-corruption measures.',\n",
       " 'To this end, we\\r welcome the Presidency’s initiative to convene with Ukraine an international high-level\\r experts conference, to make progress on a comprehensive reconstruction plan.',\n",
       " 'We support\\r the World Bank Group’s support package to Ukraine and the EBRD’s Resilience Package,\\r as well as ongoing work by the European Union and its Member States, considering a  Ukraine reconstruction platform and a solidarity fund.',\n",
       " 'Communities, civil society\\r organisations, including women’s rights organisations, and the private sector should be\\r active participants in planning Ukraine’s future.',\n",
       " 'The recovery and reconstruction plan\\r should build local resilience and social cohesion by ensuring that all members of society,\\r particularly those most affected by the war, equally benefit.',\n",
       " 'We are strongly committed to\\r supporting Ukrainian reconstruction and will step up our respective efforts.',\n",
       " 'We will also\\r explore other viable options to support Ukraine’s humanitarian needs, early recovery, and\\r reconstruction, including using frozen Russian assets consistent with our national laws.',\n",
       " 'We\\r call on all partners to join our efforts, and engage with us to help Ukraine to rebuild its\\r future.']"
      ]
     },
     "execution_count": 341,
     "metadata": {},
     "output_type": "execute_result"
    }
   ],
   "source": [
    "split_into_sentences(test5)"
   ]
  },
  {
   "cell_type": "code",
   "execution_count": 342,
   "metadata": {},
   "outputs": [
    {
     "data": {
      "text/html": [
       "<div>\n",
       "<style scoped>\n",
       "    .dataframe tbody tr th:only-of-type {\n",
       "        vertical-align: middle;\n",
       "    }\n",
       "\n",
       "    .dataframe tbody tr th {\n",
       "        vertical-align: top;\n",
       "    }\n",
       "\n",
       "    .dataframe thead th {\n",
       "        text-align: right;\n",
       "    }\n",
       "</style>\n",
       "<table border=\"1\" class=\"dataframe\">\n",
       "  <thead>\n",
       "    <tr style=\"text-align: right;\">\n",
       "      <th></th>\n",
       "      <th>date</th>\n",
       "      <th>text</th>\n",
       "      <th>side</th>\n",
       "      <th>label</th>\n",
       "    </tr>\n",
       "  </thead>\n",
       "  <tbody>\n",
       "    <tr>\n",
       "      <th>0</th>\n",
       "      <td>2000-01-01</td>\n",
       "      <td>lets</td>\n",
       "      <td>see if</td>\n",
       "      <td>it works</td>\n",
       "    </tr>\n",
       "  </tbody>\n",
       "</table>\n",
       "</div>"
      ],
      "text/plain": [
       "         date  text    side     label\n",
       "0  2000-01-01  lets  see if  it works"
      ]
     },
     "execution_count": 342,
     "metadata": {},
     "output_type": "execute_result"
    }
   ],
   "source": [
    "dataframe = {'date': '2000-01-01',\n",
    "            'text': 'lets',\n",
    "            'side': 'see if',\n",
    "            'label': 'it works'}\n",
    "dataframe_init = pd.DataFrame(dataframe, index=[0])\n",
    "dataframe_init"
   ]
  },
  {
   "cell_type": "code",
   "execution_count": 343,
   "metadata": {},
   "outputs": [],
   "source": [
    "# text1 = split_into_sentences(df['text'][0])\n",
    "# np.asarray(text1)"
   ]
  },
  {
   "cell_type": "code",
   "execution_count": 344,
   "metadata": {},
   "outputs": [],
   "source": [
    "# side1 = np.asarray([df['side'][0]]*len(text1))\n",
    "# label1 = np.asarray([df['label'][0]]*len(text1))\n",
    "# date1 = np.asarray([df['date'][0]]*len(text1))"
   ]
  },
  {
   "cell_type": "code",
   "execution_count": 345,
   "metadata": {},
   "outputs": [],
   "source": [
    "# data_test = {'date1': date1,\n",
    "#         'text1': text1,\n",
    "#         'side1': side1,\n",
    "#         'label1': label1}\n",
    "\n"
   ]
  },
  {
   "cell_type": "code",
   "execution_count": 346,
   "metadata": {},
   "outputs": [],
   "source": [
    "# df_test = pd.DataFrame(data)"
   ]
  },
  {
   "cell_type": "code",
   "execution_count": 347,
   "metadata": {},
   "outputs": [],
   "source": [
    "# df_test"
   ]
  },
  {
   "cell_type": "code",
   "execution_count": 348,
   "metadata": {},
   "outputs": [],
   "source": [
    "# dataframe_init = pd.concat([dataframe_init, df_test])"
   ]
  },
  {
   "cell_type": "code",
   "execution_count": 349,
   "metadata": {},
   "outputs": [],
   "source": [
    "# dataframe_init"
   ]
  },
  {
   "cell_type": "code",
   "execution_count": 350,
   "metadata": {},
   "outputs": [],
   "source": [
    "for i in range(df.shape[0]-1):\n",
    "    curr_text = np.asarray(split_into_sentences(df['text'][i]))\n",
    "    curr_side = np.asarray([df['side'][i]]*len(curr_text))\n",
    "    curr_label = np.asarray([df['label'][i]]*len(curr_text))\n",
    "    curr_date = np.asarray([df['date'][i]]*len(curr_text))\n",
    "    curr_data = {'date': curr_date,\n",
    "                'text': curr_text,\n",
    "                'side': curr_side,\n",
    "                'label': curr_label}\n",
    "    df_temp = pd.DataFrame(curr_data)\n",
    "    dataframe_init = pd.concat([dataframe_init, df_temp])\n",
    "    \n",
    "\n"
   ]
  },
  {
   "cell_type": "code",
   "execution_count": 351,
   "metadata": {},
   "outputs": [
    {
     "data": {
      "text/plain": [
       "62"
      ]
     },
     "execution_count": 351,
     "metadata": {},
     "output_type": "execute_result"
    }
   ],
   "source": [
    "len(dataframe_init['date'].unique())"
   ]
  },
  {
   "cell_type": "code",
   "execution_count": 352,
   "metadata": {},
   "outputs": [
    {
     "data": {
      "text/plain": [
       "array(['it works', 'W', 'E', 'D'], dtype=object)"
      ]
     },
     "execution_count": 352,
     "metadata": {},
     "output_type": "execute_result"
    }
   ],
   "source": [
    "dataframe_init['label'].unique()"
   ]
  },
  {
   "cell_type": "code",
   "execution_count": 353,
   "metadata": {},
   "outputs": [
    {
     "data": {
      "text/plain": [
       "array(['see if', 'r', 'w'], dtype=object)"
      ]
     },
     "execution_count": 353,
     "metadata": {},
     "output_type": "execute_result"
    }
   ],
   "source": [
    "dataframe_init['side'].unique()"
   ]
  },
  {
   "cell_type": "code",
   "execution_count": 355,
   "metadata": {},
   "outputs": [],
   "source": [
    "df_final = dataframe_init.iloc[1:, :]"
   ]
  },
  {
   "cell_type": "code",
   "execution_count": 356,
   "metadata": {},
   "outputs": [
    {
     "data": {
      "text/html": [
       "<div>\n",
       "<style scoped>\n",
       "    .dataframe tbody tr th:only-of-type {\n",
       "        vertical-align: middle;\n",
       "    }\n",
       "\n",
       "    .dataframe tbody tr th {\n",
       "        vertical-align: top;\n",
       "    }\n",
       "\n",
       "    .dataframe thead th {\n",
       "        text-align: right;\n",
       "    }\n",
       "</style>\n",
       "<table border=\"1\" class=\"dataframe\">\n",
       "  <thead>\n",
       "    <tr style=\"text-align: right;\">\n",
       "      <th></th>\n",
       "      <th>date</th>\n",
       "      <th>text</th>\n",
       "      <th>side</th>\n",
       "      <th>label</th>\n",
       "    </tr>\n",
       "  </thead>\n",
       "  <tbody>\n",
       "    <tr>\n",
       "      <th>0</th>\n",
       "      <td>2022-01-27 00:00:00</td>\n",
       "      <td>Medvedev sees no need to review Russia’s nucle...</td>\n",
       "      <td>r</td>\n",
       "      <td>W</td>\n",
       "    </tr>\n",
       "    <tr>\n",
       "      <th>1</th>\n",
       "      <td>2022-01-27 00:00:00</td>\n",
       "      <td>/TASS/.</td>\n",
       "      <td>r</td>\n",
       "      <td>W</td>\n",
       "    </tr>\n",
       "    <tr>\n",
       "      <th>2</th>\n",
       "      <td>2022-01-27 00:00:00</td>\n",
       "      <td>There is no need to review Russia’s nuclear do...</td>\n",
       "      <td>r</td>\n",
       "      <td>W</td>\n",
       "    </tr>\n",
       "    <tr>\n",
       "      <th>3</th>\n",
       "      <td>2022-01-27 00:00:00</td>\n",
       "      <td>\"As for reviewing the nuclear doctrine, I don’...</td>\n",
       "      <td>r</td>\n",
       "      <td>W</td>\n",
       "    </tr>\n",
       "    <tr>\n",
       "      <th>4</th>\n",
       "      <td>2022-01-27 00:00:00</td>\n",
       "      <td>Medvedev explained that all the necessary aspe...</td>\n",
       "      <td>r</td>\n",
       "      <td>W</td>\n",
       "    </tr>\n",
       "    <tr>\n",
       "      <th>...</th>\n",
       "      <td>...</td>\n",
       "      <td>...</td>\n",
       "      <td>...</td>\n",
       "      <td>...</td>\n",
       "    </tr>\n",
       "    <tr>\n",
       "      <th>53</th>\n",
       "      <td>2022-08-22 00:00:00</td>\n",
       "      <td>When and under what conditions can this exchan...</td>\n",
       "      <td>r</td>\n",
       "      <td>D</td>\n",
       "    </tr>\n",
       "    <tr>\n",
       "      <th>54</th>\n",
       "      <td>2022-08-22 00:00:00</td>\n",
       "      <td>- The issue of the exchange of imprisoned citi...</td>\n",
       "      <td>r</td>\n",
       "      <td>D</td>\n",
       "    </tr>\n",
       "    <tr>\n",
       "      <th>55</th>\n",
       "      <td>2022-08-22 00:00:00</td>\n",
       "      <td>We have repeatedly called on Washington to obs...</td>\n",
       "      <td>r</td>\n",
       "      <td>D</td>\n",
       "    </tr>\n",
       "    <tr>\n",
       "      <th>56</th>\n",
       "      <td>2022-08-22 00:00:00</td>\n",
       "      <td>This is how we managed to free Russian pilot K...</td>\n",
       "      <td>r</td>\n",
       "      <td>D</td>\n",
       "    </tr>\n",
       "    <tr>\n",
       "      <th>57</th>\n",
       "      <td>2022-08-22 00:00:00</td>\n",
       "      <td>It remains to be hoped that the American side ...</td>\n",
       "      <td>r</td>\n",
       "      <td>D</td>\n",
       "    </tr>\n",
       "  </tbody>\n",
       "</table>\n",
       "<p>6809 rows × 4 columns</p>\n",
       "</div>"
      ],
      "text/plain": [
       "                   date                                               text   \n",
       "0   2022-01-27 00:00:00  Medvedev sees no need to review Russia’s nucle...  \\\n",
       "1   2022-01-27 00:00:00                                            /TASS/.   \n",
       "2   2022-01-27 00:00:00  There is no need to review Russia’s nuclear do...   \n",
       "3   2022-01-27 00:00:00  \"As for reviewing the nuclear doctrine, I don’...   \n",
       "4   2022-01-27 00:00:00  Medvedev explained that all the necessary aspe...   \n",
       "..                  ...                                                ...   \n",
       "53  2022-08-22 00:00:00  When and under what conditions can this exchan...   \n",
       "54  2022-08-22 00:00:00  - The issue of the exchange of imprisoned citi...   \n",
       "55  2022-08-22 00:00:00  We have repeatedly called on Washington to obs...   \n",
       "56  2022-08-22 00:00:00  This is how we managed to free Russian pilot K...   \n",
       "57  2022-08-22 00:00:00  It remains to be hoped that the American side ...   \n",
       "\n",
       "   side label  \n",
       "0     r     W  \n",
       "1     r     W  \n",
       "2     r     W  \n",
       "3     r     W  \n",
       "4     r     W  \n",
       "..  ...   ...  \n",
       "53    r     D  \n",
       "54    r     D  \n",
       "55    r     D  \n",
       "56    r     D  \n",
       "57    r     D  \n",
       "\n",
       "[6809 rows x 4 columns]"
      ]
     },
     "execution_count": 356,
     "metadata": {},
     "output_type": "execute_result"
    }
   ],
   "source": [
    "df_final"
   ]
  },
  {
   "cell_type": "code",
   "execution_count": 359,
   "metadata": {},
   "outputs": [
    {
     "data": {
      "text/plain": [
       "date     datetime64[ns]\n",
       "text     string[python]\n",
       "side     string[python]\n",
       "label    string[python]\n",
       "dtype: object"
      ]
     },
     "execution_count": 359,
     "metadata": {},
     "output_type": "execute_result"
    }
   ],
   "source": [
    "df_final = df_final.convert_dtypes()\n",
    "df_final.dtypes"
   ]
  },
  {
   "cell_type": "code",
   "execution_count": 360,
   "metadata": {},
   "outputs": [
    {
     "data": {
      "text/plain": [
       "date     0\n",
       "text     0\n",
       "side     0\n",
       "label    0\n",
       "dtype: int64"
      ]
     },
     "execution_count": 360,
     "metadata": {},
     "output_type": "execute_result"
    }
   ],
   "source": [
    "df_final.isnull().sum()"
   ]
  },
  {
   "attachments": {},
   "cell_type": "markdown",
   "metadata": {},
   "source": [
    "## Writing the final dataframe into a .csv file"
   ]
  },
  {
   "cell_type": "code",
   "execution_count": 368,
   "metadata": {},
   "outputs": [],
   "source": [
    "df_final.to_csv('datasets/dataset.csv', index=False)"
   ]
  },
  {
   "attachments": {},
   "cell_type": "markdown",
   "metadata": {},
   "source": [
    "### Checking if it was saved correctly"
   ]
  },
  {
   "cell_type": "code",
   "execution_count": 369,
   "metadata": {},
   "outputs": [
    {
     "data": {
      "text/html": [
       "<div>\n",
       "<style scoped>\n",
       "    .dataframe tbody tr th:only-of-type {\n",
       "        vertical-align: middle;\n",
       "    }\n",
       "\n",
       "    .dataframe tbody tr th {\n",
       "        vertical-align: top;\n",
       "    }\n",
       "\n",
       "    .dataframe thead th {\n",
       "        text-align: right;\n",
       "    }\n",
       "</style>\n",
       "<table border=\"1\" class=\"dataframe\">\n",
       "  <thead>\n",
       "    <tr style=\"text-align: right;\">\n",
       "      <th></th>\n",
       "      <th>date</th>\n",
       "      <th>text</th>\n",
       "      <th>side</th>\n",
       "      <th>label</th>\n",
       "    </tr>\n",
       "  </thead>\n",
       "  <tbody>\n",
       "    <tr>\n",
       "      <th>0</th>\n",
       "      <td>2022-01-27</td>\n",
       "      <td>Medvedev sees no need to review Russia’s nucle...</td>\n",
       "      <td>r</td>\n",
       "      <td>W</td>\n",
       "    </tr>\n",
       "    <tr>\n",
       "      <th>1</th>\n",
       "      <td>2022-01-27</td>\n",
       "      <td>/TASS/.</td>\n",
       "      <td>r</td>\n",
       "      <td>W</td>\n",
       "    </tr>\n",
       "    <tr>\n",
       "      <th>2</th>\n",
       "      <td>2022-01-27</td>\n",
       "      <td>There is no need to review Russia’s nuclear do...</td>\n",
       "      <td>r</td>\n",
       "      <td>W</td>\n",
       "    </tr>\n",
       "    <tr>\n",
       "      <th>3</th>\n",
       "      <td>2022-01-27</td>\n",
       "      <td>\"As for reviewing the nuclear doctrine, I don’...</td>\n",
       "      <td>r</td>\n",
       "      <td>W</td>\n",
       "    </tr>\n",
       "    <tr>\n",
       "      <th>4</th>\n",
       "      <td>2022-01-27</td>\n",
       "      <td>Medvedev explained that all the necessary aspe...</td>\n",
       "      <td>r</td>\n",
       "      <td>W</td>\n",
       "    </tr>\n",
       "    <tr>\n",
       "      <th>...</th>\n",
       "      <td>...</td>\n",
       "      <td>...</td>\n",
       "      <td>...</td>\n",
       "      <td>...</td>\n",
       "    </tr>\n",
       "    <tr>\n",
       "      <th>6804</th>\n",
       "      <td>2022-08-22</td>\n",
       "      <td>When and under what conditions can this exchan...</td>\n",
       "      <td>r</td>\n",
       "      <td>D</td>\n",
       "    </tr>\n",
       "    <tr>\n",
       "      <th>6805</th>\n",
       "      <td>2022-08-22</td>\n",
       "      <td>- The issue of the exchange of imprisoned citi...</td>\n",
       "      <td>r</td>\n",
       "      <td>D</td>\n",
       "    </tr>\n",
       "    <tr>\n",
       "      <th>6806</th>\n",
       "      <td>2022-08-22</td>\n",
       "      <td>We have repeatedly called on Washington to obs...</td>\n",
       "      <td>r</td>\n",
       "      <td>D</td>\n",
       "    </tr>\n",
       "    <tr>\n",
       "      <th>6807</th>\n",
       "      <td>2022-08-22</td>\n",
       "      <td>This is how we managed to free Russian pilot K...</td>\n",
       "      <td>r</td>\n",
       "      <td>D</td>\n",
       "    </tr>\n",
       "    <tr>\n",
       "      <th>6808</th>\n",
       "      <td>2022-08-22</td>\n",
       "      <td>It remains to be hoped that the American side ...</td>\n",
       "      <td>r</td>\n",
       "      <td>D</td>\n",
       "    </tr>\n",
       "  </tbody>\n",
       "</table>\n",
       "<p>6809 rows × 4 columns</p>\n",
       "</div>"
      ],
      "text/plain": [
       "            date                                               text side label\n",
       "0     2022-01-27  Medvedev sees no need to review Russia’s nucle...    r     W\n",
       "1     2022-01-27                                            /TASS/.    r     W\n",
       "2     2022-01-27  There is no need to review Russia’s nuclear do...    r     W\n",
       "3     2022-01-27  \"As for reviewing the nuclear doctrine, I don’...    r     W\n",
       "4     2022-01-27  Medvedev explained that all the necessary aspe...    r     W\n",
       "...          ...                                                ...  ...   ...\n",
       "6804  2022-08-22  When and under what conditions can this exchan...    r     D\n",
       "6805  2022-08-22  - The issue of the exchange of imprisoned citi...    r     D\n",
       "6806  2022-08-22  We have repeatedly called on Washington to obs...    r     D\n",
       "6807  2022-08-22  This is how we managed to free Russian pilot K...    r     D\n",
       "6808  2022-08-22  It remains to be hoped that the American side ...    r     D\n",
       "\n",
       "[6809 rows x 4 columns]"
      ]
     },
     "execution_count": 369,
     "metadata": {},
     "output_type": "execute_result"
    }
   ],
   "source": [
    "#include the lineterminator parameter becasue it won't run otherwise.\n",
    "checking_df = pd.read_csv('datasets/dataset.csv', lineterminator='\\n') \n",
    "checking_df"
   ]
  },
  {
   "cell_type": "code",
   "execution_count": 370,
   "metadata": {},
   "outputs": [
    {
     "data": {
      "text/plain": [
       "(6809, 4)"
      ]
     },
     "execution_count": 370,
     "metadata": {},
     "output_type": "execute_result"
    }
   ],
   "source": [
    "checking_df.shape"
   ]
  },
  {
   "cell_type": "code",
   "execution_count": 372,
   "metadata": {},
   "outputs": [
    {
     "data": {
      "text/plain": [
       "date     0\n",
       "text     0\n",
       "side     0\n",
       "label    0\n",
       "dtype: int64"
      ]
     },
     "execution_count": 372,
     "metadata": {},
     "output_type": "execute_result"
    }
   ],
   "source": [
    "checking_df.isnull().sum()"
   ]
  }
 ],
 "metadata": {
  "kernelspec": {
   "display_name": "Python 3",
   "language": "python",
   "name": "python3"
  },
  "language_info": {
   "codemirror_mode": {
    "name": "ipython",
    "version": 3
   },
   "file_extension": ".py",
   "mimetype": "text/x-python",
   "name": "python",
   "nbconvert_exporter": "python",
   "pygments_lexer": "ipython3",
   "version": "3.11.1"
  },
  "orig_nbformat": 4
 },
 "nbformat": 4,
 "nbformat_minor": 2
}
